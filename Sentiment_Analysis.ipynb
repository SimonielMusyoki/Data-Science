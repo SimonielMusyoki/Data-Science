{
  "nbformat": 4,
  "nbformat_minor": 0,
  "metadata": {
    "colab": {
      "name": "Sentiment Analysis",
      "provenance": [],
      "collapsed_sections": [
        "Hdl4TiFF6vO8",
        "U0fc83VYAhsw"
      ],
      "authorship_tag": "ABX9TyOsQkJX21A12ji4TYa9+bYk",
      "include_colab_link": true
    },
    "kernelspec": {
      "name": "python3",
      "display_name": "Python 3"
    },
    "language_info": {
      "name": "python"
    }
  },
  "cells": [
    {
      "cell_type": "markdown",
      "metadata": {
        "id": "view-in-github",
        "colab_type": "text"
      },
      "source": [
        "<a href=\"https://colab.research.google.com/github/SimonielMusyoki/Data-Science/blob/master/Sentiment_Analysis.ipynb\" target=\"_parent\"><img src=\"https://colab.research.google.com/assets/colab-badge.svg\" alt=\"Open In Colab\"/></a>"
      ]
    },
    {
      "cell_type": "markdown",
      "source": [
        "## **Task 1**"
      ],
      "metadata": {
        "id": "Hdl4TiFF6vO8"
      }
    },
    {
      "cell_type": "code",
      "execution_count": 2,
      "metadata": {
        "id": "kyLHG3Ur6gSq"
      },
      "outputs": [],
      "source": [
        "# Importing Libraries\n",
        "import pandas as pd\n",
        "import numpy as np\n",
        "import spacy\n",
        "import re\n",
        "\n",
        "import nltk\n",
        "from nltk.stem import WordNetLemmatizer\n",
        "from nltk.corpus import stopwords\n",
        "\n",
        "from sklearn.model_selection import train_test_split\n",
        "from sklearn.feature_extraction.text import TfidfVectorizer\n",
        "from sklearn.svm import LinearSVC\n",
        "from sklearn.linear_model import LogisticRegression\n",
        "from sklearn.metrics import classification_report\n",
        "\n",
        "from bs4 import BeautifulSoup\n"
      ]
    },
    {
      "cell_type": "code",
      "source": [
        "# Set up\n",
        "nlp = spacy.load(\"en\", disable=[\"parser\", \"ner\"])\n",
        "nltk.download('stopwords')\n",
        "nltk.download('punkt')\n",
        "nltk.download('wordnet')\n",
        "stopwords = nltk.corpus.stopwords.words('english')\n",
        "stopwords_lower = [s.lower() for s in stopwords]\n",
        "np.warnings.filterwarnings('ignore')"
      ],
      "metadata": {
        "colab": {
          "base_uri": "https://localhost:8080/"
        },
        "id": "yttkSil36-bc",
        "outputId": "dc7ba05b-2f0b-4a6a-c31a-301e47a83dec"
      },
      "execution_count": 3,
      "outputs": [
        {
          "output_type": "stream",
          "name": "stdout",
          "text": [
            "[nltk_data] Downloading package stopwords to /root/nltk_data...\n",
            "[nltk_data]   Unzipping corpora/stopwords.zip.\n",
            "[nltk_data] Downloading package punkt to /root/nltk_data...\n",
            "[nltk_data]   Unzipping tokenizers/punkt.zip.\n",
            "[nltk_data] Downloading package wordnet to /root/nltk_data...\n",
            "[nltk_data]   Unzipping corpora/wordnet.zip.\n"
          ]
        }
      ]
    },
    {
      "cell_type": "code",
      "source": [
        "# Read data from CSV\n",
        "df = pd.read_csv('data.csv', index_col=0)\n",
        "df.head()"
      ],
      "metadata": {
        "colab": {
          "base_uri": "https://localhost:8080/",
          "height": 368
        },
        "id": "quTYDRKu7r7h",
        "outputId": "9c757a3e-1f0b-4333-f271-fd337ab54031"
      },
      "execution_count": 4,
      "outputs": [
        {
          "output_type": "execute_result",
          "data": {
            "text/plain": [
              "                                                    stars  \\\n",
              "title                                                       \n",
              "The herbs were great...but the cherry tomatoes....      2   \n",
              "Even more useful than regular parchment paper           5   \n",
              "Shake it before you bake it                             2   \n",
              "Not what the picture describes                          2   \n",
              "What a ripe off - GIVE ME A BREAK                       2   \n",
              "\n",
              "                                                                                               review  \\\n",
              "title                                                                                                   \n",
              "The herbs were great...but the cherry tomatoes....  The herb kit that came with my Aerogarden was ...   \n",
              "Even more useful than regular parchment paper       I originally bought this just because it was c...   \n",
              "Shake it before you bake it                         If you do it in reverse (bake before shaking),...   \n",
              "Not what the picture describes                      I bought this steak for my father in law for C...   \n",
              "What a ripe off - GIVE ME A BREAK                   Sorry but I had these noodles and they are no ...   \n",
              "\n",
              "                                                    helpful_votes  total_votes  \n",
              "title                                                                           \n",
              "The herbs were great...but the cherry tomatoes....             15           17  \n",
              "Even more useful than regular parchment paper                  19           19  \n",
              "Shake it before you bake it                                     2           13  \n",
              "Not what the picture describes                                  7           14  \n",
              "What a ripe off - GIVE ME A BREAK                              10           34  "
            ],
            "text/html": [
              "\n",
              "  <div id=\"df-56c4b903-1a27-48e2-8c98-30ea9727ad65\">\n",
              "    <div class=\"colab-df-container\">\n",
              "      <div>\n",
              "<style scoped>\n",
              "    .dataframe tbody tr th:only-of-type {\n",
              "        vertical-align: middle;\n",
              "    }\n",
              "\n",
              "    .dataframe tbody tr th {\n",
              "        vertical-align: top;\n",
              "    }\n",
              "\n",
              "    .dataframe thead th {\n",
              "        text-align: right;\n",
              "    }\n",
              "</style>\n",
              "<table border=\"1\" class=\"dataframe\">\n",
              "  <thead>\n",
              "    <tr style=\"text-align: right;\">\n",
              "      <th></th>\n",
              "      <th>stars</th>\n",
              "      <th>review</th>\n",
              "      <th>helpful_votes</th>\n",
              "      <th>total_votes</th>\n",
              "    </tr>\n",
              "    <tr>\n",
              "      <th>title</th>\n",
              "      <th></th>\n",
              "      <th></th>\n",
              "      <th></th>\n",
              "      <th></th>\n",
              "    </tr>\n",
              "  </thead>\n",
              "  <tbody>\n",
              "    <tr>\n",
              "      <th>The herbs were great...but the cherry tomatoes...not so great</th>\n",
              "      <td>2</td>\n",
              "      <td>The herb kit that came with my Aerogarden was ...</td>\n",
              "      <td>15</td>\n",
              "      <td>17</td>\n",
              "    </tr>\n",
              "    <tr>\n",
              "      <th>Even more useful than regular parchment paper</th>\n",
              "      <td>5</td>\n",
              "      <td>I originally bought this just because it was c...</td>\n",
              "      <td>19</td>\n",
              "      <td>19</td>\n",
              "    </tr>\n",
              "    <tr>\n",
              "      <th>Shake it before you bake it</th>\n",
              "      <td>2</td>\n",
              "      <td>If you do it in reverse (bake before shaking),...</td>\n",
              "      <td>2</td>\n",
              "      <td>13</td>\n",
              "    </tr>\n",
              "    <tr>\n",
              "      <th>Not what the picture describes</th>\n",
              "      <td>2</td>\n",
              "      <td>I bought this steak for my father in law for C...</td>\n",
              "      <td>7</td>\n",
              "      <td>14</td>\n",
              "    </tr>\n",
              "    <tr>\n",
              "      <th>What a ripe off - GIVE ME A BREAK</th>\n",
              "      <td>2</td>\n",
              "      <td>Sorry but I had these noodles and they are no ...</td>\n",
              "      <td>10</td>\n",
              "      <td>34</td>\n",
              "    </tr>\n",
              "  </tbody>\n",
              "</table>\n",
              "</div>\n",
              "      <button class=\"colab-df-convert\" onclick=\"convertToInteractive('df-56c4b903-1a27-48e2-8c98-30ea9727ad65')\"\n",
              "              title=\"Convert this dataframe to an interactive table.\"\n",
              "              style=\"display:none;\">\n",
              "        \n",
              "  <svg xmlns=\"http://www.w3.org/2000/svg\" height=\"24px\"viewBox=\"0 0 24 24\"\n",
              "       width=\"24px\">\n",
              "    <path d=\"M0 0h24v24H0V0z\" fill=\"none\"/>\n",
              "    <path d=\"M18.56 5.44l.94 2.06.94-2.06 2.06-.94-2.06-.94-.94-2.06-.94 2.06-2.06.94zm-11 1L8.5 8.5l.94-2.06 2.06-.94-2.06-.94L8.5 2.5l-.94 2.06-2.06.94zm10 10l.94 2.06.94-2.06 2.06-.94-2.06-.94-.94-2.06-.94 2.06-2.06.94z\"/><path d=\"M17.41 7.96l-1.37-1.37c-.4-.4-.92-.59-1.43-.59-.52 0-1.04.2-1.43.59L10.3 9.45l-7.72 7.72c-.78.78-.78 2.05 0 2.83L4 21.41c.39.39.9.59 1.41.59.51 0 1.02-.2 1.41-.59l7.78-7.78 2.81-2.81c.8-.78.8-2.07 0-2.86zM5.41 20L4 18.59l7.72-7.72 1.47 1.35L5.41 20z\"/>\n",
              "  </svg>\n",
              "      </button>\n",
              "      \n",
              "  <style>\n",
              "    .colab-df-container {\n",
              "      display:flex;\n",
              "      flex-wrap:wrap;\n",
              "      gap: 12px;\n",
              "    }\n",
              "\n",
              "    .colab-df-convert {\n",
              "      background-color: #E8F0FE;\n",
              "      border: none;\n",
              "      border-radius: 50%;\n",
              "      cursor: pointer;\n",
              "      display: none;\n",
              "      fill: #1967D2;\n",
              "      height: 32px;\n",
              "      padding: 0 0 0 0;\n",
              "      width: 32px;\n",
              "    }\n",
              "\n",
              "    .colab-df-convert:hover {\n",
              "      background-color: #E2EBFA;\n",
              "      box-shadow: 0px 1px 2px rgba(60, 64, 67, 0.3), 0px 1px 3px 1px rgba(60, 64, 67, 0.15);\n",
              "      fill: #174EA6;\n",
              "    }\n",
              "\n",
              "    [theme=dark] .colab-df-convert {\n",
              "      background-color: #3B4455;\n",
              "      fill: #D2E3FC;\n",
              "    }\n",
              "\n",
              "    [theme=dark] .colab-df-convert:hover {\n",
              "      background-color: #434B5C;\n",
              "      box-shadow: 0px 1px 3px 1px rgba(0, 0, 0, 0.15);\n",
              "      filter: drop-shadow(0px 1px 2px rgba(0, 0, 0, 0.3));\n",
              "      fill: #FFFFFF;\n",
              "    }\n",
              "  </style>\n",
              "\n",
              "      <script>\n",
              "        const buttonEl =\n",
              "          document.querySelector('#df-56c4b903-1a27-48e2-8c98-30ea9727ad65 button.colab-df-convert');\n",
              "        buttonEl.style.display =\n",
              "          google.colab.kernel.accessAllowed ? 'block' : 'none';\n",
              "\n",
              "        async function convertToInteractive(key) {\n",
              "          const element = document.querySelector('#df-56c4b903-1a27-48e2-8c98-30ea9727ad65');\n",
              "          const dataTable =\n",
              "            await google.colab.kernel.invokeFunction('convertToInteractive',\n",
              "                                                     [key], {});\n",
              "          if (!dataTable) return;\n",
              "\n",
              "          const docLinkHtml = 'Like what you see? Visit the ' +\n",
              "            '<a target=\"_blank\" href=https://colab.research.google.com/notebooks/data_table.ipynb>data table notebook</a>'\n",
              "            + ' to learn more about interactive tables.';\n",
              "          element.innerHTML = '';\n",
              "          dataTable['output_type'] = 'display_data';\n",
              "          await google.colab.output.renderOutput(dataTable, element);\n",
              "          const docLink = document.createElement('div');\n",
              "          docLink.innerHTML = docLinkHtml;\n",
              "          element.appendChild(docLink);\n",
              "        }\n",
              "      </script>\n",
              "    </div>\n",
              "  </div>\n",
              "  "
            ]
          },
          "metadata": {},
          "execution_count": 4
        }
      ]
    },
    {
      "cell_type": "markdown",
      "source": [
        "##### Data Cleaning"
      ],
      "metadata": {
        "id": "mWD4H_Lp9ZDI"
      }
    },
    {
      "cell_type": "code",
      "source": [
        "# Remove Null values\n",
        "df=df.dropna()\n",
        "df = df.reset_index(drop=True)"
      ],
      "metadata": {
        "id": "VYqtzUyU9fj9"
      },
      "execution_count": 5,
      "outputs": []
    },
    {
      "cell_type": "code",
      "source": [
        "# Convert star and votes to integers\n",
        "df['stars'] = df['stars'].astype(int)\n",
        "df['helpful_votes'] = df['helpful_votes'].astype(int)\n",
        "df['total_votes'] = df['total_votes'].astype(int)"
      ],
      "metadata": {
        "id": "4znpIx8x-H-p"
      },
      "execution_count": 6,
      "outputs": []
    },
    {
      "cell_type": "code",
      "source": [
        "# Assign a class label \"positive/negative\" to reviews\n",
        "df['label']=np.where(df[\"stars\"]>=4,1,0) #1-Positve,0-Negative\n",
        "df"
      ],
      "metadata": {
        "colab": {
          "base_uri": "https://localhost:8080/",
          "height": 424
        },
        "id": "b5R6by0J-LKV",
        "outputId": "77ca79d8-1572-4c05-83ec-9a62d4d0cd1c"
      },
      "execution_count": 7,
      "outputs": [
        {
          "output_type": "execute_result",
          "data": {
            "text/plain": [
              "      stars                                             review  helpful_votes  \\\n",
              "0         2  The herb kit that came with my Aerogarden was ...             15   \n",
              "1         5  I originally bought this just because it was c...             19   \n",
              "2         2  If you do it in reverse (bake before shaking),...              2   \n",
              "3         2  I bought this steak for my father in law for C...              7   \n",
              "4         2  Sorry but I had these noodles and they are no ...             10   \n",
              "...     ...                                                ...            ...   \n",
              "8992      1  The product description claims \"It contains no...             24   \n",
              "8993      1  What a disappointment!!!!!!!!!!!! I bought the...              4   \n",
              "8994      3  The jury is still out on this item. Perhaps it...              2   \n",
              "8995      1  I hope this review helps others save their mon...              8   \n",
              "8996      5  Tastes better than 90% of the 'slimming' teas ...             12   \n",
              "\n",
              "      total_votes  label  \n",
              "0              17      0  \n",
              "1              19      1  \n",
              "2              13      0  \n",
              "3              14      0  \n",
              "4              34      0  \n",
              "...           ...    ...  \n",
              "8992           38      0  \n",
              "8993           12      0  \n",
              "8994           21      0  \n",
              "8995           15      0  \n",
              "8996           12      1  \n",
              "\n",
              "[8997 rows x 5 columns]"
            ],
            "text/html": [
              "\n",
              "  <div id=\"df-20837afe-bafd-4960-96e6-2e8867e834c0\">\n",
              "    <div class=\"colab-df-container\">\n",
              "      <div>\n",
              "<style scoped>\n",
              "    .dataframe tbody tr th:only-of-type {\n",
              "        vertical-align: middle;\n",
              "    }\n",
              "\n",
              "    .dataframe tbody tr th {\n",
              "        vertical-align: top;\n",
              "    }\n",
              "\n",
              "    .dataframe thead th {\n",
              "        text-align: right;\n",
              "    }\n",
              "</style>\n",
              "<table border=\"1\" class=\"dataframe\">\n",
              "  <thead>\n",
              "    <tr style=\"text-align: right;\">\n",
              "      <th></th>\n",
              "      <th>stars</th>\n",
              "      <th>review</th>\n",
              "      <th>helpful_votes</th>\n",
              "      <th>total_votes</th>\n",
              "      <th>label</th>\n",
              "    </tr>\n",
              "  </thead>\n",
              "  <tbody>\n",
              "    <tr>\n",
              "      <th>0</th>\n",
              "      <td>2</td>\n",
              "      <td>The herb kit that came with my Aerogarden was ...</td>\n",
              "      <td>15</td>\n",
              "      <td>17</td>\n",
              "      <td>0</td>\n",
              "    </tr>\n",
              "    <tr>\n",
              "      <th>1</th>\n",
              "      <td>5</td>\n",
              "      <td>I originally bought this just because it was c...</td>\n",
              "      <td>19</td>\n",
              "      <td>19</td>\n",
              "      <td>1</td>\n",
              "    </tr>\n",
              "    <tr>\n",
              "      <th>2</th>\n",
              "      <td>2</td>\n",
              "      <td>If you do it in reverse (bake before shaking),...</td>\n",
              "      <td>2</td>\n",
              "      <td>13</td>\n",
              "      <td>0</td>\n",
              "    </tr>\n",
              "    <tr>\n",
              "      <th>3</th>\n",
              "      <td>2</td>\n",
              "      <td>I bought this steak for my father in law for C...</td>\n",
              "      <td>7</td>\n",
              "      <td>14</td>\n",
              "      <td>0</td>\n",
              "    </tr>\n",
              "    <tr>\n",
              "      <th>4</th>\n",
              "      <td>2</td>\n",
              "      <td>Sorry but I had these noodles and they are no ...</td>\n",
              "      <td>10</td>\n",
              "      <td>34</td>\n",
              "      <td>0</td>\n",
              "    </tr>\n",
              "    <tr>\n",
              "      <th>...</th>\n",
              "      <td>...</td>\n",
              "      <td>...</td>\n",
              "      <td>...</td>\n",
              "      <td>...</td>\n",
              "      <td>...</td>\n",
              "    </tr>\n",
              "    <tr>\n",
              "      <th>8992</th>\n",
              "      <td>1</td>\n",
              "      <td>The product description claims \"It contains no...</td>\n",
              "      <td>24</td>\n",
              "      <td>38</td>\n",
              "      <td>0</td>\n",
              "    </tr>\n",
              "    <tr>\n",
              "      <th>8993</th>\n",
              "      <td>1</td>\n",
              "      <td>What a disappointment!!!!!!!!!!!! I bought the...</td>\n",
              "      <td>4</td>\n",
              "      <td>12</td>\n",
              "      <td>0</td>\n",
              "    </tr>\n",
              "    <tr>\n",
              "      <th>8994</th>\n",
              "      <td>3</td>\n",
              "      <td>The jury is still out on this item. Perhaps it...</td>\n",
              "      <td>2</td>\n",
              "      <td>21</td>\n",
              "      <td>0</td>\n",
              "    </tr>\n",
              "    <tr>\n",
              "      <th>8995</th>\n",
              "      <td>1</td>\n",
              "      <td>I hope this review helps others save their mon...</td>\n",
              "      <td>8</td>\n",
              "      <td>15</td>\n",
              "      <td>0</td>\n",
              "    </tr>\n",
              "    <tr>\n",
              "      <th>8996</th>\n",
              "      <td>5</td>\n",
              "      <td>Tastes better than 90% of the 'slimming' teas ...</td>\n",
              "      <td>12</td>\n",
              "      <td>12</td>\n",
              "      <td>1</td>\n",
              "    </tr>\n",
              "  </tbody>\n",
              "</table>\n",
              "<p>8997 rows × 5 columns</p>\n",
              "</div>\n",
              "      <button class=\"colab-df-convert\" onclick=\"convertToInteractive('df-20837afe-bafd-4960-96e6-2e8867e834c0')\"\n",
              "              title=\"Convert this dataframe to an interactive table.\"\n",
              "              style=\"display:none;\">\n",
              "        \n",
              "  <svg xmlns=\"http://www.w3.org/2000/svg\" height=\"24px\"viewBox=\"0 0 24 24\"\n",
              "       width=\"24px\">\n",
              "    <path d=\"M0 0h24v24H0V0z\" fill=\"none\"/>\n",
              "    <path d=\"M18.56 5.44l.94 2.06.94-2.06 2.06-.94-2.06-.94-.94-2.06-.94 2.06-2.06.94zm-11 1L8.5 8.5l.94-2.06 2.06-.94-2.06-.94L8.5 2.5l-.94 2.06-2.06.94zm10 10l.94 2.06.94-2.06 2.06-.94-2.06-.94-.94-2.06-.94 2.06-2.06.94z\"/><path d=\"M17.41 7.96l-1.37-1.37c-.4-.4-.92-.59-1.43-.59-.52 0-1.04.2-1.43.59L10.3 9.45l-7.72 7.72c-.78.78-.78 2.05 0 2.83L4 21.41c.39.39.9.59 1.41.59.51 0 1.02-.2 1.41-.59l7.78-7.78 2.81-2.81c.8-.78.8-2.07 0-2.86zM5.41 20L4 18.59l7.72-7.72 1.47 1.35L5.41 20z\"/>\n",
              "  </svg>\n",
              "      </button>\n",
              "      \n",
              "  <style>\n",
              "    .colab-df-container {\n",
              "      display:flex;\n",
              "      flex-wrap:wrap;\n",
              "      gap: 12px;\n",
              "    }\n",
              "\n",
              "    .colab-df-convert {\n",
              "      background-color: #E8F0FE;\n",
              "      border: none;\n",
              "      border-radius: 50%;\n",
              "      cursor: pointer;\n",
              "      display: none;\n",
              "      fill: #1967D2;\n",
              "      height: 32px;\n",
              "      padding: 0 0 0 0;\n",
              "      width: 32px;\n",
              "    }\n",
              "\n",
              "    .colab-df-convert:hover {\n",
              "      background-color: #E2EBFA;\n",
              "      box-shadow: 0px 1px 2px rgba(60, 64, 67, 0.3), 0px 1px 3px 1px rgba(60, 64, 67, 0.15);\n",
              "      fill: #174EA6;\n",
              "    }\n",
              "\n",
              "    [theme=dark] .colab-df-convert {\n",
              "      background-color: #3B4455;\n",
              "      fill: #D2E3FC;\n",
              "    }\n",
              "\n",
              "    [theme=dark] .colab-df-convert:hover {\n",
              "      background-color: #434B5C;\n",
              "      box-shadow: 0px 1px 3px 1px rgba(0, 0, 0, 0.15);\n",
              "      filter: drop-shadow(0px 1px 2px rgba(0, 0, 0, 0.3));\n",
              "      fill: #FFFFFF;\n",
              "    }\n",
              "  </style>\n",
              "\n",
              "      <script>\n",
              "        const buttonEl =\n",
              "          document.querySelector('#df-20837afe-bafd-4960-96e6-2e8867e834c0 button.colab-df-convert');\n",
              "        buttonEl.style.display =\n",
              "          google.colab.kernel.accessAllowed ? 'block' : 'none';\n",
              "\n",
              "        async function convertToInteractive(key) {\n",
              "          const element = document.querySelector('#df-20837afe-bafd-4960-96e6-2e8867e834c0');\n",
              "          const dataTable =\n",
              "            await google.colab.kernel.invokeFunction('convertToInteractive',\n",
              "                                                     [key], {});\n",
              "          if (!dataTable) return;\n",
              "\n",
              "          const docLinkHtml = 'Like what you see? Visit the ' +\n",
              "            '<a target=\"_blank\" href=https://colab.research.google.com/notebooks/data_table.ipynb>data table notebook</a>'\n",
              "            + ' to learn more about interactive tables.';\n",
              "          element.innerHTML = '';\n",
              "          dataTable['output_type'] = 'display_data';\n",
              "          await google.colab.output.renderOutput(dataTable, element);\n",
              "          const docLink = document.createElement('div');\n",
              "          docLink.innerHTML = docLinkHtml;\n",
              "          element.appendChild(docLink);\n",
              "        }\n",
              "      </script>\n",
              "    </div>\n",
              "  </div>\n",
              "  "
            ]
          },
          "metadata": {},
          "execution_count": 7
        }
      ]
    },
    {
      "cell_type": "code",
      "source": [
        "df['stars'].value_counts()"
      ],
      "metadata": {
        "colab": {
          "base_uri": "https://localhost:8080/"
        },
        "id": "08qmNgwK-aFX",
        "outputId": "e04acb61-d509-4d1b-8f38-72bc8f929846"
      },
      "execution_count": 8,
      "outputs": [
        {
          "output_type": "execute_result",
          "data": {
            "text/plain": [
              "5    4278\n",
              "1    3084\n",
              "2     936\n",
              "4     360\n",
              "3     339\n",
              "Name: stars, dtype: int64"
            ]
          },
          "metadata": {},
          "execution_count": 8
        }
      ]
    },
    {
      "cell_type": "markdown",
      "source": [
        "##### Data Preprocessing"
      ],
      "metadata": {
        "id": "wJjT8cbR_QEj"
      }
    },
    {
      "cell_type": "code",
      "source": [
        "# The first step is convert the all reviews into the lower case.\n",
        "df['pre_process'] = df['review'].apply(lambda x: ' '.join(x.lower() for x in str(x).split()))"
      ],
      "metadata": {
        "id": "2B66LzBL_Qy-"
      },
      "execution_count": 9,
      "outputs": []
    },
    {
      "cell_type": "code",
      "source": [
        "# Remove the HTML tags and URLs from the reviews.\n",
        "df['pre_process']=df['pre_process'].apply(lambda x: BeautifulSoup(x).get_text())\n",
        "df['pre_process']=df['pre_process'].apply(lambda x: re.sub(r\"http\\S+\", \"\", x))"
      ],
      "metadata": {
        "id": "49pScePN_V76"
      },
      "execution_count": 10,
      "outputs": []
    },
    {
      "cell_type": "code",
      "source": [
        "# Perform the Contractions on the reviews.\n",
        "# Example: \"it won’t be\" converted as \"it will not be\"\n",
        "def contractions(s):\n",
        "  s = re.sub(r\"won’t\", \"will not\",s)\n",
        "  s = re.sub(r\"would’t\", \"would not\",s)\n",
        "  s = re.sub(r\"could’t\", \"could not\",s)\n",
        "  s = re.sub(r\"\\’d\", \" would\",s)\n",
        "  s = re.sub(r\"can\\’t\", \"can not\",s)\n",
        "  s = re.sub(r\"n\\’t\", \" not\", s)\n",
        "  s= re.sub(r\"\\’re\", \" are\", s)\n",
        "  s = re.sub(r\"\\’s\", \" is\", s)\n",
        "  s = re.sub(r\"\\’ll\", \" will\", s)\n",
        "  s = re.sub(r\"\\’t\", \" not\", s)\n",
        "  s = re.sub(r\"\\’ve\", \" have\", s)\n",
        "  s = re.sub(r\"\\’m\", \" am\", s)\n",
        "  return s\n",
        "df['pre_process']=df['pre_process'].apply(lambda x:contractions(x))\n"
      ],
      "metadata": {
        "id": "z-0W4Xt-_YGB"
      },
      "execution_count": 11,
      "outputs": []
    },
    {
      "cell_type": "code",
      "source": [
        "# Remove non-alpha characters\n",
        "df['pre_process'] = df['pre_process'].apply(lambda x: \" \".join([re.sub(\"[^A-Za-z]+\",\"\", x) for x in nltk.word_tokenize(x)]))"
      ],
      "metadata": {
        "id": "cxSN3dln_bKP"
      },
      "execution_count": 12,
      "outputs": []
    },
    {
      "cell_type": "code",
      "source": [
        "# Remove the stop words by using the NLTK package\n",
        "from nltk.corpus import stopwords\n",
        "stop = stopwords.words('english')\n",
        "df['pre_process'] = df['pre_process'].apply(lambda x: \" \".join([x for x in x.split() if x not in stop]))"
      ],
      "metadata": {
        "id": "w3Xmokt7_hfP"
      },
      "execution_count": 14,
      "outputs": []
    },
    {
      "cell_type": "code",
      "source": [
        "# Perform lemmatization using the wordnet lemmatizer\n",
        "lemmatizer = WordNetLemmatizer()\n",
        "df['pre_process'] = df['pre_process'].apply(lambda x: \" \".join([lemmatizer.lemmatize(w) for w in nltk.word_tokenize(x)]))\n",
        "df"
      ],
      "metadata": {
        "colab": {
          "base_uri": "https://localhost:8080/",
          "height": 641
        },
        "id": "Q4TT9V8D_uYx",
        "outputId": "e83bc1ce-a247-429d-e811-c6728d40abf4"
      },
      "execution_count": 15,
      "outputs": [
        {
          "output_type": "execute_result",
          "data": {
            "text/plain": [
              "      stars                                             review  helpful_votes  \\\n",
              "0         2  The herb kit that came with my Aerogarden was ...             15   \n",
              "1         5  I originally bought this just because it was c...             19   \n",
              "2         2  If you do it in reverse (bake before shaking),...              2   \n",
              "3         2  I bought this steak for my father in law for C...              7   \n",
              "4         2  Sorry but I had these noodles and they are no ...             10   \n",
              "...     ...                                                ...            ...   \n",
              "8992      1  The product description claims \"It contains no...             24   \n",
              "8993      1  What a disappointment!!!!!!!!!!!! I bought the...              4   \n",
              "8994      3  The jury is still out on this item. Perhaps it...              2   \n",
              "8995      1  I hope this review helps others save their mon...              8   \n",
              "8996      5  Tastes better than 90% of the 'slimming' teas ...             12   \n",
              "\n",
              "      total_votes  label                                        pre_process  \n",
              "0              17      0  herb kit came aerogarden superb enjoyed caring...  \n",
              "1              19      1  originally bought cheaper regular parchment pa...  \n",
              "2              13      0  reverse bake shaking going get mess parmesan w...  \n",
              "3              14      0  bought steak father law christmas always wante...  \n",
              "4              34      0  sorry noodle better cent version difference sp...  \n",
              "...           ...    ...                                                ...  \n",
              "8992           38      0  product description claim contains highfructos...  \n",
              "8993           12      0  disappointment bought grocery store sale notic...  \n",
              "8994           21      0  jury still item perhaps take little time feel ...  \n",
              "8995           15      0  hope review help others save money least bette...  \n",
              "8996           12      1  taste better slimming tea market laxative tea ...  \n",
              "\n",
              "[8997 rows x 6 columns]"
            ],
            "text/html": [
              "\n",
              "  <div id=\"df-becb8844-6d97-4f21-a5b9-729cd12e26de\">\n",
              "    <div class=\"colab-df-container\">\n",
              "      <div>\n",
              "<style scoped>\n",
              "    .dataframe tbody tr th:only-of-type {\n",
              "        vertical-align: middle;\n",
              "    }\n",
              "\n",
              "    .dataframe tbody tr th {\n",
              "        vertical-align: top;\n",
              "    }\n",
              "\n",
              "    .dataframe thead th {\n",
              "        text-align: right;\n",
              "    }\n",
              "</style>\n",
              "<table border=\"1\" class=\"dataframe\">\n",
              "  <thead>\n",
              "    <tr style=\"text-align: right;\">\n",
              "      <th></th>\n",
              "      <th>stars</th>\n",
              "      <th>review</th>\n",
              "      <th>helpful_votes</th>\n",
              "      <th>total_votes</th>\n",
              "      <th>label</th>\n",
              "      <th>pre_process</th>\n",
              "    </tr>\n",
              "  </thead>\n",
              "  <tbody>\n",
              "    <tr>\n",
              "      <th>0</th>\n",
              "      <td>2</td>\n",
              "      <td>The herb kit that came with my Aerogarden was ...</td>\n",
              "      <td>15</td>\n",
              "      <td>17</td>\n",
              "      <td>0</td>\n",
              "      <td>herb kit came aerogarden superb enjoyed caring...</td>\n",
              "    </tr>\n",
              "    <tr>\n",
              "      <th>1</th>\n",
              "      <td>5</td>\n",
              "      <td>I originally bought this just because it was c...</td>\n",
              "      <td>19</td>\n",
              "      <td>19</td>\n",
              "      <td>1</td>\n",
              "      <td>originally bought cheaper regular parchment pa...</td>\n",
              "    </tr>\n",
              "    <tr>\n",
              "      <th>2</th>\n",
              "      <td>2</td>\n",
              "      <td>If you do it in reverse (bake before shaking),...</td>\n",
              "      <td>2</td>\n",
              "      <td>13</td>\n",
              "      <td>0</td>\n",
              "      <td>reverse bake shaking going get mess parmesan w...</td>\n",
              "    </tr>\n",
              "    <tr>\n",
              "      <th>3</th>\n",
              "      <td>2</td>\n",
              "      <td>I bought this steak for my father in law for C...</td>\n",
              "      <td>7</td>\n",
              "      <td>14</td>\n",
              "      <td>0</td>\n",
              "      <td>bought steak father law christmas always wante...</td>\n",
              "    </tr>\n",
              "    <tr>\n",
              "      <th>4</th>\n",
              "      <td>2</td>\n",
              "      <td>Sorry but I had these noodles and they are no ...</td>\n",
              "      <td>10</td>\n",
              "      <td>34</td>\n",
              "      <td>0</td>\n",
              "      <td>sorry noodle better cent version difference sp...</td>\n",
              "    </tr>\n",
              "    <tr>\n",
              "      <th>...</th>\n",
              "      <td>...</td>\n",
              "      <td>...</td>\n",
              "      <td>...</td>\n",
              "      <td>...</td>\n",
              "      <td>...</td>\n",
              "      <td>...</td>\n",
              "    </tr>\n",
              "    <tr>\n",
              "      <th>8992</th>\n",
              "      <td>1</td>\n",
              "      <td>The product description claims \"It contains no...</td>\n",
              "      <td>24</td>\n",
              "      <td>38</td>\n",
              "      <td>0</td>\n",
              "      <td>product description claim contains highfructos...</td>\n",
              "    </tr>\n",
              "    <tr>\n",
              "      <th>8993</th>\n",
              "      <td>1</td>\n",
              "      <td>What a disappointment!!!!!!!!!!!! I bought the...</td>\n",
              "      <td>4</td>\n",
              "      <td>12</td>\n",
              "      <td>0</td>\n",
              "      <td>disappointment bought grocery store sale notic...</td>\n",
              "    </tr>\n",
              "    <tr>\n",
              "      <th>8994</th>\n",
              "      <td>3</td>\n",
              "      <td>The jury is still out on this item. Perhaps it...</td>\n",
              "      <td>2</td>\n",
              "      <td>21</td>\n",
              "      <td>0</td>\n",
              "      <td>jury still item perhaps take little time feel ...</td>\n",
              "    </tr>\n",
              "    <tr>\n",
              "      <th>8995</th>\n",
              "      <td>1</td>\n",
              "      <td>I hope this review helps others save their mon...</td>\n",
              "      <td>8</td>\n",
              "      <td>15</td>\n",
              "      <td>0</td>\n",
              "      <td>hope review help others save money least bette...</td>\n",
              "    </tr>\n",
              "    <tr>\n",
              "      <th>8996</th>\n",
              "      <td>5</td>\n",
              "      <td>Tastes better than 90% of the 'slimming' teas ...</td>\n",
              "      <td>12</td>\n",
              "      <td>12</td>\n",
              "      <td>1</td>\n",
              "      <td>taste better slimming tea market laxative tea ...</td>\n",
              "    </tr>\n",
              "  </tbody>\n",
              "</table>\n",
              "<p>8997 rows × 6 columns</p>\n",
              "</div>\n",
              "      <button class=\"colab-df-convert\" onclick=\"convertToInteractive('df-becb8844-6d97-4f21-a5b9-729cd12e26de')\"\n",
              "              title=\"Convert this dataframe to an interactive table.\"\n",
              "              style=\"display:none;\">\n",
              "        \n",
              "  <svg xmlns=\"http://www.w3.org/2000/svg\" height=\"24px\"viewBox=\"0 0 24 24\"\n",
              "       width=\"24px\">\n",
              "    <path d=\"M0 0h24v24H0V0z\" fill=\"none\"/>\n",
              "    <path d=\"M18.56 5.44l.94 2.06.94-2.06 2.06-.94-2.06-.94-.94-2.06-.94 2.06-2.06.94zm-11 1L8.5 8.5l.94-2.06 2.06-.94-2.06-.94L8.5 2.5l-.94 2.06-2.06.94zm10 10l.94 2.06.94-2.06 2.06-.94-2.06-.94-.94-2.06-.94 2.06-2.06.94z\"/><path d=\"M17.41 7.96l-1.37-1.37c-.4-.4-.92-.59-1.43-.59-.52 0-1.04.2-1.43.59L10.3 9.45l-7.72 7.72c-.78.78-.78 2.05 0 2.83L4 21.41c.39.39.9.59 1.41.59.51 0 1.02-.2 1.41-.59l7.78-7.78 2.81-2.81c.8-.78.8-2.07 0-2.86zM5.41 20L4 18.59l7.72-7.72 1.47 1.35L5.41 20z\"/>\n",
              "  </svg>\n",
              "      </button>\n",
              "      \n",
              "  <style>\n",
              "    .colab-df-container {\n",
              "      display:flex;\n",
              "      flex-wrap:wrap;\n",
              "      gap: 12px;\n",
              "    }\n",
              "\n",
              "    .colab-df-convert {\n",
              "      background-color: #E8F0FE;\n",
              "      border: none;\n",
              "      border-radius: 50%;\n",
              "      cursor: pointer;\n",
              "      display: none;\n",
              "      fill: #1967D2;\n",
              "      height: 32px;\n",
              "      padding: 0 0 0 0;\n",
              "      width: 32px;\n",
              "    }\n",
              "\n",
              "    .colab-df-convert:hover {\n",
              "      background-color: #E2EBFA;\n",
              "      box-shadow: 0px 1px 2px rgba(60, 64, 67, 0.3), 0px 1px 3px 1px rgba(60, 64, 67, 0.15);\n",
              "      fill: #174EA6;\n",
              "    }\n",
              "\n",
              "    [theme=dark] .colab-df-convert {\n",
              "      background-color: #3B4455;\n",
              "      fill: #D2E3FC;\n",
              "    }\n",
              "\n",
              "    [theme=dark] .colab-df-convert:hover {\n",
              "      background-color: #434B5C;\n",
              "      box-shadow: 0px 1px 3px 1px rgba(0, 0, 0, 0.15);\n",
              "      filter: drop-shadow(0px 1px 2px rgba(0, 0, 0, 0.3));\n",
              "      fill: #FFFFFF;\n",
              "    }\n",
              "  </style>\n",
              "\n",
              "      <script>\n",
              "        const buttonEl =\n",
              "          document.querySelector('#df-becb8844-6d97-4f21-a5b9-729cd12e26de button.colab-df-convert');\n",
              "        buttonEl.style.display =\n",
              "          google.colab.kernel.accessAllowed ? 'block' : 'none';\n",
              "\n",
              "        async function convertToInteractive(key) {\n",
              "          const element = document.querySelector('#df-becb8844-6d97-4f21-a5b9-729cd12e26de');\n",
              "          const dataTable =\n",
              "            await google.colab.kernel.invokeFunction('convertToInteractive',\n",
              "                                                     [key], {});\n",
              "          if (!dataTable) return;\n",
              "\n",
              "          const docLinkHtml = 'Like what you see? Visit the ' +\n",
              "            '<a target=\"_blank\" href=https://colab.research.google.com/notebooks/data_table.ipynb>data table notebook</a>'\n",
              "            + ' to learn more about interactive tables.';\n",
              "          element.innerHTML = '';\n",
              "          dataTable['output_type'] = 'display_data';\n",
              "          await google.colab.output.renderOutput(dataTable, element);\n",
              "          const docLink = document.createElement('div');\n",
              "          docLink.innerHTML = docLinkHtml;\n",
              "          element.appendChild(docLink);\n",
              "        }\n",
              "      </script>\n",
              "    </div>\n",
              "  </div>\n",
              "  "
            ]
          },
          "metadata": {},
          "execution_count": 15
        }
      ]
    },
    {
      "cell_type": "markdown",
      "source": [
        "##### Feature Extraction using TF-IDF"
      ],
      "metadata": {
        "id": "NkpwN6UDAUaN"
      }
    },
    {
      "cell_type": "code",
      "source": [
        "X_train,X_test,Y_train, Y_test = train_test_split(df['pre_process'], df['label'], test_size=0.25, random_state=30)\n",
        "print(\"Train: \",X_train.shape,Y_train.shape,\"Test: \",(X_test.shape,Y_test.shape))"
      ],
      "metadata": {
        "colab": {
          "base_uri": "https://localhost:8080/"
        },
        "id": "EHGmhLCHAJ0H",
        "outputId": "79f27446-0db8-46ea-af08-c64cfc0b9078"
      },
      "execution_count": 16,
      "outputs": [
        {
          "output_type": "stream",
          "name": "stdout",
          "text": [
            "Train:  (6747,) (6747,) Test:  ((2250,), (2250,))\n"
          ]
        }
      ]
    },
    {
      "cell_type": "code",
      "source": [
        "# Using TFIDF Vectorizer\n",
        "\n",
        "vectorizer= TfidfVectorizer()\n",
        "tf_x_train = vectorizer.fit_transform(X_train)\n",
        "tf_x_test = vectorizer.transform(X_test)"
      ],
      "metadata": {
        "id": "QYS9pTUGAVWP"
      },
      "execution_count": 17,
      "outputs": []
    },
    {
      "cell_type": "markdown",
      "source": [
        "###### First Classifier - SVM"
      ],
      "metadata": {
        "id": "U0fc83VYAhsw"
      }
    },
    {
      "cell_type": "code",
      "source": [
        "# Implementing SVM with sklearn for classification\n",
        "clf = LinearSVC(random_state=0)\n",
        "# Fitting the Training data into model\n",
        "clf.fit(tf_x_train,Y_train)\n",
        "# Predicting the Test data\n",
        "y_test_pred=clf.predict(tf_x_test)\n",
        "report = classification_report(Y_test, y_test_pred,output_dict=True)\n",
        "report"
      ],
      "metadata": {
        "colab": {
          "base_uri": "https://localhost:8080/"
        },
        "id": "GQaq7PM3AfUI",
        "outputId": "4c9e6b49-8b5c-4a4e-c1e6-b09e93322686"
      },
      "execution_count": 18,
      "outputs": [
        {
          "output_type": "execute_result",
          "data": {
            "text/plain": [
              "{'0': {'f1-score': 1.0, 'precision': 1.0, 'recall': 1.0, 'support': 1082},\n",
              " '1': {'f1-score': 1.0, 'precision': 1.0, 'recall': 1.0, 'support': 1168},\n",
              " 'accuracy': 1.0,\n",
              " 'macro avg': {'f1-score': 1.0,\n",
              "  'precision': 1.0,\n",
              "  'recall': 1.0,\n",
              "  'support': 2250},\n",
              " 'weighted avg': {'f1-score': 1.0,\n",
              "  'precision': 1.0,\n",
              "  'recall': 1.0,\n",
              "  'support': 2250}}"
            ]
          },
          "metadata": {},
          "execution_count": 18
        }
      ]
    },
    {
      "cell_type": "markdown",
      "source": [
        "***By Using the SVM classifier we got an accuracy of 100%***"
      ],
      "metadata": {
        "id": "ByBt6JPBA0pq"
      }
    },
    {
      "cell_type": "markdown",
      "source": [
        "###### Second Classifier - Logistic Regression"
      ],
      "metadata": {
        "id": "zxlj_XnNA4d_"
      }
    },
    {
      "cell_type": "code",
      "source": [
        "clf = LogisticRegression(max_iter=1000,solver='saga')\n",
        "clf.fit(tf_x_train,Y_train)\n",
        "y_test_pred=clf.predict(tf_x_test)\n",
        "report=classification_report(Y_test, y_test_pred,output_dict=True)\n",
        "report"
      ],
      "metadata": {
        "colab": {
          "base_uri": "https://localhost:8080/"
        },
        "id": "SpO_uRLuAjv4",
        "outputId": "e3895645-1149-4e52-c081-44c73b600777"
      },
      "execution_count": 19,
      "outputs": [
        {
          "output_type": "execute_result",
          "data": {
            "text/plain": [
              "{'0': {'f1-score': 1.0, 'precision': 1.0, 'recall': 1.0, 'support': 1082},\n",
              " '1': {'f1-score': 1.0, 'precision': 1.0, 'recall': 1.0, 'support': 1168},\n",
              " 'accuracy': 1.0,\n",
              " 'macro avg': {'f1-score': 1.0,\n",
              "  'precision': 1.0,\n",
              "  'recall': 1.0,\n",
              "  'support': 2250},\n",
              " 'weighted avg': {'f1-score': 1.0,\n",
              "  'precision': 1.0,\n",
              "  'recall': 1.0,\n",
              "  'support': 2250}}"
            ]
          },
          "metadata": {},
          "execution_count": 19
        }
      ]
    },
    {
      "cell_type": "markdown",
      "source": [
        "***By Using the Logistic Regression we got an accuracy of 100%***"
      ],
      "metadata": {
        "id": "EiSM47zyBJBM"
      }
    },
    {
      "cell_type": "markdown",
      "source": [
        "## **Task 2**"
      ],
      "metadata": {
        "id": "4Q2PD0sSBazB"
      }
    },
    {
      "cell_type": "code",
      "source": [
        "# Copy the Dataframe\n",
        "df1 = df.copy()\n",
        "# Drop the old label column which is based on stars\n",
        "del df1['label']\n",
        "df1\n",
        "\n"
      ],
      "metadata": {
        "colab": {
          "base_uri": "https://localhost:8080/",
          "height": 641
        },
        "id": "ars2p-JpBKC6",
        "outputId": "caa48ee9-0f0a-4d37-e1d1-2e61a1cb8582"
      },
      "execution_count": 20,
      "outputs": [
        {
          "output_type": "execute_result",
          "data": {
            "text/plain": [
              "      stars                                             review  helpful_votes  \\\n",
              "0         2  The herb kit that came with my Aerogarden was ...             15   \n",
              "1         5  I originally bought this just because it was c...             19   \n",
              "2         2  If you do it in reverse (bake before shaking),...              2   \n",
              "3         2  I bought this steak for my father in law for C...              7   \n",
              "4         2  Sorry but I had these noodles and they are no ...             10   \n",
              "...     ...                                                ...            ...   \n",
              "8992      1  The product description claims \"It contains no...             24   \n",
              "8993      1  What a disappointment!!!!!!!!!!!! I bought the...              4   \n",
              "8994      3  The jury is still out on this item. Perhaps it...              2   \n",
              "8995      1  I hope this review helps others save their mon...              8   \n",
              "8996      5  Tastes better than 90% of the 'slimming' teas ...             12   \n",
              "\n",
              "      total_votes                                        pre_process  \n",
              "0              17  herb kit came aerogarden superb enjoyed caring...  \n",
              "1              19  originally bought cheaper regular parchment pa...  \n",
              "2              13  reverse bake shaking going get mess parmesan w...  \n",
              "3              14  bought steak father law christmas always wante...  \n",
              "4              34  sorry noodle better cent version difference sp...  \n",
              "...           ...                                                ...  \n",
              "8992           38  product description claim contains highfructos...  \n",
              "8993           12  disappointment bought grocery store sale notic...  \n",
              "8994           21  jury still item perhaps take little time feel ...  \n",
              "8995           15  hope review help others save money least bette...  \n",
              "8996           12  taste better slimming tea market laxative tea ...  \n",
              "\n",
              "[8997 rows x 5 columns]"
            ],
            "text/html": [
              "\n",
              "  <div id=\"df-83794a19-29c1-40c5-b7b8-b3d4f4edaf30\">\n",
              "    <div class=\"colab-df-container\">\n",
              "      <div>\n",
              "<style scoped>\n",
              "    .dataframe tbody tr th:only-of-type {\n",
              "        vertical-align: middle;\n",
              "    }\n",
              "\n",
              "    .dataframe tbody tr th {\n",
              "        vertical-align: top;\n",
              "    }\n",
              "\n",
              "    .dataframe thead th {\n",
              "        text-align: right;\n",
              "    }\n",
              "</style>\n",
              "<table border=\"1\" class=\"dataframe\">\n",
              "  <thead>\n",
              "    <tr style=\"text-align: right;\">\n",
              "      <th></th>\n",
              "      <th>stars</th>\n",
              "      <th>review</th>\n",
              "      <th>helpful_votes</th>\n",
              "      <th>total_votes</th>\n",
              "      <th>pre_process</th>\n",
              "    </tr>\n",
              "  </thead>\n",
              "  <tbody>\n",
              "    <tr>\n",
              "      <th>0</th>\n",
              "      <td>2</td>\n",
              "      <td>The herb kit that came with my Aerogarden was ...</td>\n",
              "      <td>15</td>\n",
              "      <td>17</td>\n",
              "      <td>herb kit came aerogarden superb enjoyed caring...</td>\n",
              "    </tr>\n",
              "    <tr>\n",
              "      <th>1</th>\n",
              "      <td>5</td>\n",
              "      <td>I originally bought this just because it was c...</td>\n",
              "      <td>19</td>\n",
              "      <td>19</td>\n",
              "      <td>originally bought cheaper regular parchment pa...</td>\n",
              "    </tr>\n",
              "    <tr>\n",
              "      <th>2</th>\n",
              "      <td>2</td>\n",
              "      <td>If you do it in reverse (bake before shaking),...</td>\n",
              "      <td>2</td>\n",
              "      <td>13</td>\n",
              "      <td>reverse bake shaking going get mess parmesan w...</td>\n",
              "    </tr>\n",
              "    <tr>\n",
              "      <th>3</th>\n",
              "      <td>2</td>\n",
              "      <td>I bought this steak for my father in law for C...</td>\n",
              "      <td>7</td>\n",
              "      <td>14</td>\n",
              "      <td>bought steak father law christmas always wante...</td>\n",
              "    </tr>\n",
              "    <tr>\n",
              "      <th>4</th>\n",
              "      <td>2</td>\n",
              "      <td>Sorry but I had these noodles and they are no ...</td>\n",
              "      <td>10</td>\n",
              "      <td>34</td>\n",
              "      <td>sorry noodle better cent version difference sp...</td>\n",
              "    </tr>\n",
              "    <tr>\n",
              "      <th>...</th>\n",
              "      <td>...</td>\n",
              "      <td>...</td>\n",
              "      <td>...</td>\n",
              "      <td>...</td>\n",
              "      <td>...</td>\n",
              "    </tr>\n",
              "    <tr>\n",
              "      <th>8992</th>\n",
              "      <td>1</td>\n",
              "      <td>The product description claims \"It contains no...</td>\n",
              "      <td>24</td>\n",
              "      <td>38</td>\n",
              "      <td>product description claim contains highfructos...</td>\n",
              "    </tr>\n",
              "    <tr>\n",
              "      <th>8993</th>\n",
              "      <td>1</td>\n",
              "      <td>What a disappointment!!!!!!!!!!!! I bought the...</td>\n",
              "      <td>4</td>\n",
              "      <td>12</td>\n",
              "      <td>disappointment bought grocery store sale notic...</td>\n",
              "    </tr>\n",
              "    <tr>\n",
              "      <th>8994</th>\n",
              "      <td>3</td>\n",
              "      <td>The jury is still out on this item. Perhaps it...</td>\n",
              "      <td>2</td>\n",
              "      <td>21</td>\n",
              "      <td>jury still item perhaps take little time feel ...</td>\n",
              "    </tr>\n",
              "    <tr>\n",
              "      <th>8995</th>\n",
              "      <td>1</td>\n",
              "      <td>I hope this review helps others save their mon...</td>\n",
              "      <td>8</td>\n",
              "      <td>15</td>\n",
              "      <td>hope review help others save money least bette...</td>\n",
              "    </tr>\n",
              "    <tr>\n",
              "      <th>8996</th>\n",
              "      <td>5</td>\n",
              "      <td>Tastes better than 90% of the 'slimming' teas ...</td>\n",
              "      <td>12</td>\n",
              "      <td>12</td>\n",
              "      <td>taste better slimming tea market laxative tea ...</td>\n",
              "    </tr>\n",
              "  </tbody>\n",
              "</table>\n",
              "<p>8997 rows × 5 columns</p>\n",
              "</div>\n",
              "      <button class=\"colab-df-convert\" onclick=\"convertToInteractive('df-83794a19-29c1-40c5-b7b8-b3d4f4edaf30')\"\n",
              "              title=\"Convert this dataframe to an interactive table.\"\n",
              "              style=\"display:none;\">\n",
              "        \n",
              "  <svg xmlns=\"http://www.w3.org/2000/svg\" height=\"24px\"viewBox=\"0 0 24 24\"\n",
              "       width=\"24px\">\n",
              "    <path d=\"M0 0h24v24H0V0z\" fill=\"none\"/>\n",
              "    <path d=\"M18.56 5.44l.94 2.06.94-2.06 2.06-.94-2.06-.94-.94-2.06-.94 2.06-2.06.94zm-11 1L8.5 8.5l.94-2.06 2.06-.94-2.06-.94L8.5 2.5l-.94 2.06-2.06.94zm10 10l.94 2.06.94-2.06 2.06-.94-2.06-.94-.94-2.06-.94 2.06-2.06.94z\"/><path d=\"M17.41 7.96l-1.37-1.37c-.4-.4-.92-.59-1.43-.59-.52 0-1.04.2-1.43.59L10.3 9.45l-7.72 7.72c-.78.78-.78 2.05 0 2.83L4 21.41c.39.39.9.59 1.41.59.51 0 1.02-.2 1.41-.59l7.78-7.78 2.81-2.81c.8-.78.8-2.07 0-2.86zM5.41 20L4 18.59l7.72-7.72 1.47 1.35L5.41 20z\"/>\n",
              "  </svg>\n",
              "      </button>\n",
              "      \n",
              "  <style>\n",
              "    .colab-df-container {\n",
              "      display:flex;\n",
              "      flex-wrap:wrap;\n",
              "      gap: 12px;\n",
              "    }\n",
              "\n",
              "    .colab-df-convert {\n",
              "      background-color: #E8F0FE;\n",
              "      border: none;\n",
              "      border-radius: 50%;\n",
              "      cursor: pointer;\n",
              "      display: none;\n",
              "      fill: #1967D2;\n",
              "      height: 32px;\n",
              "      padding: 0 0 0 0;\n",
              "      width: 32px;\n",
              "    }\n",
              "\n",
              "    .colab-df-convert:hover {\n",
              "      background-color: #E2EBFA;\n",
              "      box-shadow: 0px 1px 2px rgba(60, 64, 67, 0.3), 0px 1px 3px 1px rgba(60, 64, 67, 0.15);\n",
              "      fill: #174EA6;\n",
              "    }\n",
              "\n",
              "    [theme=dark] .colab-df-convert {\n",
              "      background-color: #3B4455;\n",
              "      fill: #D2E3FC;\n",
              "    }\n",
              "\n",
              "    [theme=dark] .colab-df-convert:hover {\n",
              "      background-color: #434B5C;\n",
              "      box-shadow: 0px 1px 3px 1px rgba(0, 0, 0, 0.15);\n",
              "      filter: drop-shadow(0px 1px 2px rgba(0, 0, 0, 0.3));\n",
              "      fill: #FFFFFF;\n",
              "    }\n",
              "  </style>\n",
              "\n",
              "      <script>\n",
              "        const buttonEl =\n",
              "          document.querySelector('#df-83794a19-29c1-40c5-b7b8-b3d4f4edaf30 button.colab-df-convert');\n",
              "        buttonEl.style.display =\n",
              "          google.colab.kernel.accessAllowed ? 'block' : 'none';\n",
              "\n",
              "        async function convertToInteractive(key) {\n",
              "          const element = document.querySelector('#df-83794a19-29c1-40c5-b7b8-b3d4f4edaf30');\n",
              "          const dataTable =\n",
              "            await google.colab.kernel.invokeFunction('convertToInteractive',\n",
              "                                                     [key], {});\n",
              "          if (!dataTable) return;\n",
              "\n",
              "          const docLinkHtml = 'Like what you see? Visit the ' +\n",
              "            '<a target=\"_blank\" href=https://colab.research.google.com/notebooks/data_table.ipynb>data table notebook</a>'\n",
              "            + ' to learn more about interactive tables.';\n",
              "          element.innerHTML = '';\n",
              "          dataTable['output_type'] = 'display_data';\n",
              "          await google.colab.output.renderOutput(dataTable, element);\n",
              "          const docLink = document.createElement('div');\n",
              "          docLink.innerHTML = docLinkHtml;\n",
              "          element.appendChild(docLink);\n",
              "        }\n",
              "      </script>\n",
              "    </div>\n",
              "  </div>\n",
              "  "
            ]
          },
          "metadata": {},
          "execution_count": 20
        }
      ]
    },
    {
      "cell_type": "code",
      "source": [
        "# If 80% of total votes are helpful, we asssign the review as helpful\n",
        "df1['label']=np.where((df1[\"helpful_votes\"]/df1[\"total_votes\"])>=0.8,1,0)\n",
        "df1"
      ],
      "metadata": {
        "colab": {
          "base_uri": "https://localhost:8080/",
          "height": 641
        },
        "id": "P1rRpoYRDc_Q",
        "outputId": "c87f9b9d-d6ae-47ab-ea60-ba66dd5198a9"
      },
      "execution_count": 21,
      "outputs": [
        {
          "output_type": "execute_result",
          "data": {
            "text/plain": [
              "      stars                                             review  helpful_votes  \\\n",
              "0         2  The herb kit that came with my Aerogarden was ...             15   \n",
              "1         5  I originally bought this just because it was c...             19   \n",
              "2         2  If you do it in reverse (bake before shaking),...              2   \n",
              "3         2  I bought this steak for my father in law for C...              7   \n",
              "4         2  Sorry but I had these noodles and they are no ...             10   \n",
              "...     ...                                                ...            ...   \n",
              "8992      1  The product description claims \"It contains no...             24   \n",
              "8993      1  What a disappointment!!!!!!!!!!!! I bought the...              4   \n",
              "8994      3  The jury is still out on this item. Perhaps it...              2   \n",
              "8995      1  I hope this review helps others save their mon...              8   \n",
              "8996      5  Tastes better than 90% of the 'slimming' teas ...             12   \n",
              "\n",
              "      total_votes                                        pre_process  label  \n",
              "0              17  herb kit came aerogarden superb enjoyed caring...      1  \n",
              "1              19  originally bought cheaper regular parchment pa...      1  \n",
              "2              13  reverse bake shaking going get mess parmesan w...      0  \n",
              "3              14  bought steak father law christmas always wante...      0  \n",
              "4              34  sorry noodle better cent version difference sp...      0  \n",
              "...           ...                                                ...    ...  \n",
              "8992           38  product description claim contains highfructos...      0  \n",
              "8993           12  disappointment bought grocery store sale notic...      0  \n",
              "8994           21  jury still item perhaps take little time feel ...      0  \n",
              "8995           15  hope review help others save money least bette...      0  \n",
              "8996           12  taste better slimming tea market laxative tea ...      1  \n",
              "\n",
              "[8997 rows x 6 columns]"
            ],
            "text/html": [
              "\n",
              "  <div id=\"df-72404e07-9e8c-48ff-a98c-ce055ad08840\">\n",
              "    <div class=\"colab-df-container\">\n",
              "      <div>\n",
              "<style scoped>\n",
              "    .dataframe tbody tr th:only-of-type {\n",
              "        vertical-align: middle;\n",
              "    }\n",
              "\n",
              "    .dataframe tbody tr th {\n",
              "        vertical-align: top;\n",
              "    }\n",
              "\n",
              "    .dataframe thead th {\n",
              "        text-align: right;\n",
              "    }\n",
              "</style>\n",
              "<table border=\"1\" class=\"dataframe\">\n",
              "  <thead>\n",
              "    <tr style=\"text-align: right;\">\n",
              "      <th></th>\n",
              "      <th>stars</th>\n",
              "      <th>review</th>\n",
              "      <th>helpful_votes</th>\n",
              "      <th>total_votes</th>\n",
              "      <th>pre_process</th>\n",
              "      <th>label</th>\n",
              "    </tr>\n",
              "  </thead>\n",
              "  <tbody>\n",
              "    <tr>\n",
              "      <th>0</th>\n",
              "      <td>2</td>\n",
              "      <td>The herb kit that came with my Aerogarden was ...</td>\n",
              "      <td>15</td>\n",
              "      <td>17</td>\n",
              "      <td>herb kit came aerogarden superb enjoyed caring...</td>\n",
              "      <td>1</td>\n",
              "    </tr>\n",
              "    <tr>\n",
              "      <th>1</th>\n",
              "      <td>5</td>\n",
              "      <td>I originally bought this just because it was c...</td>\n",
              "      <td>19</td>\n",
              "      <td>19</td>\n",
              "      <td>originally bought cheaper regular parchment pa...</td>\n",
              "      <td>1</td>\n",
              "    </tr>\n",
              "    <tr>\n",
              "      <th>2</th>\n",
              "      <td>2</td>\n",
              "      <td>If you do it in reverse (bake before shaking),...</td>\n",
              "      <td>2</td>\n",
              "      <td>13</td>\n",
              "      <td>reverse bake shaking going get mess parmesan w...</td>\n",
              "      <td>0</td>\n",
              "    </tr>\n",
              "    <tr>\n",
              "      <th>3</th>\n",
              "      <td>2</td>\n",
              "      <td>I bought this steak for my father in law for C...</td>\n",
              "      <td>7</td>\n",
              "      <td>14</td>\n",
              "      <td>bought steak father law christmas always wante...</td>\n",
              "      <td>0</td>\n",
              "    </tr>\n",
              "    <tr>\n",
              "      <th>4</th>\n",
              "      <td>2</td>\n",
              "      <td>Sorry but I had these noodles and they are no ...</td>\n",
              "      <td>10</td>\n",
              "      <td>34</td>\n",
              "      <td>sorry noodle better cent version difference sp...</td>\n",
              "      <td>0</td>\n",
              "    </tr>\n",
              "    <tr>\n",
              "      <th>...</th>\n",
              "      <td>...</td>\n",
              "      <td>...</td>\n",
              "      <td>...</td>\n",
              "      <td>...</td>\n",
              "      <td>...</td>\n",
              "      <td>...</td>\n",
              "    </tr>\n",
              "    <tr>\n",
              "      <th>8992</th>\n",
              "      <td>1</td>\n",
              "      <td>The product description claims \"It contains no...</td>\n",
              "      <td>24</td>\n",
              "      <td>38</td>\n",
              "      <td>product description claim contains highfructos...</td>\n",
              "      <td>0</td>\n",
              "    </tr>\n",
              "    <tr>\n",
              "      <th>8993</th>\n",
              "      <td>1</td>\n",
              "      <td>What a disappointment!!!!!!!!!!!! I bought the...</td>\n",
              "      <td>4</td>\n",
              "      <td>12</td>\n",
              "      <td>disappointment bought grocery store sale notic...</td>\n",
              "      <td>0</td>\n",
              "    </tr>\n",
              "    <tr>\n",
              "      <th>8994</th>\n",
              "      <td>3</td>\n",
              "      <td>The jury is still out on this item. Perhaps it...</td>\n",
              "      <td>2</td>\n",
              "      <td>21</td>\n",
              "      <td>jury still item perhaps take little time feel ...</td>\n",
              "      <td>0</td>\n",
              "    </tr>\n",
              "    <tr>\n",
              "      <th>8995</th>\n",
              "      <td>1</td>\n",
              "      <td>I hope this review helps others save their mon...</td>\n",
              "      <td>8</td>\n",
              "      <td>15</td>\n",
              "      <td>hope review help others save money least bette...</td>\n",
              "      <td>0</td>\n",
              "    </tr>\n",
              "    <tr>\n",
              "      <th>8996</th>\n",
              "      <td>5</td>\n",
              "      <td>Tastes better than 90% of the 'slimming' teas ...</td>\n",
              "      <td>12</td>\n",
              "      <td>12</td>\n",
              "      <td>taste better slimming tea market laxative tea ...</td>\n",
              "      <td>1</td>\n",
              "    </tr>\n",
              "  </tbody>\n",
              "</table>\n",
              "<p>8997 rows × 6 columns</p>\n",
              "</div>\n",
              "      <button class=\"colab-df-convert\" onclick=\"convertToInteractive('df-72404e07-9e8c-48ff-a98c-ce055ad08840')\"\n",
              "              title=\"Convert this dataframe to an interactive table.\"\n",
              "              style=\"display:none;\">\n",
              "        \n",
              "  <svg xmlns=\"http://www.w3.org/2000/svg\" height=\"24px\"viewBox=\"0 0 24 24\"\n",
              "       width=\"24px\">\n",
              "    <path d=\"M0 0h24v24H0V0z\" fill=\"none\"/>\n",
              "    <path d=\"M18.56 5.44l.94 2.06.94-2.06 2.06-.94-2.06-.94-.94-2.06-.94 2.06-2.06.94zm-11 1L8.5 8.5l.94-2.06 2.06-.94-2.06-.94L8.5 2.5l-.94 2.06-2.06.94zm10 10l.94 2.06.94-2.06 2.06-.94-2.06-.94-.94-2.06-.94 2.06-2.06.94z\"/><path d=\"M17.41 7.96l-1.37-1.37c-.4-.4-.92-.59-1.43-.59-.52 0-1.04.2-1.43.59L10.3 9.45l-7.72 7.72c-.78.78-.78 2.05 0 2.83L4 21.41c.39.39.9.59 1.41.59.51 0 1.02-.2 1.41-.59l7.78-7.78 2.81-2.81c.8-.78.8-2.07 0-2.86zM5.41 20L4 18.59l7.72-7.72 1.47 1.35L5.41 20z\"/>\n",
              "  </svg>\n",
              "      </button>\n",
              "      \n",
              "  <style>\n",
              "    .colab-df-container {\n",
              "      display:flex;\n",
              "      flex-wrap:wrap;\n",
              "      gap: 12px;\n",
              "    }\n",
              "\n",
              "    .colab-df-convert {\n",
              "      background-color: #E8F0FE;\n",
              "      border: none;\n",
              "      border-radius: 50%;\n",
              "      cursor: pointer;\n",
              "      display: none;\n",
              "      fill: #1967D2;\n",
              "      height: 32px;\n",
              "      padding: 0 0 0 0;\n",
              "      width: 32px;\n",
              "    }\n",
              "\n",
              "    .colab-df-convert:hover {\n",
              "      background-color: #E2EBFA;\n",
              "      box-shadow: 0px 1px 2px rgba(60, 64, 67, 0.3), 0px 1px 3px 1px rgba(60, 64, 67, 0.15);\n",
              "      fill: #174EA6;\n",
              "    }\n",
              "\n",
              "    [theme=dark] .colab-df-convert {\n",
              "      background-color: #3B4455;\n",
              "      fill: #D2E3FC;\n",
              "    }\n",
              "\n",
              "    [theme=dark] .colab-df-convert:hover {\n",
              "      background-color: #434B5C;\n",
              "      box-shadow: 0px 1px 3px 1px rgba(0, 0, 0, 0.15);\n",
              "      filter: drop-shadow(0px 1px 2px rgba(0, 0, 0, 0.3));\n",
              "      fill: #FFFFFF;\n",
              "    }\n",
              "  </style>\n",
              "\n",
              "      <script>\n",
              "        const buttonEl =\n",
              "          document.querySelector('#df-72404e07-9e8c-48ff-a98c-ce055ad08840 button.colab-df-convert');\n",
              "        buttonEl.style.display =\n",
              "          google.colab.kernel.accessAllowed ? 'block' : 'none';\n",
              "\n",
              "        async function convertToInteractive(key) {\n",
              "          const element = document.querySelector('#df-72404e07-9e8c-48ff-a98c-ce055ad08840');\n",
              "          const dataTable =\n",
              "            await google.colab.kernel.invokeFunction('convertToInteractive',\n",
              "                                                     [key], {});\n",
              "          if (!dataTable) return;\n",
              "\n",
              "          const docLinkHtml = 'Like what you see? Visit the ' +\n",
              "            '<a target=\"_blank\" href=https://colab.research.google.com/notebooks/data_table.ipynb>data table notebook</a>'\n",
              "            + ' to learn more about interactive tables.';\n",
              "          element.innerHTML = '';\n",
              "          dataTable['output_type'] = 'display_data';\n",
              "          await google.colab.output.renderOutput(dataTable, element);\n",
              "          const docLink = document.createElement('div');\n",
              "          docLink.innerHTML = docLinkHtml;\n",
              "          element.appendChild(docLink);\n",
              "        }\n",
              "      </script>\n",
              "    </div>\n",
              "  </div>\n",
              "  "
            ]
          },
          "metadata": {},
          "execution_count": 21
        }
      ]
    },
    {
      "cell_type": "code",
      "source": [
        "df1['label'].value_counts()"
      ],
      "metadata": {
        "colab": {
          "base_uri": "https://localhost:8080/"
        },
        "id": "TMNjtKPrEm0n",
        "outputId": "4a4741f1-f611-4874-a139-985ae4cc431a"
      },
      "execution_count": 28,
      "outputs": [
        {
          "output_type": "execute_result",
          "data": {
            "text/plain": [
              "1    5430\n",
              "0    3567\n",
              "Name: label, dtype: int64"
            ]
          },
          "metadata": {},
          "execution_count": 28
        }
      ]
    },
    {
      "cell_type": "markdown",
      "source": [
        "*In this task, we don't need to perform any data cleaning, since we already did that. So we jump straight into feature extraction*"
      ],
      "metadata": {
        "id": "wvSWXSK9E5k1"
      }
    },
    {
      "cell_type": "markdown",
      "source": [
        "##### Feature Extraction using TF-IDF"
      ],
      "metadata": {
        "id": "Qc2lEGpnFRKm"
      }
    },
    {
      "cell_type": "code",
      "source": [
        "X_train,X_test,Y_train, Y_test = train_test_split(df1['pre_process'], df1['label'], test_size=0.25, random_state=30)\n",
        "print(\"Train: \",X_train.shape,Y_train.shape,\"Test: \",(X_test.shape,Y_test.shape))"
      ],
      "metadata": {
        "colab": {
          "base_uri": "https://localhost:8080/"
        },
        "id": "TM_m42ELExCX",
        "outputId": "8a750aad-216c-4afc-c7f3-6d9f2253dd04"
      },
      "execution_count": 29,
      "outputs": [
        {
          "output_type": "stream",
          "name": "stdout",
          "text": [
            "Train:  (6747,) (6747,) Test:  ((2250,), (2250,))\n"
          ]
        }
      ]
    },
    {
      "cell_type": "code",
      "source": [
        "# Using TFIDF Vectorizer\n",
        "vectorizer= TfidfVectorizer()\n",
        "tf_x_train = vectorizer.fit_transform(X_train)\n",
        "tf_x_test = vectorizer.transform(X_test)"
      ],
      "metadata": {
        "id": "PEIoEaDCFUHj"
      },
      "execution_count": 30,
      "outputs": []
    },
    {
      "cell_type": "markdown",
      "source": [
        "###### First Classifier - SVM"
      ],
      "metadata": {
        "id": "TSrmijRfFz7k"
      }
    },
    {
      "cell_type": "code",
      "source": [
        "# Implementing SVM with sklearn for classification\n",
        "clf = LinearSVC(random_state=0)\n",
        "# Fitting the Training data into model\n",
        "clf.fit(tf_x_train,Y_train)\n",
        "# Predicting the Test data\n",
        "y_test_pred=clf.predict(tf_x_test)\n",
        "# Analyzing the results\n",
        "report=classification_report(Y_test, y_test_pred,output_dict=True)\n",
        "report"
      ],
      "metadata": {
        "colab": {
          "base_uri": "https://localhost:8080/"
        },
        "id": "PNcUojOpF06S",
        "outputId": "7b10bd66-b7a9-4ee5-cd3e-ba629b655785"
      },
      "execution_count": 31,
      "outputs": [
        {
          "output_type": "execute_result",
          "data": {
            "text/plain": [
              "{'0': {'f1-score': 1.0, 'precision': 1.0, 'recall': 1.0, 'support': 890},\n",
              " '1': {'f1-score': 1.0, 'precision': 1.0, 'recall': 1.0, 'support': 1360},\n",
              " 'accuracy': 1.0,\n",
              " 'macro avg': {'f1-score': 1.0,\n",
              "  'precision': 1.0,\n",
              "  'recall': 1.0,\n",
              "  'support': 2250},\n",
              " 'weighted avg': {'f1-score': 1.0,\n",
              "  'precision': 1.0,\n",
              "  'recall': 1.0,\n",
              "  'support': 2250}}"
            ]
          },
          "metadata": {},
          "execution_count": 31
        }
      ]
    },
    {
      "cell_type": "markdown",
      "source": [
        "***By Using the SVM classifier we still got an accuracy of 100%***"
      ],
      "metadata": {
        "id": "COKNhyXJGIbs"
      }
    },
    {
      "cell_type": "markdown",
      "source": [
        "###### Second Classifier - Logistic Regression"
      ],
      "metadata": {
        "id": "BJ7-ZVfJGMTY"
      }
    },
    {
      "cell_type": "code",
      "source": [
        "clf = LogisticRegression(max_iter=1000,solver='saga')\n",
        "clf.fit(tf_x_train,Y_train)\n",
        "y_test_pred=clf.predict(tf_x_test)\n",
        "# Analysing Logistic regression report\n",
        "report=classification_report(Y_test, y_test_pred,output_dict=True)\n",
        "report"
      ],
      "metadata": {
        "colab": {
          "base_uri": "https://localhost:8080/"
        },
        "id": "kajgMVgxGLsc",
        "outputId": "31b776fe-2303-46a8-bfaa-fadb58605760"
      },
      "execution_count": 32,
      "outputs": [
        {
          "output_type": "execute_result",
          "data": {
            "text/plain": [
              "{'0': {'f1-score': 1.0, 'precision': 1.0, 'recall': 1.0, 'support': 890},\n",
              " '1': {'f1-score': 1.0, 'precision': 1.0, 'recall': 1.0, 'support': 1360},\n",
              " 'accuracy': 1.0,\n",
              " 'macro avg': {'f1-score': 1.0,\n",
              "  'precision': 1.0,\n",
              "  'recall': 1.0,\n",
              "  'support': 2250},\n",
              " 'weighted avg': {'f1-score': 1.0,\n",
              "  'precision': 1.0,\n",
              "  'recall': 1.0,\n",
              "  'support': 2250}}"
            ]
          },
          "metadata": {},
          "execution_count": 32
        }
      ]
    },
    {
      "cell_type": "markdown",
      "source": [
        "***By Using the Logistic Regression we got an accuracy of 100%***"
      ],
      "metadata": {
        "id": "oDOdKMOmGeEz"
      }
    }
  ]
}