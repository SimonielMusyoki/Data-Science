{
  "nbformat": 4,
  "nbformat_minor": 0,
  "metadata": {
    "colab": {
      "name": "Sentiment Analysis",
      "provenance": [],
      "collapsed_sections": [
        "Hdl4TiFF6vO8",
        "U0fc83VYAhsw"
      ],
      "authorship_tag": "ABX9TyMSc5ZDmPh8DpA4ctDTWcoe",
      "include_colab_link": true
    },
    "kernelspec": {
      "name": "python3",
      "display_name": "Python 3"
    },
    "language_info": {
      "name": "python"
    }
  },
  "cells": [
    {
      "cell_type": "markdown",
      "metadata": {
        "id": "view-in-github",
        "colab_type": "text"
      },
      "source": [
        "<a href=\"https://colab.research.google.com/github/SimonielMusyoki/Data-Science/blob/master/Sentiment_Analysis.ipynb\" target=\"_parent\"><img src=\"https://colab.research.google.com/assets/colab-badge.svg\" alt=\"Open In Colab\"/></a>"
      ]
    },
    {
      "cell_type": "markdown",
      "source": [
        "## **Task 2**"
      ],
      "metadata": {
        "id": "Hdl4TiFF6vO8"
      }
    },
    {
      "cell_type": "code",
      "execution_count": null,
      "metadata": {
        "id": "kyLHG3Ur6gSq"
      },
      "outputs": [],
      "source": [
        "# Importing Libraries\n",
        "import pandas as pd\n",
        "import numpy as np\n",
        "import spacy\n",
        "import re\n",
        "\n",
        "import nltk\n",
        "from nltk.stem import WordNetLemmatizer\n",
        "from nltk.corpus import stopwords\n",
        "\n",
        "from sklearn.model_selection import train_test_split\n",
        "from sklearn.feature_extraction.text import TfidfVectorizer\n",
        "from sklearn.svm import LinearSVC\n",
        "from sklearn.linear_model import LogisticRegression\n",
        "from sklearn.metrics import classification_report\n",
        "\n",
        "from bs4 import BeautifulSoup\n"
      ]
    },
    {
      "cell_type": "code",
      "source": [
        "# Set up\n",
        "nlp = spacy.load(\"en\", disable=[\"parser\", \"ner\"])\n",
        "nltk.download('stopwords')\n",
        "nltk.download('punkt')\n",
        "nltk.download('wordnet')\n",
        "stopwords = nltk.corpus.stopwords.words('english')\n",
        "stopwords_lower = [s.lower() for s in stopwords]\n",
        "np.warnings.filterwarnings('ignore')"
      ],
      "metadata": {
        "colab": {
          "base_uri": "https://localhost:8080/"
        },
        "id": "yttkSil36-bc",
        "outputId": "a37721dd-717d-4ca7-cbb8-d336d06555c0"
      },
      "execution_count": null,
      "outputs": [
        {
          "output_type": "stream",
          "name": "stdout",
          "text": [
            "[nltk_data] Downloading package stopwords to /root/nltk_data...\n",
            "[nltk_data]   Package stopwords is already up-to-date!\n",
            "[nltk_data] Downloading package punkt to /root/nltk_data...\n",
            "[nltk_data]   Package punkt is already up-to-date!\n",
            "[nltk_data] Downloading package wordnet to /root/nltk_data...\n",
            "[nltk_data]   Package wordnet is already up-to-date!\n"
          ]
        }
      ]
    },
    {
      "cell_type": "code",
      "source": [
        "# Read data from CSV\n",
        "df = pd.read_csv('data.csv')\n",
        "df.head()"
      ],
      "metadata": {
        "colab": {
          "base_uri": "https://localhost:8080/",
          "height": 320
        },
        "id": "quTYDRKu7r7h",
        "outputId": "b25d4944-d87c-4276-e8c2-690fd9f4db2f"
      },
      "execution_count": null,
      "outputs": [
        {
          "output_type": "execute_result",
          "data": {
            "text/plain": [
              "                                               title  stars  \\\n",
              "0  The herbs were great...but the cherry tomatoes...      2   \n",
              "1      Even more useful than regular parchment paper      5   \n",
              "2                        Shake it before you bake it      2   \n",
              "3                     Not what the picture describes      2   \n",
              "4                  What a ripe off - GIVE ME A BREAK      2   \n",
              "\n",
              "                                              review  helpful_votes  \\\n",
              "0  The herb kit that came with my Aerogarden was ...             15   \n",
              "1  I originally bought this just because it was c...             19   \n",
              "2  If you do it in reverse (bake before shaking),...              2   \n",
              "3  I bought this steak for my father in law for C...              7   \n",
              "4  Sorry but I had these noodles and they are no ...             10   \n",
              "\n",
              "   total_votes  \n",
              "0           17  \n",
              "1           19  \n",
              "2           13  \n",
              "3           14  \n",
              "4           34  "
            ],
            "text/html": [
              "\n",
              "  <div id=\"df-cccba24d-3133-4f60-b7f6-d668543907fa\">\n",
              "    <div class=\"colab-df-container\">\n",
              "      <div>\n",
              "<style scoped>\n",
              "    .dataframe tbody tr th:only-of-type {\n",
              "        vertical-align: middle;\n",
              "    }\n",
              "\n",
              "    .dataframe tbody tr th {\n",
              "        vertical-align: top;\n",
              "    }\n",
              "\n",
              "    .dataframe thead th {\n",
              "        text-align: right;\n",
              "    }\n",
              "</style>\n",
              "<table border=\"1\" class=\"dataframe\">\n",
              "  <thead>\n",
              "    <tr style=\"text-align: right;\">\n",
              "      <th></th>\n",
              "      <th>title</th>\n",
              "      <th>stars</th>\n",
              "      <th>review</th>\n",
              "      <th>helpful_votes</th>\n",
              "      <th>total_votes</th>\n",
              "    </tr>\n",
              "  </thead>\n",
              "  <tbody>\n",
              "    <tr>\n",
              "      <th>0</th>\n",
              "      <td>The herbs were great...but the cherry tomatoes...</td>\n",
              "      <td>2</td>\n",
              "      <td>The herb kit that came with my Aerogarden was ...</td>\n",
              "      <td>15</td>\n",
              "      <td>17</td>\n",
              "    </tr>\n",
              "    <tr>\n",
              "      <th>1</th>\n",
              "      <td>Even more useful than regular parchment paper</td>\n",
              "      <td>5</td>\n",
              "      <td>I originally bought this just because it was c...</td>\n",
              "      <td>19</td>\n",
              "      <td>19</td>\n",
              "    </tr>\n",
              "    <tr>\n",
              "      <th>2</th>\n",
              "      <td>Shake it before you bake it</td>\n",
              "      <td>2</td>\n",
              "      <td>If you do it in reverse (bake before shaking),...</td>\n",
              "      <td>2</td>\n",
              "      <td>13</td>\n",
              "    </tr>\n",
              "    <tr>\n",
              "      <th>3</th>\n",
              "      <td>Not what the picture describes</td>\n",
              "      <td>2</td>\n",
              "      <td>I bought this steak for my father in law for C...</td>\n",
              "      <td>7</td>\n",
              "      <td>14</td>\n",
              "    </tr>\n",
              "    <tr>\n",
              "      <th>4</th>\n",
              "      <td>What a ripe off - GIVE ME A BREAK</td>\n",
              "      <td>2</td>\n",
              "      <td>Sorry but I had these noodles and they are no ...</td>\n",
              "      <td>10</td>\n",
              "      <td>34</td>\n",
              "    </tr>\n",
              "  </tbody>\n",
              "</table>\n",
              "</div>\n",
              "      <button class=\"colab-df-convert\" onclick=\"convertToInteractive('df-cccba24d-3133-4f60-b7f6-d668543907fa')\"\n",
              "              title=\"Convert this dataframe to an interactive table.\"\n",
              "              style=\"display:none;\">\n",
              "        \n",
              "  <svg xmlns=\"http://www.w3.org/2000/svg\" height=\"24px\"viewBox=\"0 0 24 24\"\n",
              "       width=\"24px\">\n",
              "    <path d=\"M0 0h24v24H0V0z\" fill=\"none\"/>\n",
              "    <path d=\"M18.56 5.44l.94 2.06.94-2.06 2.06-.94-2.06-.94-.94-2.06-.94 2.06-2.06.94zm-11 1L8.5 8.5l.94-2.06 2.06-.94-2.06-.94L8.5 2.5l-.94 2.06-2.06.94zm10 10l.94 2.06.94-2.06 2.06-.94-2.06-.94-.94-2.06-.94 2.06-2.06.94z\"/><path d=\"M17.41 7.96l-1.37-1.37c-.4-.4-.92-.59-1.43-.59-.52 0-1.04.2-1.43.59L10.3 9.45l-7.72 7.72c-.78.78-.78 2.05 0 2.83L4 21.41c.39.39.9.59 1.41.59.51 0 1.02-.2 1.41-.59l7.78-7.78 2.81-2.81c.8-.78.8-2.07 0-2.86zM5.41 20L4 18.59l7.72-7.72 1.47 1.35L5.41 20z\"/>\n",
              "  </svg>\n",
              "      </button>\n",
              "      \n",
              "  <style>\n",
              "    .colab-df-container {\n",
              "      display:flex;\n",
              "      flex-wrap:wrap;\n",
              "      gap: 12px;\n",
              "    }\n",
              "\n",
              "    .colab-df-convert {\n",
              "      background-color: #E8F0FE;\n",
              "      border: none;\n",
              "      border-radius: 50%;\n",
              "      cursor: pointer;\n",
              "      display: none;\n",
              "      fill: #1967D2;\n",
              "      height: 32px;\n",
              "      padding: 0 0 0 0;\n",
              "      width: 32px;\n",
              "    }\n",
              "\n",
              "    .colab-df-convert:hover {\n",
              "      background-color: #E2EBFA;\n",
              "      box-shadow: 0px 1px 2px rgba(60, 64, 67, 0.3), 0px 1px 3px 1px rgba(60, 64, 67, 0.15);\n",
              "      fill: #174EA6;\n",
              "    }\n",
              "\n",
              "    [theme=dark] .colab-df-convert {\n",
              "      background-color: #3B4455;\n",
              "      fill: #D2E3FC;\n",
              "    }\n",
              "\n",
              "    [theme=dark] .colab-df-convert:hover {\n",
              "      background-color: #434B5C;\n",
              "      box-shadow: 0px 1px 3px 1px rgba(0, 0, 0, 0.15);\n",
              "      filter: drop-shadow(0px 1px 2px rgba(0, 0, 0, 0.3));\n",
              "      fill: #FFFFFF;\n",
              "    }\n",
              "  </style>\n",
              "\n",
              "      <script>\n",
              "        const buttonEl =\n",
              "          document.querySelector('#df-cccba24d-3133-4f60-b7f6-d668543907fa button.colab-df-convert');\n",
              "        buttonEl.style.display =\n",
              "          google.colab.kernel.accessAllowed ? 'block' : 'none';\n",
              "\n",
              "        async function convertToInteractive(key) {\n",
              "          const element = document.querySelector('#df-cccba24d-3133-4f60-b7f6-d668543907fa');\n",
              "          const dataTable =\n",
              "            await google.colab.kernel.invokeFunction('convertToInteractive',\n",
              "                                                     [key], {});\n",
              "          if (!dataTable) return;\n",
              "\n",
              "          const docLinkHtml = 'Like what you see? Visit the ' +\n",
              "            '<a target=\"_blank\" href=https://colab.research.google.com/notebooks/data_table.ipynb>data table notebook</a>'\n",
              "            + ' to learn more about interactive tables.';\n",
              "          element.innerHTML = '';\n",
              "          dataTable['output_type'] = 'display_data';\n",
              "          await google.colab.output.renderOutput(dataTable, element);\n",
              "          const docLink = document.createElement('div');\n",
              "          docLink.innerHTML = docLinkHtml;\n",
              "          element.appendChild(docLink);\n",
              "        }\n",
              "      </script>\n",
              "    </div>\n",
              "  </div>\n",
              "  "
            ]
          },
          "metadata": {},
          "execution_count": 12
        }
      ]
    },
    {
      "cell_type": "markdown",
      "source": [
        "##### Data Cleaning"
      ],
      "metadata": {
        "id": "mWD4H_Lp9ZDI"
      }
    },
    {
      "cell_type": "code",
      "source": [
        "# Remove Null values\n",
        "df=df.dropna()\n",
        "df = df.reset_index(drop=True)"
      ],
      "metadata": {
        "id": "VYqtzUyU9fj9"
      },
      "execution_count": null,
      "outputs": []
    },
    {
      "cell_type": "code",
      "source": [
        "# Convert star and votes to integers\n",
        "df['stars'] = df['stars'].astype(int)\n",
        "df['helpful_votes'] = df['helpful_votes'].astype(int)\n",
        "df['total_votes'] = df['total_votes'].astype(int)"
      ],
      "metadata": {
        "id": "4znpIx8x-H-p"
      },
      "execution_count": null,
      "outputs": []
    },
    {
      "cell_type": "code",
      "source": [
        "# Assign a class label \"positive/negative\" to reviews\n",
        "df['label']=np.where(df[\"stars\"]>=4,1,0) #1-Positve,0-Negative\n",
        "df"
      ],
      "metadata": {
        "colab": {
          "base_uri": "https://localhost:8080/",
          "height": 641
        },
        "id": "b5R6by0J-LKV",
        "outputId": "70afc651-ca14-48cc-fb6c-a32e83586469"
      },
      "execution_count": null,
      "outputs": [
        {
          "output_type": "execute_result",
          "data": {
            "text/plain": [
              "                                                  title  stars  \\\n",
              "0     The herbs were great...but the cherry tomatoes...      2   \n",
              "1         Even more useful than regular parchment paper      5   \n",
              "2                           Shake it before you bake it      2   \n",
              "3                        Not what the picture describes      2   \n",
              "4                     What a ripe off - GIVE ME A BREAK      2   \n",
              "...                                                 ...    ...   \n",
              "9239                 Ovaltine has changed their formula      1   \n",
              "9240                           Perhaps too compostable?      3   \n",
              "9241       Nutiva Organic Shelled Hempseed, 5-Pound Bag      5   \n",
              "9242                          This gum is really great!      5   \n",
              "9243                                Cat Scratch Fever!!      5   \n",
              "\n",
              "                                                 review  helpful_votes  \\\n",
              "0     The herb kit that came with my Aerogarden was ...             15   \n",
              "1     I originally bought this just because it was c...             19   \n",
              "2     If you do it in reverse (bake before shaking),...              2   \n",
              "3     I bought this steak for my father in law for C...              7   \n",
              "4     Sorry but I had these noodles and they are no ...             10   \n",
              "...                                                 ...            ...   \n",
              "9239  Ovaltine has updated their packaging and chang...             25   \n",
              "9240  I bought these bags to go with Trading ECO-200...             20   \n",
              "9241  This item was brought up in a forum with a lin...             22   \n",
              "9242  If you have problems with Aspartame (which is ...             17   \n",
              "9243  I opened up the cat scratcher, spread a little...             27   \n",
              "\n",
              "      total_votes  label  \n",
              "0              17      0  \n",
              "1              19      1  \n",
              "2              13      0  \n",
              "3              14      0  \n",
              "4              34      0  \n",
              "...           ...    ...  \n",
              "9239           27      0  \n",
              "9240           21      0  \n",
              "9241           26      1  \n",
              "9242           17      1  \n",
              "9243           27      1  \n",
              "\n",
              "[9244 rows x 6 columns]"
            ],
            "text/html": [
              "\n",
              "  <div id=\"df-510f9f35-95ae-4abc-bf43-dbec7a7bc50d\">\n",
              "    <div class=\"colab-df-container\">\n",
              "      <div>\n",
              "<style scoped>\n",
              "    .dataframe tbody tr th:only-of-type {\n",
              "        vertical-align: middle;\n",
              "    }\n",
              "\n",
              "    .dataframe tbody tr th {\n",
              "        vertical-align: top;\n",
              "    }\n",
              "\n",
              "    .dataframe thead th {\n",
              "        text-align: right;\n",
              "    }\n",
              "</style>\n",
              "<table border=\"1\" class=\"dataframe\">\n",
              "  <thead>\n",
              "    <tr style=\"text-align: right;\">\n",
              "      <th></th>\n",
              "      <th>title</th>\n",
              "      <th>stars</th>\n",
              "      <th>review</th>\n",
              "      <th>helpful_votes</th>\n",
              "      <th>total_votes</th>\n",
              "      <th>label</th>\n",
              "    </tr>\n",
              "  </thead>\n",
              "  <tbody>\n",
              "    <tr>\n",
              "      <th>0</th>\n",
              "      <td>The herbs were great...but the cherry tomatoes...</td>\n",
              "      <td>2</td>\n",
              "      <td>The herb kit that came with my Aerogarden was ...</td>\n",
              "      <td>15</td>\n",
              "      <td>17</td>\n",
              "      <td>0</td>\n",
              "    </tr>\n",
              "    <tr>\n",
              "      <th>1</th>\n",
              "      <td>Even more useful than regular parchment paper</td>\n",
              "      <td>5</td>\n",
              "      <td>I originally bought this just because it was c...</td>\n",
              "      <td>19</td>\n",
              "      <td>19</td>\n",
              "      <td>1</td>\n",
              "    </tr>\n",
              "    <tr>\n",
              "      <th>2</th>\n",
              "      <td>Shake it before you bake it</td>\n",
              "      <td>2</td>\n",
              "      <td>If you do it in reverse (bake before shaking),...</td>\n",
              "      <td>2</td>\n",
              "      <td>13</td>\n",
              "      <td>0</td>\n",
              "    </tr>\n",
              "    <tr>\n",
              "      <th>3</th>\n",
              "      <td>Not what the picture describes</td>\n",
              "      <td>2</td>\n",
              "      <td>I bought this steak for my father in law for C...</td>\n",
              "      <td>7</td>\n",
              "      <td>14</td>\n",
              "      <td>0</td>\n",
              "    </tr>\n",
              "    <tr>\n",
              "      <th>4</th>\n",
              "      <td>What a ripe off - GIVE ME A BREAK</td>\n",
              "      <td>2</td>\n",
              "      <td>Sorry but I had these noodles and they are no ...</td>\n",
              "      <td>10</td>\n",
              "      <td>34</td>\n",
              "      <td>0</td>\n",
              "    </tr>\n",
              "    <tr>\n",
              "      <th>...</th>\n",
              "      <td>...</td>\n",
              "      <td>...</td>\n",
              "      <td>...</td>\n",
              "      <td>...</td>\n",
              "      <td>...</td>\n",
              "      <td>...</td>\n",
              "    </tr>\n",
              "    <tr>\n",
              "      <th>9239</th>\n",
              "      <td>Ovaltine has changed their formula</td>\n",
              "      <td>1</td>\n",
              "      <td>Ovaltine has updated their packaging and chang...</td>\n",
              "      <td>25</td>\n",
              "      <td>27</td>\n",
              "      <td>0</td>\n",
              "    </tr>\n",
              "    <tr>\n",
              "      <th>9240</th>\n",
              "      <td>Perhaps too compostable?</td>\n",
              "      <td>3</td>\n",
              "      <td>I bought these bags to go with Trading ECO-200...</td>\n",
              "      <td>20</td>\n",
              "      <td>21</td>\n",
              "      <td>0</td>\n",
              "    </tr>\n",
              "    <tr>\n",
              "      <th>9241</th>\n",
              "      <td>Nutiva Organic Shelled Hempseed, 5-Pound Bag</td>\n",
              "      <td>5</td>\n",
              "      <td>This item was brought up in a forum with a lin...</td>\n",
              "      <td>22</td>\n",
              "      <td>26</td>\n",
              "      <td>1</td>\n",
              "    </tr>\n",
              "    <tr>\n",
              "      <th>9242</th>\n",
              "      <td>This gum is really great!</td>\n",
              "      <td>5</td>\n",
              "      <td>If you have problems with Aspartame (which is ...</td>\n",
              "      <td>17</td>\n",
              "      <td>17</td>\n",
              "      <td>1</td>\n",
              "    </tr>\n",
              "    <tr>\n",
              "      <th>9243</th>\n",
              "      <td>Cat Scratch Fever!!</td>\n",
              "      <td>5</td>\n",
              "      <td>I opened up the cat scratcher, spread a little...</td>\n",
              "      <td>27</td>\n",
              "      <td>27</td>\n",
              "      <td>1</td>\n",
              "    </tr>\n",
              "  </tbody>\n",
              "</table>\n",
              "<p>9244 rows × 6 columns</p>\n",
              "</div>\n",
              "      <button class=\"colab-df-convert\" onclick=\"convertToInteractive('df-510f9f35-95ae-4abc-bf43-dbec7a7bc50d')\"\n",
              "              title=\"Convert this dataframe to an interactive table.\"\n",
              "              style=\"display:none;\">\n",
              "        \n",
              "  <svg xmlns=\"http://www.w3.org/2000/svg\" height=\"24px\"viewBox=\"0 0 24 24\"\n",
              "       width=\"24px\">\n",
              "    <path d=\"M0 0h24v24H0V0z\" fill=\"none\"/>\n",
              "    <path d=\"M18.56 5.44l.94 2.06.94-2.06 2.06-.94-2.06-.94-.94-2.06-.94 2.06-2.06.94zm-11 1L8.5 8.5l.94-2.06 2.06-.94-2.06-.94L8.5 2.5l-.94 2.06-2.06.94zm10 10l.94 2.06.94-2.06 2.06-.94-2.06-.94-.94-2.06-.94 2.06-2.06.94z\"/><path d=\"M17.41 7.96l-1.37-1.37c-.4-.4-.92-.59-1.43-.59-.52 0-1.04.2-1.43.59L10.3 9.45l-7.72 7.72c-.78.78-.78 2.05 0 2.83L4 21.41c.39.39.9.59 1.41.59.51 0 1.02-.2 1.41-.59l7.78-7.78 2.81-2.81c.8-.78.8-2.07 0-2.86zM5.41 20L4 18.59l7.72-7.72 1.47 1.35L5.41 20z\"/>\n",
              "  </svg>\n",
              "      </button>\n",
              "      \n",
              "  <style>\n",
              "    .colab-df-container {\n",
              "      display:flex;\n",
              "      flex-wrap:wrap;\n",
              "      gap: 12px;\n",
              "    }\n",
              "\n",
              "    .colab-df-convert {\n",
              "      background-color: #E8F0FE;\n",
              "      border: none;\n",
              "      border-radius: 50%;\n",
              "      cursor: pointer;\n",
              "      display: none;\n",
              "      fill: #1967D2;\n",
              "      height: 32px;\n",
              "      padding: 0 0 0 0;\n",
              "      width: 32px;\n",
              "    }\n",
              "\n",
              "    .colab-df-convert:hover {\n",
              "      background-color: #E2EBFA;\n",
              "      box-shadow: 0px 1px 2px rgba(60, 64, 67, 0.3), 0px 1px 3px 1px rgba(60, 64, 67, 0.15);\n",
              "      fill: #174EA6;\n",
              "    }\n",
              "\n",
              "    [theme=dark] .colab-df-convert {\n",
              "      background-color: #3B4455;\n",
              "      fill: #D2E3FC;\n",
              "    }\n",
              "\n",
              "    [theme=dark] .colab-df-convert:hover {\n",
              "      background-color: #434B5C;\n",
              "      box-shadow: 0px 1px 3px 1px rgba(0, 0, 0, 0.15);\n",
              "      filter: drop-shadow(0px 1px 2px rgba(0, 0, 0, 0.3));\n",
              "      fill: #FFFFFF;\n",
              "    }\n",
              "  </style>\n",
              "\n",
              "      <script>\n",
              "        const buttonEl =\n",
              "          document.querySelector('#df-510f9f35-95ae-4abc-bf43-dbec7a7bc50d button.colab-df-convert');\n",
              "        buttonEl.style.display =\n",
              "          google.colab.kernel.accessAllowed ? 'block' : 'none';\n",
              "\n",
              "        async function convertToInteractive(key) {\n",
              "          const element = document.querySelector('#df-510f9f35-95ae-4abc-bf43-dbec7a7bc50d');\n",
              "          const dataTable =\n",
              "            await google.colab.kernel.invokeFunction('convertToInteractive',\n",
              "                                                     [key], {});\n",
              "          if (!dataTable) return;\n",
              "\n",
              "          const docLinkHtml = 'Like what you see? Visit the ' +\n",
              "            '<a target=\"_blank\" href=https://colab.research.google.com/notebooks/data_table.ipynb>data table notebook</a>'\n",
              "            + ' to learn more about interactive tables.';\n",
              "          element.innerHTML = '';\n",
              "          dataTable['output_type'] = 'display_data';\n",
              "          await google.colab.output.renderOutput(dataTable, element);\n",
              "          const docLink = document.createElement('div');\n",
              "          docLink.innerHTML = docLinkHtml;\n",
              "          element.appendChild(docLink);\n",
              "        }\n",
              "      </script>\n",
              "    </div>\n",
              "  </div>\n",
              "  "
            ]
          },
          "metadata": {},
          "execution_count": 15
        }
      ]
    },
    {
      "cell_type": "code",
      "source": [
        "df['stars'].value_counts()"
      ],
      "metadata": {
        "colab": {
          "base_uri": "https://localhost:8080/"
        },
        "id": "08qmNgwK-aFX",
        "outputId": "afd45096-c36a-4497-932b-c0c195bd5be9"
      },
      "execution_count": null,
      "outputs": [
        {
          "output_type": "execute_result",
          "data": {
            "text/plain": [
              "5    4511\n",
              "1    2632\n",
              "4     716\n",
              "2     697\n",
              "3     688\n",
              "Name: stars, dtype: int64"
            ]
          },
          "metadata": {},
          "execution_count": 16
        }
      ]
    },
    {
      "cell_type": "markdown",
      "source": [
        "##### Data Preprocessing"
      ],
      "metadata": {
        "id": "wJjT8cbR_QEj"
      }
    },
    {
      "cell_type": "markdown",
      "source": [
        "The first step is convert the all reviews into the lower case."
      ],
      "metadata": {
        "id": "Yx4CWyZldSjw"
      }
    },
    {
      "cell_type": "code",
      "source": [
        "df['pre_process'] = df['review'].apply(lambda x: ' '.join(x.lower() for x in str(x).split()))"
      ],
      "metadata": {
        "id": "2B66LzBL_Qy-"
      },
      "execution_count": null,
      "outputs": []
    },
    {
      "cell_type": "markdown",
      "source": [
        "Next we remove the HTML tags and URLs from the reviews."
      ],
      "metadata": {
        "id": "X9deOaymdbOC"
      }
    },
    {
      "cell_type": "code",
      "source": [
        "\n",
        "df['pre_process']=df['pre_process'].apply(lambda x: BeautifulSoup(x).get_text())\n",
        "df['pre_process']=df['pre_process'].apply(lambda x: re.sub(r\"http\\S+\", \"\", x))"
      ],
      "metadata": {
        "id": "49pScePN_V76"
      },
      "execution_count": null,
      "outputs": []
    },
    {
      "cell_type": "markdown",
      "source": [
        "Then we perform the Contractions on the reviews. Example: **it won’t be** converted as **it will not be**"
      ],
      "metadata": {
        "id": "LAcbVMdQdimx"
      }
    },
    {
      "cell_type": "code",
      "source": [
        "def contractions(s):\n",
        "  s = re.sub(r\"won’t\", \"will not\",s)\n",
        "  s = re.sub(r\"would’t\", \"would not\",s)\n",
        "  s = re.sub(r\"could’t\", \"could not\",s)\n",
        "  s = re.sub(r\"\\’d\", \" would\",s)\n",
        "  s = re.sub(r\"can\\’t\", \"can not\",s)\n",
        "  s = re.sub(r\"n\\’t\", \" not\", s)\n",
        "  s= re.sub(r\"\\’re\", \" are\", s)\n",
        "  s = re.sub(r\"\\’s\", \" is\", s)\n",
        "  s = re.sub(r\"\\’ll\", \" will\", s)\n",
        "  s = re.sub(r\"\\’t\", \" not\", s)\n",
        "  s = re.sub(r\"\\’ve\", \" have\", s)\n",
        "  s = re.sub(r\"\\’m\", \" am\", s)\n",
        "  return s\n",
        "df['pre_process']=df['pre_process'].apply(lambda x:contractions(x))\n"
      ],
      "metadata": {
        "id": "z-0W4Xt-_YGB"
      },
      "execution_count": null,
      "outputs": []
    },
    {
      "cell_type": "markdown",
      "source": [
        "Remove non-alpha characters"
      ],
      "metadata": {
        "id": "WCd5n4OUd9Me"
      }
    },
    {
      "cell_type": "code",
      "source": [
        "df['pre_process'] = df['pre_process'].apply(lambda x: \" \".join([re.sub(\"[^A-Za-z]+\",\"\", x) for x in nltk.word_tokenize(x)]))"
      ],
      "metadata": {
        "id": "cxSN3dln_bKP"
      },
      "execution_count": null,
      "outputs": []
    },
    {
      "cell_type": "markdown",
      "source": [
        "Remove the stop words by using the NLTK package"
      ],
      "metadata": {
        "id": "Pikx_MhgeAjo"
      }
    },
    {
      "cell_type": "code",
      "source": [
        "\n",
        "from nltk.corpus import stopwords\n",
        "stop = stopwords.words('english')\n",
        "df['pre_process'] = df['pre_process'].apply(lambda x: \" \".join([x for x in x.split() if x not in stop]))"
      ],
      "metadata": {
        "id": "w3Xmokt7_hfP"
      },
      "execution_count": null,
      "outputs": []
    },
    {
      "cell_type": "markdown",
      "source": [
        "Finally we, perform lemmatization using the wordnet lemmatizer"
      ],
      "metadata": {
        "id": "HHokYgvaeG6e"
      }
    },
    {
      "cell_type": "code",
      "source": [
        "\n",
        "lemmatizer = WordNetLemmatizer()\n",
        "df['pre_process'] = df['pre_process'].apply(lambda x: \" \".join([lemmatizer.lemmatize(w) for w in nltk.word_tokenize(x)]))\n",
        "df"
      ],
      "metadata": {
        "colab": {
          "base_uri": "https://localhost:8080/",
          "height": 780
        },
        "id": "Q4TT9V8D_uYx",
        "outputId": "cda5f050-c12c-4a0b-a40a-31bdc54e55fe"
      },
      "execution_count": null,
      "outputs": [
        {
          "output_type": "execute_result",
          "data": {
            "text/plain": [
              "                                                  title  stars  \\\n",
              "0     The herbs were great...but the cherry tomatoes...      2   \n",
              "1         Even more useful than regular parchment paper      5   \n",
              "2                           Shake it before you bake it      2   \n",
              "3                        Not what the picture describes      2   \n",
              "4                     What a ripe off - GIVE ME A BREAK      2   \n",
              "...                                                 ...    ...   \n",
              "9239                 Ovaltine has changed their formula      1   \n",
              "9240                           Perhaps too compostable?      3   \n",
              "9241       Nutiva Organic Shelled Hempseed, 5-Pound Bag      5   \n",
              "9242                          This gum is really great!      5   \n",
              "9243                                Cat Scratch Fever!!      5   \n",
              "\n",
              "                                                 review  helpful_votes  \\\n",
              "0     The herb kit that came with my Aerogarden was ...             15   \n",
              "1     I originally bought this just because it was c...             19   \n",
              "2     If you do it in reverse (bake before shaking),...              2   \n",
              "3     I bought this steak for my father in law for C...              7   \n",
              "4     Sorry but I had these noodles and they are no ...             10   \n",
              "...                                                 ...            ...   \n",
              "9239  Ovaltine has updated their packaging and chang...             25   \n",
              "9240  I bought these bags to go with Trading ECO-200...             20   \n",
              "9241  This item was brought up in a forum with a lin...             22   \n",
              "9242  If you have problems with Aspartame (which is ...             17   \n",
              "9243  I opened up the cat scratcher, spread a little...             27   \n",
              "\n",
              "      total_votes  label                                        pre_process  \n",
              "0              17      0  herb kit came aerogarden superb enjoyed caring...  \n",
              "1              19      1  originally bought cheaper regular parchment pa...  \n",
              "2              13      0  reverse bake shaking going get mess parmesan w...  \n",
              "3              14      0  bought steak father law christmas always wante...  \n",
              "4              34      0  sorry noodle better cent version difference sp...  \n",
              "...           ...    ...                                                ...  \n",
              "9239           27      0  ovaltine updated packaging changed formula new...  \n",
              "9240           21      0  bought bag go trading eco gallon kitchen compo...  \n",
              "9241           26      1  item brought forum link superstore dealt super...  \n",
              "9242           17      1  problem aspartame every gum sugarfree gum love...  \n",
              "9243           27      1  opened cat scratcher spread little nip cat wen...  \n",
              "\n",
              "[9244 rows x 7 columns]"
            ],
            "text/html": [
              "\n",
              "  <div id=\"df-64629c51-25b8-4dfd-a824-d25127cd6379\">\n",
              "    <div class=\"colab-df-container\">\n",
              "      <div>\n",
              "<style scoped>\n",
              "    .dataframe tbody tr th:only-of-type {\n",
              "        vertical-align: middle;\n",
              "    }\n",
              "\n",
              "    .dataframe tbody tr th {\n",
              "        vertical-align: top;\n",
              "    }\n",
              "\n",
              "    .dataframe thead th {\n",
              "        text-align: right;\n",
              "    }\n",
              "</style>\n",
              "<table border=\"1\" class=\"dataframe\">\n",
              "  <thead>\n",
              "    <tr style=\"text-align: right;\">\n",
              "      <th></th>\n",
              "      <th>title</th>\n",
              "      <th>stars</th>\n",
              "      <th>review</th>\n",
              "      <th>helpful_votes</th>\n",
              "      <th>total_votes</th>\n",
              "      <th>label</th>\n",
              "      <th>pre_process</th>\n",
              "    </tr>\n",
              "  </thead>\n",
              "  <tbody>\n",
              "    <tr>\n",
              "      <th>0</th>\n",
              "      <td>The herbs were great...but the cherry tomatoes...</td>\n",
              "      <td>2</td>\n",
              "      <td>The herb kit that came with my Aerogarden was ...</td>\n",
              "      <td>15</td>\n",
              "      <td>17</td>\n",
              "      <td>0</td>\n",
              "      <td>herb kit came aerogarden superb enjoyed caring...</td>\n",
              "    </tr>\n",
              "    <tr>\n",
              "      <th>1</th>\n",
              "      <td>Even more useful than regular parchment paper</td>\n",
              "      <td>5</td>\n",
              "      <td>I originally bought this just because it was c...</td>\n",
              "      <td>19</td>\n",
              "      <td>19</td>\n",
              "      <td>1</td>\n",
              "      <td>originally bought cheaper regular parchment pa...</td>\n",
              "    </tr>\n",
              "    <tr>\n",
              "      <th>2</th>\n",
              "      <td>Shake it before you bake it</td>\n",
              "      <td>2</td>\n",
              "      <td>If you do it in reverse (bake before shaking),...</td>\n",
              "      <td>2</td>\n",
              "      <td>13</td>\n",
              "      <td>0</td>\n",
              "      <td>reverse bake shaking going get mess parmesan w...</td>\n",
              "    </tr>\n",
              "    <tr>\n",
              "      <th>3</th>\n",
              "      <td>Not what the picture describes</td>\n",
              "      <td>2</td>\n",
              "      <td>I bought this steak for my father in law for C...</td>\n",
              "      <td>7</td>\n",
              "      <td>14</td>\n",
              "      <td>0</td>\n",
              "      <td>bought steak father law christmas always wante...</td>\n",
              "    </tr>\n",
              "    <tr>\n",
              "      <th>4</th>\n",
              "      <td>What a ripe off - GIVE ME A BREAK</td>\n",
              "      <td>2</td>\n",
              "      <td>Sorry but I had these noodles and they are no ...</td>\n",
              "      <td>10</td>\n",
              "      <td>34</td>\n",
              "      <td>0</td>\n",
              "      <td>sorry noodle better cent version difference sp...</td>\n",
              "    </tr>\n",
              "    <tr>\n",
              "      <th>...</th>\n",
              "      <td>...</td>\n",
              "      <td>...</td>\n",
              "      <td>...</td>\n",
              "      <td>...</td>\n",
              "      <td>...</td>\n",
              "      <td>...</td>\n",
              "      <td>...</td>\n",
              "    </tr>\n",
              "    <tr>\n",
              "      <th>9239</th>\n",
              "      <td>Ovaltine has changed their formula</td>\n",
              "      <td>1</td>\n",
              "      <td>Ovaltine has updated their packaging and chang...</td>\n",
              "      <td>25</td>\n",
              "      <td>27</td>\n",
              "      <td>0</td>\n",
              "      <td>ovaltine updated packaging changed formula new...</td>\n",
              "    </tr>\n",
              "    <tr>\n",
              "      <th>9240</th>\n",
              "      <td>Perhaps too compostable?</td>\n",
              "      <td>3</td>\n",
              "      <td>I bought these bags to go with Trading ECO-200...</td>\n",
              "      <td>20</td>\n",
              "      <td>21</td>\n",
              "      <td>0</td>\n",
              "      <td>bought bag go trading eco gallon kitchen compo...</td>\n",
              "    </tr>\n",
              "    <tr>\n",
              "      <th>9241</th>\n",
              "      <td>Nutiva Organic Shelled Hempseed, 5-Pound Bag</td>\n",
              "      <td>5</td>\n",
              "      <td>This item was brought up in a forum with a lin...</td>\n",
              "      <td>22</td>\n",
              "      <td>26</td>\n",
              "      <td>1</td>\n",
              "      <td>item brought forum link superstore dealt super...</td>\n",
              "    </tr>\n",
              "    <tr>\n",
              "      <th>9242</th>\n",
              "      <td>This gum is really great!</td>\n",
              "      <td>5</td>\n",
              "      <td>If you have problems with Aspartame (which is ...</td>\n",
              "      <td>17</td>\n",
              "      <td>17</td>\n",
              "      <td>1</td>\n",
              "      <td>problem aspartame every gum sugarfree gum love...</td>\n",
              "    </tr>\n",
              "    <tr>\n",
              "      <th>9243</th>\n",
              "      <td>Cat Scratch Fever!!</td>\n",
              "      <td>5</td>\n",
              "      <td>I opened up the cat scratcher, spread a little...</td>\n",
              "      <td>27</td>\n",
              "      <td>27</td>\n",
              "      <td>1</td>\n",
              "      <td>opened cat scratcher spread little nip cat wen...</td>\n",
              "    </tr>\n",
              "  </tbody>\n",
              "</table>\n",
              "<p>9244 rows × 7 columns</p>\n",
              "</div>\n",
              "      <button class=\"colab-df-convert\" onclick=\"convertToInteractive('df-64629c51-25b8-4dfd-a824-d25127cd6379')\"\n",
              "              title=\"Convert this dataframe to an interactive table.\"\n",
              "              style=\"display:none;\">\n",
              "        \n",
              "  <svg xmlns=\"http://www.w3.org/2000/svg\" height=\"24px\"viewBox=\"0 0 24 24\"\n",
              "       width=\"24px\">\n",
              "    <path d=\"M0 0h24v24H0V0z\" fill=\"none\"/>\n",
              "    <path d=\"M18.56 5.44l.94 2.06.94-2.06 2.06-.94-2.06-.94-.94-2.06-.94 2.06-2.06.94zm-11 1L8.5 8.5l.94-2.06 2.06-.94-2.06-.94L8.5 2.5l-.94 2.06-2.06.94zm10 10l.94 2.06.94-2.06 2.06-.94-2.06-.94-.94-2.06-.94 2.06-2.06.94z\"/><path d=\"M17.41 7.96l-1.37-1.37c-.4-.4-.92-.59-1.43-.59-.52 0-1.04.2-1.43.59L10.3 9.45l-7.72 7.72c-.78.78-.78 2.05 0 2.83L4 21.41c.39.39.9.59 1.41.59.51 0 1.02-.2 1.41-.59l7.78-7.78 2.81-2.81c.8-.78.8-2.07 0-2.86zM5.41 20L4 18.59l7.72-7.72 1.47 1.35L5.41 20z\"/>\n",
              "  </svg>\n",
              "      </button>\n",
              "      \n",
              "  <style>\n",
              "    .colab-df-container {\n",
              "      display:flex;\n",
              "      flex-wrap:wrap;\n",
              "      gap: 12px;\n",
              "    }\n",
              "\n",
              "    .colab-df-convert {\n",
              "      background-color: #E8F0FE;\n",
              "      border: none;\n",
              "      border-radius: 50%;\n",
              "      cursor: pointer;\n",
              "      display: none;\n",
              "      fill: #1967D2;\n",
              "      height: 32px;\n",
              "      padding: 0 0 0 0;\n",
              "      width: 32px;\n",
              "    }\n",
              "\n",
              "    .colab-df-convert:hover {\n",
              "      background-color: #E2EBFA;\n",
              "      box-shadow: 0px 1px 2px rgba(60, 64, 67, 0.3), 0px 1px 3px 1px rgba(60, 64, 67, 0.15);\n",
              "      fill: #174EA6;\n",
              "    }\n",
              "\n",
              "    [theme=dark] .colab-df-convert {\n",
              "      background-color: #3B4455;\n",
              "      fill: #D2E3FC;\n",
              "    }\n",
              "\n",
              "    [theme=dark] .colab-df-convert:hover {\n",
              "      background-color: #434B5C;\n",
              "      box-shadow: 0px 1px 3px 1px rgba(0, 0, 0, 0.15);\n",
              "      filter: drop-shadow(0px 1px 2px rgba(0, 0, 0, 0.3));\n",
              "      fill: #FFFFFF;\n",
              "    }\n",
              "  </style>\n",
              "\n",
              "      <script>\n",
              "        const buttonEl =\n",
              "          document.querySelector('#df-64629c51-25b8-4dfd-a824-d25127cd6379 button.colab-df-convert');\n",
              "        buttonEl.style.display =\n",
              "          google.colab.kernel.accessAllowed ? 'block' : 'none';\n",
              "\n",
              "        async function convertToInteractive(key) {\n",
              "          const element = document.querySelector('#df-64629c51-25b8-4dfd-a824-d25127cd6379');\n",
              "          const dataTable =\n",
              "            await google.colab.kernel.invokeFunction('convertToInteractive',\n",
              "                                                     [key], {});\n",
              "          if (!dataTable) return;\n",
              "\n",
              "          const docLinkHtml = 'Like what you see? Visit the ' +\n",
              "            '<a target=\"_blank\" href=https://colab.research.google.com/notebooks/data_table.ipynb>data table notebook</a>'\n",
              "            + ' to learn more about interactive tables.';\n",
              "          element.innerHTML = '';\n",
              "          dataTable['output_type'] = 'display_data';\n",
              "          await google.colab.output.renderOutput(dataTable, element);\n",
              "          const docLink = document.createElement('div');\n",
              "          docLink.innerHTML = docLinkHtml;\n",
              "          element.appendChild(docLink);\n",
              "        }\n",
              "      </script>\n",
              "    </div>\n",
              "  </div>\n",
              "  "
            ]
          },
          "metadata": {},
          "execution_count": 22
        }
      ]
    },
    {
      "cell_type": "markdown",
      "source": [
        "##### Feature Extraction using TF-IDF"
      ],
      "metadata": {
        "id": "NkpwN6UDAUaN"
      }
    },
    {
      "cell_type": "code",
      "source": [
        "X_train,X_test,Y_train, Y_test = train_test_split(df['pre_process'], df['label'], test_size=0.25, random_state=30)\n",
        "print(\"Train: \",X_train.shape,Y_train.shape,\"Test: \",(X_test.shape,Y_test.shape))"
      ],
      "metadata": {
        "colab": {
          "base_uri": "https://localhost:8080/"
        },
        "id": "EHGmhLCHAJ0H",
        "outputId": "fded5298-627c-48bb-8e37-d08e88450ea6"
      },
      "execution_count": null,
      "outputs": [
        {
          "output_type": "stream",
          "name": "stdout",
          "text": [
            "Train:  (6933,) (6933,) Test:  ((2311,), (2311,))\n"
          ]
        }
      ]
    },
    {
      "cell_type": "code",
      "source": [
        "# Using TFIDF Vectorizer\n",
        "\n",
        "vectorizer= TfidfVectorizer()\n",
        "tf_x_train = vectorizer.fit_transform(X_train)\n",
        "tf_x_test = vectorizer.transform(X_test)"
      ],
      "metadata": {
        "id": "QYS9pTUGAVWP"
      },
      "execution_count": null,
      "outputs": []
    },
    {
      "cell_type": "markdown",
      "source": [
        "###### First Classifier - SVM"
      ],
      "metadata": {
        "id": "U0fc83VYAhsw"
      }
    },
    {
      "cell_type": "code",
      "source": [
        "# Implementing SVM with sklearn for classification\n",
        "clf = LinearSVC(random_state=0)\n",
        "# Fitting the Training data into model\n",
        "clf.fit(tf_x_train,Y_train)\n",
        "# Predicting the Test data\n",
        "y_test_pred=clf.predict(tf_x_test)\n",
        "report = classification_report(Y_test, y_test_pred,output_dict=True)\n",
        "report"
      ],
      "metadata": {
        "colab": {
          "base_uri": "https://localhost:8080/"
        },
        "id": "GQaq7PM3AfUI",
        "outputId": "7ad3980b-51c4-4f3e-8f6d-b063f043ebca"
      },
      "execution_count": null,
      "outputs": [
        {
          "output_type": "execute_result",
          "data": {
            "text/plain": [
              "{'0': {'f1-score': 0.8326530612244898,\n",
              "  'precision': 0.8309572301425662,\n",
              "  'recall': 0.8343558282208589,\n",
              "  'support': 978},\n",
              " '1': {'f1-score': 0.8767843726521413,\n",
              "  'precision': 0.8781038374717833,\n",
              "  'recall': 0.8754688672168042,\n",
              "  'support': 1333},\n",
              " 'accuracy': 0.8580700995240156,\n",
              " 'macro avg': {'f1-score': 0.8547187169383155,\n",
              "  'precision': 0.8545305338071747,\n",
              "  'recall': 0.8549123477188315,\n",
              "  'support': 2311},\n",
              " 'weighted avg': {'f1-score': 0.8581082919181546,\n",
              "  'precision': 0.8581517033445767,\n",
              "  'recall': 0.8580700995240156,\n",
              "  'support': 2311}}"
            ]
          },
          "metadata": {},
          "execution_count": 25
        }
      ]
    },
    {
      "cell_type": "markdown",
      "source": [
        "***By Using the SVM classifier we got an accuracy of 100%***"
      ],
      "metadata": {
        "id": "ByBt6JPBA0pq"
      }
    },
    {
      "cell_type": "markdown",
      "source": [
        "###### Second Classifier - Logistic Regression"
      ],
      "metadata": {
        "id": "zxlj_XnNA4d_"
      }
    },
    {
      "cell_type": "code",
      "source": [
        "clf = LogisticRegression(max_iter=1000,solver='saga')\n",
        "clf.fit(tf_x_train,Y_train)\n",
        "y_test_pred=clf.predict(tf_x_test)\n",
        "report=classification_report(Y_test, y_test_pred,output_dict=True)\n",
        "report"
      ],
      "metadata": {
        "colab": {
          "base_uri": "https://localhost:8080/"
        },
        "id": "SpO_uRLuAjv4",
        "outputId": "8c2205d8-b376-4e49-8729-5d06bf3adc5c"
      },
      "execution_count": null,
      "outputs": [
        {
          "output_type": "execute_result",
          "data": {
            "text/plain": [
              "{'0': {'f1-score': 0.8098999473407057,\n",
              "  'precision': 0.8349619978284474,\n",
              "  'recall': 0.7862985685071575,\n",
              "  'support': 978},\n",
              " '1': {'f1-score': 0.8674256334924716,\n",
              "  'precision': 0.8496402877697842,\n",
              "  'recall': 0.8859714928732183,\n",
              "  'support': 1333},\n",
              " 'accuracy': 0.8437905668541756,\n",
              " 'macro avg': {'f1-score': 0.8386627904165886,\n",
              "  'precision': 0.8423011427991158,\n",
              "  'recall': 0.8361350306901879,\n",
              "  'support': 2311},\n",
              " 'weighted avg': {'f1-score': 0.8430811414732475,\n",
              "  'precision': 0.8434285320092357,\n",
              "  'recall': 0.8437905668541756,\n",
              "  'support': 2311}}"
            ]
          },
          "metadata": {},
          "execution_count": 26
        }
      ]
    },
    {
      "cell_type": "markdown",
      "source": [
        "***By Using the Logistic Regression we got an accuracy of 100%***"
      ],
      "metadata": {
        "id": "EiSM47zyBJBM"
      }
    },
    {
      "cell_type": "markdown",
      "source": [
        "As seen both classifiers are 100% accurate. This means that the classifiers are perfect and can predict any incoming review with 100% confidence level. There are two reasons for this \"unexpected accuracy\", since normally classification algoriths are never 100% accurate:\n",
        "\n",
        "\n",
        "1.   Relative low amount of data to train and test the classifier with - There are 8997 reviews in this case. Depending on the kind of task, ML algorithms require more data. For this kind of task, 1M reviews would be good for our classifier\n",
        "2.   Corellated/Similar data - In our reviews, most of the wordings are the same, which means the classifier built has just few layers before it makes a decision, hence an accuracy of 100%\n",
        "\n"
      ],
      "metadata": {
        "id": "l6tqM545efFw"
      }
    },
    {
      "cell_type": "markdown",
      "source": [
        "## **Task 3**"
      ],
      "metadata": {
        "id": "4Q2PD0sSBazB"
      }
    },
    {
      "cell_type": "markdown",
      "source": [
        "In this task, we shall have fewer steps since we have already performed **data cleaning** and **preprocessing**\n",
        "\n",
        "We start by coping the Dataframe, then dropping the old label which based on stars rating. The new label will be based on the percentage of helpful votes"
      ],
      "metadata": {
        "id": "lqvNuArOf59d"
      }
    },
    {
      "cell_type": "code",
      "source": [
        "# Copy the Dataframe\n",
        "df1 = df.copy()\n",
        "# Drop the old label column which is based on stars\n",
        "del df1['label']\n",
        "df1\n",
        "\n"
      ],
      "metadata": {
        "colab": {
          "base_uri": "https://localhost:8080/",
          "height": 659
        },
        "id": "ars2p-JpBKC6",
        "outputId": "56c0d520-2961-4089-c53c-fd1280ad7bb2"
      },
      "execution_count": null,
      "outputs": [
        {
          "output_type": "execute_result",
          "data": {
            "text/plain": [
              "                                                  title  stars  \\\n",
              "0     The herbs were great...but the cherry tomatoes...      2   \n",
              "1         Even more useful than regular parchment paper      5   \n",
              "2                           Shake it before you bake it      2   \n",
              "3                        Not what the picture describes      2   \n",
              "4                     What a ripe off - GIVE ME A BREAK      2   \n",
              "...                                                 ...    ...   \n",
              "9239                 Ovaltine has changed their formula      1   \n",
              "9240                           Perhaps too compostable?      3   \n",
              "9241       Nutiva Organic Shelled Hempseed, 5-Pound Bag      5   \n",
              "9242                          This gum is really great!      5   \n",
              "9243                                Cat Scratch Fever!!      5   \n",
              "\n",
              "                                                 review  helpful_votes  \\\n",
              "0     The herb kit that came with my Aerogarden was ...             15   \n",
              "1     I originally bought this just because it was c...             19   \n",
              "2     If you do it in reverse (bake before shaking),...              2   \n",
              "3     I bought this steak for my father in law for C...              7   \n",
              "4     Sorry but I had these noodles and they are no ...             10   \n",
              "...                                                 ...            ...   \n",
              "9239  Ovaltine has updated their packaging and chang...             25   \n",
              "9240  I bought these bags to go with Trading ECO-200...             20   \n",
              "9241  This item was brought up in a forum with a lin...             22   \n",
              "9242  If you have problems with Aspartame (which is ...             17   \n",
              "9243  I opened up the cat scratcher, spread a little...             27   \n",
              "\n",
              "      total_votes                                        pre_process  \n",
              "0              17  herb kit came aerogarden superb enjoyed caring...  \n",
              "1              19  originally bought cheaper regular parchment pa...  \n",
              "2              13  reverse bake shaking going get mess parmesan w...  \n",
              "3              14  bought steak father law christmas always wante...  \n",
              "4              34  sorry noodle better cent version difference sp...  \n",
              "...           ...                                                ...  \n",
              "9239           27  ovaltine updated packaging changed formula new...  \n",
              "9240           21  bought bag go trading eco gallon kitchen compo...  \n",
              "9241           26  item brought forum link superstore dealt super...  \n",
              "9242           17  problem aspartame every gum sugarfree gum love...  \n",
              "9243           27  opened cat scratcher spread little nip cat wen...  \n",
              "\n",
              "[9244 rows x 6 columns]"
            ],
            "text/html": [
              "\n",
              "  <div id=\"df-018d8cff-70ae-4ff3-9b30-757068d5e11b\">\n",
              "    <div class=\"colab-df-container\">\n",
              "      <div>\n",
              "<style scoped>\n",
              "    .dataframe tbody tr th:only-of-type {\n",
              "        vertical-align: middle;\n",
              "    }\n",
              "\n",
              "    .dataframe tbody tr th {\n",
              "        vertical-align: top;\n",
              "    }\n",
              "\n",
              "    .dataframe thead th {\n",
              "        text-align: right;\n",
              "    }\n",
              "</style>\n",
              "<table border=\"1\" class=\"dataframe\">\n",
              "  <thead>\n",
              "    <tr style=\"text-align: right;\">\n",
              "      <th></th>\n",
              "      <th>title</th>\n",
              "      <th>stars</th>\n",
              "      <th>review</th>\n",
              "      <th>helpful_votes</th>\n",
              "      <th>total_votes</th>\n",
              "      <th>pre_process</th>\n",
              "    </tr>\n",
              "  </thead>\n",
              "  <tbody>\n",
              "    <tr>\n",
              "      <th>0</th>\n",
              "      <td>The herbs were great...but the cherry tomatoes...</td>\n",
              "      <td>2</td>\n",
              "      <td>The herb kit that came with my Aerogarden was ...</td>\n",
              "      <td>15</td>\n",
              "      <td>17</td>\n",
              "      <td>herb kit came aerogarden superb enjoyed caring...</td>\n",
              "    </tr>\n",
              "    <tr>\n",
              "      <th>1</th>\n",
              "      <td>Even more useful than regular parchment paper</td>\n",
              "      <td>5</td>\n",
              "      <td>I originally bought this just because it was c...</td>\n",
              "      <td>19</td>\n",
              "      <td>19</td>\n",
              "      <td>originally bought cheaper regular parchment pa...</td>\n",
              "    </tr>\n",
              "    <tr>\n",
              "      <th>2</th>\n",
              "      <td>Shake it before you bake it</td>\n",
              "      <td>2</td>\n",
              "      <td>If you do it in reverse (bake before shaking),...</td>\n",
              "      <td>2</td>\n",
              "      <td>13</td>\n",
              "      <td>reverse bake shaking going get mess parmesan w...</td>\n",
              "    </tr>\n",
              "    <tr>\n",
              "      <th>3</th>\n",
              "      <td>Not what the picture describes</td>\n",
              "      <td>2</td>\n",
              "      <td>I bought this steak for my father in law for C...</td>\n",
              "      <td>7</td>\n",
              "      <td>14</td>\n",
              "      <td>bought steak father law christmas always wante...</td>\n",
              "    </tr>\n",
              "    <tr>\n",
              "      <th>4</th>\n",
              "      <td>What a ripe off - GIVE ME A BREAK</td>\n",
              "      <td>2</td>\n",
              "      <td>Sorry but I had these noodles and they are no ...</td>\n",
              "      <td>10</td>\n",
              "      <td>34</td>\n",
              "      <td>sorry noodle better cent version difference sp...</td>\n",
              "    </tr>\n",
              "    <tr>\n",
              "      <th>...</th>\n",
              "      <td>...</td>\n",
              "      <td>...</td>\n",
              "      <td>...</td>\n",
              "      <td>...</td>\n",
              "      <td>...</td>\n",
              "      <td>...</td>\n",
              "    </tr>\n",
              "    <tr>\n",
              "      <th>9239</th>\n",
              "      <td>Ovaltine has changed their formula</td>\n",
              "      <td>1</td>\n",
              "      <td>Ovaltine has updated their packaging and chang...</td>\n",
              "      <td>25</td>\n",
              "      <td>27</td>\n",
              "      <td>ovaltine updated packaging changed formula new...</td>\n",
              "    </tr>\n",
              "    <tr>\n",
              "      <th>9240</th>\n",
              "      <td>Perhaps too compostable?</td>\n",
              "      <td>3</td>\n",
              "      <td>I bought these bags to go with Trading ECO-200...</td>\n",
              "      <td>20</td>\n",
              "      <td>21</td>\n",
              "      <td>bought bag go trading eco gallon kitchen compo...</td>\n",
              "    </tr>\n",
              "    <tr>\n",
              "      <th>9241</th>\n",
              "      <td>Nutiva Organic Shelled Hempseed, 5-Pound Bag</td>\n",
              "      <td>5</td>\n",
              "      <td>This item was brought up in a forum with a lin...</td>\n",
              "      <td>22</td>\n",
              "      <td>26</td>\n",
              "      <td>item brought forum link superstore dealt super...</td>\n",
              "    </tr>\n",
              "    <tr>\n",
              "      <th>9242</th>\n",
              "      <td>This gum is really great!</td>\n",
              "      <td>5</td>\n",
              "      <td>If you have problems with Aspartame (which is ...</td>\n",
              "      <td>17</td>\n",
              "      <td>17</td>\n",
              "      <td>problem aspartame every gum sugarfree gum love...</td>\n",
              "    </tr>\n",
              "    <tr>\n",
              "      <th>9243</th>\n",
              "      <td>Cat Scratch Fever!!</td>\n",
              "      <td>5</td>\n",
              "      <td>I opened up the cat scratcher, spread a little...</td>\n",
              "      <td>27</td>\n",
              "      <td>27</td>\n",
              "      <td>opened cat scratcher spread little nip cat wen...</td>\n",
              "    </tr>\n",
              "  </tbody>\n",
              "</table>\n",
              "<p>9244 rows × 6 columns</p>\n",
              "</div>\n",
              "      <button class=\"colab-df-convert\" onclick=\"convertToInteractive('df-018d8cff-70ae-4ff3-9b30-757068d5e11b')\"\n",
              "              title=\"Convert this dataframe to an interactive table.\"\n",
              "              style=\"display:none;\">\n",
              "        \n",
              "  <svg xmlns=\"http://www.w3.org/2000/svg\" height=\"24px\"viewBox=\"0 0 24 24\"\n",
              "       width=\"24px\">\n",
              "    <path d=\"M0 0h24v24H0V0z\" fill=\"none\"/>\n",
              "    <path d=\"M18.56 5.44l.94 2.06.94-2.06 2.06-.94-2.06-.94-.94-2.06-.94 2.06-2.06.94zm-11 1L8.5 8.5l.94-2.06 2.06-.94-2.06-.94L8.5 2.5l-.94 2.06-2.06.94zm10 10l.94 2.06.94-2.06 2.06-.94-2.06-.94-.94-2.06-.94 2.06-2.06.94z\"/><path d=\"M17.41 7.96l-1.37-1.37c-.4-.4-.92-.59-1.43-.59-.52 0-1.04.2-1.43.59L10.3 9.45l-7.72 7.72c-.78.78-.78 2.05 0 2.83L4 21.41c.39.39.9.59 1.41.59.51 0 1.02-.2 1.41-.59l7.78-7.78 2.81-2.81c.8-.78.8-2.07 0-2.86zM5.41 20L4 18.59l7.72-7.72 1.47 1.35L5.41 20z\"/>\n",
              "  </svg>\n",
              "      </button>\n",
              "      \n",
              "  <style>\n",
              "    .colab-df-container {\n",
              "      display:flex;\n",
              "      flex-wrap:wrap;\n",
              "      gap: 12px;\n",
              "    }\n",
              "\n",
              "    .colab-df-convert {\n",
              "      background-color: #E8F0FE;\n",
              "      border: none;\n",
              "      border-radius: 50%;\n",
              "      cursor: pointer;\n",
              "      display: none;\n",
              "      fill: #1967D2;\n",
              "      height: 32px;\n",
              "      padding: 0 0 0 0;\n",
              "      width: 32px;\n",
              "    }\n",
              "\n",
              "    .colab-df-convert:hover {\n",
              "      background-color: #E2EBFA;\n",
              "      box-shadow: 0px 1px 2px rgba(60, 64, 67, 0.3), 0px 1px 3px 1px rgba(60, 64, 67, 0.15);\n",
              "      fill: #174EA6;\n",
              "    }\n",
              "\n",
              "    [theme=dark] .colab-df-convert {\n",
              "      background-color: #3B4455;\n",
              "      fill: #D2E3FC;\n",
              "    }\n",
              "\n",
              "    [theme=dark] .colab-df-convert:hover {\n",
              "      background-color: #434B5C;\n",
              "      box-shadow: 0px 1px 3px 1px rgba(0, 0, 0, 0.15);\n",
              "      filter: drop-shadow(0px 1px 2px rgba(0, 0, 0, 0.3));\n",
              "      fill: #FFFFFF;\n",
              "    }\n",
              "  </style>\n",
              "\n",
              "      <script>\n",
              "        const buttonEl =\n",
              "          document.querySelector('#df-018d8cff-70ae-4ff3-9b30-757068d5e11b button.colab-df-convert');\n",
              "        buttonEl.style.display =\n",
              "          google.colab.kernel.accessAllowed ? 'block' : 'none';\n",
              "\n",
              "        async function convertToInteractive(key) {\n",
              "          const element = document.querySelector('#df-018d8cff-70ae-4ff3-9b30-757068d5e11b');\n",
              "          const dataTable =\n",
              "            await google.colab.kernel.invokeFunction('convertToInteractive',\n",
              "                                                     [key], {});\n",
              "          if (!dataTable) return;\n",
              "\n",
              "          const docLinkHtml = 'Like what you see? Visit the ' +\n",
              "            '<a target=\"_blank\" href=https://colab.research.google.com/notebooks/data_table.ipynb>data table notebook</a>'\n",
              "            + ' to learn more about interactive tables.';\n",
              "          element.innerHTML = '';\n",
              "          dataTable['output_type'] = 'display_data';\n",
              "          await google.colab.output.renderOutput(dataTable, element);\n",
              "          const docLink = document.createElement('div');\n",
              "          docLink.innerHTML = docLinkHtml;\n",
              "          element.appendChild(docLink);\n",
              "        }\n",
              "      </script>\n",
              "    </div>\n",
              "  </div>\n",
              "  "
            ]
          },
          "metadata": {},
          "execution_count": 27
        }
      ]
    },
    {
      "cell_type": "markdown",
      "source": [
        "For this case, we shall declare a review positive if 80% of the votes were helpful"
      ],
      "metadata": {
        "id": "al3FjqUugl3y"
      }
    },
    {
      "cell_type": "code",
      "source": [
        "# If 80% of total votes are helpful, we asssign the review as helpful\n",
        "df1['label']=np.where((df1[\"helpful_votes\"]/df1[\"total_votes\"])>=0.8,1,0)\n",
        "df1"
      ],
      "metadata": {
        "colab": {
          "base_uri": "https://localhost:8080/",
          "height": 780
        },
        "id": "P1rRpoYRDc_Q",
        "outputId": "77c462a7-91b5-46dc-a43b-705362362457"
      },
      "execution_count": null,
      "outputs": [
        {
          "output_type": "execute_result",
          "data": {
            "text/plain": [
              "                                                  title  stars  \\\n",
              "0     The herbs were great...but the cherry tomatoes...      2   \n",
              "1         Even more useful than regular parchment paper      5   \n",
              "2                           Shake it before you bake it      2   \n",
              "3                        Not what the picture describes      2   \n",
              "4                     What a ripe off - GIVE ME A BREAK      2   \n",
              "...                                                 ...    ...   \n",
              "9239                 Ovaltine has changed their formula      1   \n",
              "9240                           Perhaps too compostable?      3   \n",
              "9241       Nutiva Organic Shelled Hempseed, 5-Pound Bag      5   \n",
              "9242                          This gum is really great!      5   \n",
              "9243                                Cat Scratch Fever!!      5   \n",
              "\n",
              "                                                 review  helpful_votes  \\\n",
              "0     The herb kit that came with my Aerogarden was ...             15   \n",
              "1     I originally bought this just because it was c...             19   \n",
              "2     If you do it in reverse (bake before shaking),...              2   \n",
              "3     I bought this steak for my father in law for C...              7   \n",
              "4     Sorry but I had these noodles and they are no ...             10   \n",
              "...                                                 ...            ...   \n",
              "9239  Ovaltine has updated their packaging and chang...             25   \n",
              "9240  I bought these bags to go with Trading ECO-200...             20   \n",
              "9241  This item was brought up in a forum with a lin...             22   \n",
              "9242  If you have problems with Aspartame (which is ...             17   \n",
              "9243  I opened up the cat scratcher, spread a little...             27   \n",
              "\n",
              "      total_votes                                        pre_process  label  \n",
              "0              17  herb kit came aerogarden superb enjoyed caring...      1  \n",
              "1              19  originally bought cheaper regular parchment pa...      1  \n",
              "2              13  reverse bake shaking going get mess parmesan w...      0  \n",
              "3              14  bought steak father law christmas always wante...      0  \n",
              "4              34  sorry noodle better cent version difference sp...      0  \n",
              "...           ...                                                ...    ...  \n",
              "9239           27  ovaltine updated packaging changed formula new...      1  \n",
              "9240           21  bought bag go trading eco gallon kitchen compo...      1  \n",
              "9241           26  item brought forum link superstore dealt super...      1  \n",
              "9242           17  problem aspartame every gum sugarfree gum love...      1  \n",
              "9243           27  opened cat scratcher spread little nip cat wen...      1  \n",
              "\n",
              "[9244 rows x 7 columns]"
            ],
            "text/html": [
              "\n",
              "  <div id=\"df-61d7c3fa-bb01-4103-a5bf-fa7fb85b4a36\">\n",
              "    <div class=\"colab-df-container\">\n",
              "      <div>\n",
              "<style scoped>\n",
              "    .dataframe tbody tr th:only-of-type {\n",
              "        vertical-align: middle;\n",
              "    }\n",
              "\n",
              "    .dataframe tbody tr th {\n",
              "        vertical-align: top;\n",
              "    }\n",
              "\n",
              "    .dataframe thead th {\n",
              "        text-align: right;\n",
              "    }\n",
              "</style>\n",
              "<table border=\"1\" class=\"dataframe\">\n",
              "  <thead>\n",
              "    <tr style=\"text-align: right;\">\n",
              "      <th></th>\n",
              "      <th>title</th>\n",
              "      <th>stars</th>\n",
              "      <th>review</th>\n",
              "      <th>helpful_votes</th>\n",
              "      <th>total_votes</th>\n",
              "      <th>pre_process</th>\n",
              "      <th>label</th>\n",
              "    </tr>\n",
              "  </thead>\n",
              "  <tbody>\n",
              "    <tr>\n",
              "      <th>0</th>\n",
              "      <td>The herbs were great...but the cherry tomatoes...</td>\n",
              "      <td>2</td>\n",
              "      <td>The herb kit that came with my Aerogarden was ...</td>\n",
              "      <td>15</td>\n",
              "      <td>17</td>\n",
              "      <td>herb kit came aerogarden superb enjoyed caring...</td>\n",
              "      <td>1</td>\n",
              "    </tr>\n",
              "    <tr>\n",
              "      <th>1</th>\n",
              "      <td>Even more useful than regular parchment paper</td>\n",
              "      <td>5</td>\n",
              "      <td>I originally bought this just because it was c...</td>\n",
              "      <td>19</td>\n",
              "      <td>19</td>\n",
              "      <td>originally bought cheaper regular parchment pa...</td>\n",
              "      <td>1</td>\n",
              "    </tr>\n",
              "    <tr>\n",
              "      <th>2</th>\n",
              "      <td>Shake it before you bake it</td>\n",
              "      <td>2</td>\n",
              "      <td>If you do it in reverse (bake before shaking),...</td>\n",
              "      <td>2</td>\n",
              "      <td>13</td>\n",
              "      <td>reverse bake shaking going get mess parmesan w...</td>\n",
              "      <td>0</td>\n",
              "    </tr>\n",
              "    <tr>\n",
              "      <th>3</th>\n",
              "      <td>Not what the picture describes</td>\n",
              "      <td>2</td>\n",
              "      <td>I bought this steak for my father in law for C...</td>\n",
              "      <td>7</td>\n",
              "      <td>14</td>\n",
              "      <td>bought steak father law christmas always wante...</td>\n",
              "      <td>0</td>\n",
              "    </tr>\n",
              "    <tr>\n",
              "      <th>4</th>\n",
              "      <td>What a ripe off - GIVE ME A BREAK</td>\n",
              "      <td>2</td>\n",
              "      <td>Sorry but I had these noodles and they are no ...</td>\n",
              "      <td>10</td>\n",
              "      <td>34</td>\n",
              "      <td>sorry noodle better cent version difference sp...</td>\n",
              "      <td>0</td>\n",
              "    </tr>\n",
              "    <tr>\n",
              "      <th>...</th>\n",
              "      <td>...</td>\n",
              "      <td>...</td>\n",
              "      <td>...</td>\n",
              "      <td>...</td>\n",
              "      <td>...</td>\n",
              "      <td>...</td>\n",
              "      <td>...</td>\n",
              "    </tr>\n",
              "    <tr>\n",
              "      <th>9239</th>\n",
              "      <td>Ovaltine has changed their formula</td>\n",
              "      <td>1</td>\n",
              "      <td>Ovaltine has updated their packaging and chang...</td>\n",
              "      <td>25</td>\n",
              "      <td>27</td>\n",
              "      <td>ovaltine updated packaging changed formula new...</td>\n",
              "      <td>1</td>\n",
              "    </tr>\n",
              "    <tr>\n",
              "      <th>9240</th>\n",
              "      <td>Perhaps too compostable?</td>\n",
              "      <td>3</td>\n",
              "      <td>I bought these bags to go with Trading ECO-200...</td>\n",
              "      <td>20</td>\n",
              "      <td>21</td>\n",
              "      <td>bought bag go trading eco gallon kitchen compo...</td>\n",
              "      <td>1</td>\n",
              "    </tr>\n",
              "    <tr>\n",
              "      <th>9241</th>\n",
              "      <td>Nutiva Organic Shelled Hempseed, 5-Pound Bag</td>\n",
              "      <td>5</td>\n",
              "      <td>This item was brought up in a forum with a lin...</td>\n",
              "      <td>22</td>\n",
              "      <td>26</td>\n",
              "      <td>item brought forum link superstore dealt super...</td>\n",
              "      <td>1</td>\n",
              "    </tr>\n",
              "    <tr>\n",
              "      <th>9242</th>\n",
              "      <td>This gum is really great!</td>\n",
              "      <td>5</td>\n",
              "      <td>If you have problems with Aspartame (which is ...</td>\n",
              "      <td>17</td>\n",
              "      <td>17</td>\n",
              "      <td>problem aspartame every gum sugarfree gum love...</td>\n",
              "      <td>1</td>\n",
              "    </tr>\n",
              "    <tr>\n",
              "      <th>9243</th>\n",
              "      <td>Cat Scratch Fever!!</td>\n",
              "      <td>5</td>\n",
              "      <td>I opened up the cat scratcher, spread a little...</td>\n",
              "      <td>27</td>\n",
              "      <td>27</td>\n",
              "      <td>opened cat scratcher spread little nip cat wen...</td>\n",
              "      <td>1</td>\n",
              "    </tr>\n",
              "  </tbody>\n",
              "</table>\n",
              "<p>9244 rows × 7 columns</p>\n",
              "</div>\n",
              "      <button class=\"colab-df-convert\" onclick=\"convertToInteractive('df-61d7c3fa-bb01-4103-a5bf-fa7fb85b4a36')\"\n",
              "              title=\"Convert this dataframe to an interactive table.\"\n",
              "              style=\"display:none;\">\n",
              "        \n",
              "  <svg xmlns=\"http://www.w3.org/2000/svg\" height=\"24px\"viewBox=\"0 0 24 24\"\n",
              "       width=\"24px\">\n",
              "    <path d=\"M0 0h24v24H0V0z\" fill=\"none\"/>\n",
              "    <path d=\"M18.56 5.44l.94 2.06.94-2.06 2.06-.94-2.06-.94-.94-2.06-.94 2.06-2.06.94zm-11 1L8.5 8.5l.94-2.06 2.06-.94-2.06-.94L8.5 2.5l-.94 2.06-2.06.94zm10 10l.94 2.06.94-2.06 2.06-.94-2.06-.94-.94-2.06-.94 2.06-2.06.94z\"/><path d=\"M17.41 7.96l-1.37-1.37c-.4-.4-.92-.59-1.43-.59-.52 0-1.04.2-1.43.59L10.3 9.45l-7.72 7.72c-.78.78-.78 2.05 0 2.83L4 21.41c.39.39.9.59 1.41.59.51 0 1.02-.2 1.41-.59l7.78-7.78 2.81-2.81c.8-.78.8-2.07 0-2.86zM5.41 20L4 18.59l7.72-7.72 1.47 1.35L5.41 20z\"/>\n",
              "  </svg>\n",
              "      </button>\n",
              "      \n",
              "  <style>\n",
              "    .colab-df-container {\n",
              "      display:flex;\n",
              "      flex-wrap:wrap;\n",
              "      gap: 12px;\n",
              "    }\n",
              "\n",
              "    .colab-df-convert {\n",
              "      background-color: #E8F0FE;\n",
              "      border: none;\n",
              "      border-radius: 50%;\n",
              "      cursor: pointer;\n",
              "      display: none;\n",
              "      fill: #1967D2;\n",
              "      height: 32px;\n",
              "      padding: 0 0 0 0;\n",
              "      width: 32px;\n",
              "    }\n",
              "\n",
              "    .colab-df-convert:hover {\n",
              "      background-color: #E2EBFA;\n",
              "      box-shadow: 0px 1px 2px rgba(60, 64, 67, 0.3), 0px 1px 3px 1px rgba(60, 64, 67, 0.15);\n",
              "      fill: #174EA6;\n",
              "    }\n",
              "\n",
              "    [theme=dark] .colab-df-convert {\n",
              "      background-color: #3B4455;\n",
              "      fill: #D2E3FC;\n",
              "    }\n",
              "\n",
              "    [theme=dark] .colab-df-convert:hover {\n",
              "      background-color: #434B5C;\n",
              "      box-shadow: 0px 1px 3px 1px rgba(0, 0, 0, 0.15);\n",
              "      filter: drop-shadow(0px 1px 2px rgba(0, 0, 0, 0.3));\n",
              "      fill: #FFFFFF;\n",
              "    }\n",
              "  </style>\n",
              "\n",
              "      <script>\n",
              "        const buttonEl =\n",
              "          document.querySelector('#df-61d7c3fa-bb01-4103-a5bf-fa7fb85b4a36 button.colab-df-convert');\n",
              "        buttonEl.style.display =\n",
              "          google.colab.kernel.accessAllowed ? 'block' : 'none';\n",
              "\n",
              "        async function convertToInteractive(key) {\n",
              "          const element = document.querySelector('#df-61d7c3fa-bb01-4103-a5bf-fa7fb85b4a36');\n",
              "          const dataTable =\n",
              "            await google.colab.kernel.invokeFunction('convertToInteractive',\n",
              "                                                     [key], {});\n",
              "          if (!dataTable) return;\n",
              "\n",
              "          const docLinkHtml = 'Like what you see? Visit the ' +\n",
              "            '<a target=\"_blank\" href=https://colab.research.google.com/notebooks/data_table.ipynb>data table notebook</a>'\n",
              "            + ' to learn more about interactive tables.';\n",
              "          element.innerHTML = '';\n",
              "          dataTable['output_type'] = 'display_data';\n",
              "          await google.colab.output.renderOutput(dataTable, element);\n",
              "          const docLink = document.createElement('div');\n",
              "          docLink.innerHTML = docLinkHtml;\n",
              "          element.appendChild(docLink);\n",
              "        }\n",
              "      </script>\n",
              "    </div>\n",
              "  </div>\n",
              "  "
            ]
          },
          "metadata": {},
          "execution_count": 28
        }
      ]
    },
    {
      "cell_type": "code",
      "source": [
        "df1['label'].value_counts()"
      ],
      "metadata": {
        "colab": {
          "base_uri": "https://localhost:8080/"
        },
        "id": "TMNjtKPrEm0n",
        "outputId": "927a5650-706e-4f51-a9a1-c8af92dd8c89"
      },
      "execution_count": null,
      "outputs": [
        {
          "output_type": "execute_result",
          "data": {
            "text/plain": [
              "1    6066\n",
              "0    3178\n",
              "Name: label, dtype: int64"
            ]
          },
          "metadata": {},
          "execution_count": 29
        }
      ]
    },
    {
      "cell_type": "markdown",
      "source": [
        "##### Feature Extraction using TF-IDF"
      ],
      "metadata": {
        "id": "Qc2lEGpnFRKm"
      }
    },
    {
      "cell_type": "code",
      "source": [
        "X_train,X_test,Y_train, Y_test = train_test_split(df1['pre_process'], df1['label'], test_size=0.25, random_state=30)\n",
        "print(\"Train: \",X_train.shape,Y_train.shape,\"Test: \",(X_test.shape,Y_test.shape))"
      ],
      "metadata": {
        "colab": {
          "base_uri": "https://localhost:8080/"
        },
        "id": "TM_m42ELExCX",
        "outputId": "897e7ca5-fe7b-476f-be83-0fa404864022"
      },
      "execution_count": null,
      "outputs": [
        {
          "output_type": "stream",
          "name": "stdout",
          "text": [
            "Train:  (6933,) (6933,) Test:  ((2311,), (2311,))\n"
          ]
        }
      ]
    },
    {
      "cell_type": "code",
      "source": [
        "# Using TFIDF Vectorizer\n",
        "vectorizer= TfidfVectorizer()\n",
        "tf_x_train = vectorizer.fit_transform(X_train)\n",
        "tf_x_test = vectorizer.transform(X_test)"
      ],
      "metadata": {
        "id": "PEIoEaDCFUHj"
      },
      "execution_count": null,
      "outputs": []
    },
    {
      "cell_type": "markdown",
      "source": [
        "###### First Classifier - SVM"
      ],
      "metadata": {
        "id": "TSrmijRfFz7k"
      }
    },
    {
      "cell_type": "code",
      "source": [
        "# Implementing SVM with sklearn for classification\n",
        "clf = LinearSVC(random_state=0)\n",
        "# Fitting the Training data into model\n",
        "clf.fit(tf_x_train,Y_train)\n",
        "# Predicting the Test data\n",
        "y_test_pred=clf.predict(tf_x_test)\n",
        "# Analyzing the results\n",
        "report=classification_report(Y_test, y_test_pred,output_dict=True)\n",
        "report"
      ],
      "metadata": {
        "colab": {
          "base_uri": "https://localhost:8080/"
        },
        "id": "PNcUojOpF06S",
        "outputId": "9a4a795c-4981-4d32-96b8-c55e464cc6a1"
      },
      "execution_count": null,
      "outputs": [
        {
          "output_type": "execute_result",
          "data": {
            "text/plain": [
              "{'0': {'f1-score': 0.7004732927653821,\n",
              "  'precision': 0.7337110481586402,\n",
              "  'recall': 0.6701164294954722,\n",
              "  'support': 773},\n",
              " '1': {'f1-score': 0.8590518612790328,\n",
              "  'precision': 0.8411214953271028,\n",
              "  'recall': 0.8777633289986996,\n",
              "  'support': 1538},\n",
              " 'accuracy': 0.8083080917351796,\n",
              " 'macro avg': {'f1-score': 0.7797625770222074,\n",
              "  'precision': 0.7874162717428714,\n",
              "  'recall': 0.773939879247086,\n",
              "  'support': 2311},\n",
              " 'weighted avg': {'f1-score': 0.8060093543724763,\n",
              "  'precision': 0.8051940718475609,\n",
              "  'recall': 0.8083080917351796,\n",
              "  'support': 2311}}"
            ]
          },
          "metadata": {},
          "execution_count": 35
        }
      ]
    },
    {
      "cell_type": "markdown",
      "source": [
        "***By Using the SVM classifier we still got an accuracy of 100%***"
      ],
      "metadata": {
        "id": "COKNhyXJGIbs"
      }
    },
    {
      "cell_type": "markdown",
      "source": [
        "###### Second Classifier - Logistic Regression"
      ],
      "metadata": {
        "id": "BJ7-ZVfJGMTY"
      }
    },
    {
      "cell_type": "code",
      "source": [
        "clf = LogisticRegression(max_iter=1000,solver='saga')\n",
        "clf.fit(tf_x_train,Y_train)\n",
        "y_test_pred=clf.predict(tf_x_test)\n",
        "# Analysing Logistic regression report\n",
        "report=classification_report(Y_test, y_test_pred,output_dict=True)\n",
        "report"
      ],
      "metadata": {
        "colab": {
          "base_uri": "https://localhost:8080/"
        },
        "id": "kajgMVgxGLsc",
        "outputId": "cb150454-6f02-478f-aa6e-66425049f975"
      },
      "execution_count": null,
      "outputs": [
        {
          "output_type": "execute_result",
          "data": {
            "text/plain": [
              "{'0': {'f1-score': 0.6343341031562741,\n",
              "  'precision': 0.7832699619771863,\n",
              "  'recall': 0.5329883570504528,\n",
              "  'support': 773},\n",
              " '1': {'f1-score': 0.8570568763165815,\n",
              "  'precision': 0.7977591036414566,\n",
              "  'recall': 0.9258777633289987,\n",
              "  'support': 1538},\n",
              " 'accuracy': 0.7944612721765469,\n",
              " 'macro avg': {'f1-score': 0.7456954897364279,\n",
              "  'precision': 0.7905145328093215,\n",
              "  'recall': 0.7294330601897258,\n",
              "  'support': 2311},\n",
              " 'weighted avg': {'f1-score': 0.7825589517588499,\n",
              "  'precision': 0.7929126707091845,\n",
              "  'recall': 0.7944612721765469,\n",
              "  'support': 2311}}"
            ]
          },
          "metadata": {},
          "execution_count": 33
        }
      ]
    },
    {
      "cell_type": "markdown",
      "source": [
        "***By Using the Logistic Regression we got an accuracy of 100%***"
      ],
      "metadata": {
        "id": "oDOdKMOmGeEz"
      }
    },
    {
      "cell_type": "markdown",
      "source": [
        "As seen both classifiers are 100% accurate. This means that the classifiers are perfect and can predict any incoming review with 100% confidence level. There are two reasons for this \"unexpected accuracy\", since normally classification algoriths are never 100% accurate:\n",
        "\n",
        "\n",
        "1.   Relative low amount of data to train and test the classifier with - There are 8997 reviews in this case. Depending on the kind of task, ML algorithms require more data. For this kind of task, 1M reviews would be good for our classifier\n",
        "2.   Corellated/Similar data - In our reviews, most of the wordings are the same, which means the classifier built has just few layers before it makes a decision, hence an accuracy of 100%\n",
        "\n"
      ],
      "metadata": {
        "id": "0-0v5jqpg08C"
      }
    }
  ]
}