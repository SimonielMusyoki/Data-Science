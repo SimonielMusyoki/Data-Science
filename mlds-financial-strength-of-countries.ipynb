{
 "cells": [
  {
   "cell_type": "code",
   "execution_count": 1,
   "metadata": {
    "_uuid": "7b4f19920ceaa966a7a625511fdb513d21a36f8c"
   },
   "outputs": [
    {
     "name": "stdout",
     "output_type": "stream",
     "text": [
      "['final_test_data.csv', '.ipynb_checkpoints', 'final_train_data.csv']\n"
     ]
    }
   ],
   "source": [
    "import numpy as np\n",
    "import pandas as pd\n",
    "\n",
    "import numpy as np # linear algebra\n",
    "import pandas as pd # data processing, CSV file I/O (e.g. pd.read_csv)\n",
    "\n",
    "# Input data files are available in the \"../input/\" directory.\n",
    "# For example, running this (by clicking run or pressing Shift+Enter) will list the files in the input directory\n",
    "\n",
    "import os\n",
    "print(os.listdir(\"../input/mlds_final_data/MLDS_final_data\"))"
   ]
  },
  {
   "cell_type": "code",
   "execution_count": 2,
   "metadata": {
    "_uuid": "0ebb50644ced95b4f6c82a406dc358b49f05d3b2"
   },
   "outputs": [
    {
     "data": {
      "text/html": [
       "<div>\n",
       "<style scoped>\n",
       "    .dataframe tbody tr th:only-of-type {\n",
       "        vertical-align: middle;\n",
       "    }\n",
       "\n",
       "    .dataframe tbody tr th {\n",
       "        vertical-align: top;\n",
       "    }\n",
       "\n",
       "    .dataframe thead th {\n",
       "        text-align: right;\n",
       "    }\n",
       "</style>\n",
       "<table border=\"1\" class=\"dataframe\">\n",
       "  <thead>\n",
       "    <tr style=\"text-align: right;\">\n",
       "      <th></th>\n",
       "      <th>Unnamed: 0</th>\n",
       "      <th>Country Name</th>\n",
       "      <th>Country Code</th>\n",
       "      <th>Year</th>\n",
       "      <th>Balance</th>\n",
       "      <th>Inflation</th>\n",
       "      <th>GDP</th>\n",
       "      <th>Exports</th>\n",
       "      <th>Trade</th>\n",
       "    </tr>\n",
       "  </thead>\n",
       "  <tbody>\n",
       "    <tr>\n",
       "      <th>0</th>\n",
       "      <td>0</td>\n",
       "      <td>Senegal</td>\n",
       "      <td>SEN</td>\n",
       "      <td>1983</td>\n",
       "      <td>-3.043829e+08</td>\n",
       "      <td>9.274213</td>\n",
       "      <td>-5.326393</td>\n",
       "      <td>6.180000e+08</td>\n",
       "      <td>59.224298</td>\n",
       "    </tr>\n",
       "    <tr>\n",
       "      <th>1</th>\n",
       "      <td>1</td>\n",
       "      <td>Togo</td>\n",
       "      <td>TGO</td>\n",
       "      <td>2009</td>\n",
       "      <td>-1.766692e+08</td>\n",
       "      <td>1.855275</td>\n",
       "      <td>3.510297</td>\n",
       "      <td>9.030260e+08</td>\n",
       "      <td>76.242542</td>\n",
       "    </tr>\n",
       "    <tr>\n",
       "      <th>2</th>\n",
       "      <td>2</td>\n",
       "      <td>Pakistan</td>\n",
       "      <td>PAK</td>\n",
       "      <td>1992</td>\n",
       "      <td>-1.876092e+09</td>\n",
       "      <td>10.057085</td>\n",
       "      <td>7.705898</td>\n",
       "      <td>7.351000e+09</td>\n",
       "      <td>34.489440</td>\n",
       "    </tr>\n",
       "    <tr>\n",
       "      <th>3</th>\n",
       "      <td>3</td>\n",
       "      <td>Nepal</td>\n",
       "      <td>NPL</td>\n",
       "      <td>1988</td>\n",
       "      <td>-2.714506e+08</td>\n",
       "      <td>11.815310</td>\n",
       "      <td>7.696809</td>\n",
       "      <td>1.900000e+08</td>\n",
       "      <td>24.978422</td>\n",
       "    </tr>\n",
       "    <tr>\n",
       "      <th>4</th>\n",
       "      <td>5</td>\n",
       "      <td>Malta</td>\n",
       "      <td>MLT</td>\n",
       "      <td>2016</td>\n",
       "      <td>7.269132e+08</td>\n",
       "      <td>1.604548</td>\n",
       "      <td>5.516617</td>\n",
       "      <td>3.017299e+09</td>\n",
       "      <td>83.781471</td>\n",
       "    </tr>\n",
       "  </tbody>\n",
       "</table>\n",
       "</div>"
      ],
      "text/plain": [
       "   Unnamed: 0 Country Name    ...           Exports      Trade\n",
       "0           0      Senegal    ...      6.180000e+08  59.224298\n",
       "1           1         Togo    ...      9.030260e+08  76.242542\n",
       "2           2     Pakistan    ...      7.351000e+09  34.489440\n",
       "3           3        Nepal    ...      1.900000e+08  24.978422\n",
       "4           5        Malta    ...      3.017299e+09  83.781471\n",
       "\n",
       "[5 rows x 9 columns]"
      ]
     },
     "execution_count": 2,
     "metadata": {},
     "output_type": "execute_result"
    }
   ],
   "source": [
    "train=pd.read_csv('../input/mlds_final_data/MLDS_final_data/final_train_data.csv')\n",
    "test1=pd.read_csv('../input/mlds_final_data/MLDS_final_data/final_test_data.csv')\n",
    "train.head()"
   ]
  },
  {
   "cell_type": "code",
   "execution_count": 3,
   "metadata": {
    "_uuid": "a1fbe1dbc580fd06c6d5b3265582851cec4b7468"
   },
   "outputs": [
    {
     "data": {
      "text/html": [
       "<div>\n",
       "<style scoped>\n",
       "    .dataframe tbody tr th:only-of-type {\n",
       "        vertical-align: middle;\n",
       "    }\n",
       "\n",
       "    .dataframe tbody tr th {\n",
       "        vertical-align: top;\n",
       "    }\n",
       "\n",
       "    .dataframe thead th {\n",
       "        text-align: right;\n",
       "    }\n",
       "</style>\n",
       "<table border=\"1\" class=\"dataframe\">\n",
       "  <thead>\n",
       "    <tr style=\"text-align: right;\">\n",
       "      <th></th>\n",
       "      <th>Unnamed: 0</th>\n",
       "      <th>Country Name</th>\n",
       "      <th>Country Code</th>\n",
       "      <th>Year</th>\n",
       "      <th>Inflation</th>\n",
       "      <th>GDP</th>\n",
       "      <th>Exports</th>\n",
       "      <th>Trade</th>\n",
       "    </tr>\n",
       "  </thead>\n",
       "  <tbody>\n",
       "    <tr>\n",
       "      <th>0</th>\n",
       "      <td>0</td>\n",
       "      <td>Cyprus</td>\n",
       "      <td>CYP</td>\n",
       "      <td>2001</td>\n",
       "      <td>3.657166</td>\n",
       "      <td>3.600665</td>\n",
       "      <td>9.760000e+08</td>\n",
       "      <td>46.359979</td>\n",
       "    </tr>\n",
       "    <tr>\n",
       "      <th>1</th>\n",
       "      <td>1</td>\n",
       "      <td>Benin</td>\n",
       "      <td>BEN</td>\n",
       "      <td>1995</td>\n",
       "      <td>15.099452</td>\n",
       "      <td>6.045199</td>\n",
       "      <td>4.200000e+08</td>\n",
       "      <td>53.726740</td>\n",
       "    </tr>\n",
       "    <tr>\n",
       "      <th>2</th>\n",
       "      <td>2</td>\n",
       "      <td>Bangladesh</td>\n",
       "      <td>BGD</td>\n",
       "      <td>1995</td>\n",
       "      <td>7.144939</td>\n",
       "      <td>5.121278</td>\n",
       "      <td>3.501000e+09</td>\n",
       "      <td>26.871554</td>\n",
       "    </tr>\n",
       "    <tr>\n",
       "      <th>3</th>\n",
       "      <td>3</td>\n",
       "      <td>Paraguay</td>\n",
       "      <td>PRY</td>\n",
       "      <td>1978</td>\n",
       "      <td>9.706191</td>\n",
       "      <td>12.028730</td>\n",
       "      <td>2.569700e+08</td>\n",
       "      <td>27.230654</td>\n",
       "    </tr>\n",
       "    <tr>\n",
       "      <th>4</th>\n",
       "      <td>4</td>\n",
       "      <td>Morocco</td>\n",
       "      <td>MAR</td>\n",
       "      <td>1987</td>\n",
       "      <td>3.014808</td>\n",
       "      <td>-0.325004</td>\n",
       "      <td>2.826000e+09</td>\n",
       "      <td>32.418633</td>\n",
       "    </tr>\n",
       "  </tbody>\n",
       "</table>\n",
       "</div>"
      ],
      "text/plain": [
       "   Unnamed: 0 Country Name    ...           Exports      Trade\n",
       "0           0       Cyprus    ...      9.760000e+08  46.359979\n",
       "1           1        Benin    ...      4.200000e+08  53.726740\n",
       "2           2   Bangladesh    ...      3.501000e+09  26.871554\n",
       "3           3     Paraguay    ...      2.569700e+08  27.230654\n",
       "4           4      Morocco    ...      2.826000e+09  32.418633\n",
       "\n",
       "[5 rows x 8 columns]"
      ]
     },
     "execution_count": 3,
     "metadata": {},
     "output_type": "execute_result"
    }
   ],
   "source": [
    "test1.head()"
   ]
  },
  {
   "cell_type": "code",
   "execution_count": 4,
   "metadata": {
    "_uuid": "5614089d717d72e5268b99696c4c54ffb6538b67"
   },
   "outputs": [],
   "source": [
    "# train[train['Country Name']=='India']"
   ]
  },
  {
   "cell_type": "code",
   "execution_count": 5,
   "metadata": {
    "_uuid": "9fdb8c669378641e23c3a70ac612803486ee0aba"
   },
   "outputs": [
    {
     "name": "stderr",
     "output_type": "stream",
     "text": [
      "/opt/conda/lib/python3.6/site-packages/scipy/stats/stats.py:1713: FutureWarning: Using a non-tuple sequence for multidimensional indexing is deprecated; use `arr[tuple(seq)]` instead of `arr[seq]`. In the future this will be interpreted as an array index, `arr[np.array(seq)]`, which will result either in an error or a different result.\n",
      "  return np.add.reduce(sorted[indexer] * weights, axis=axis) / sumval\n"
     ]
    },
    {
     "data": {
      "text/plain": [
       "<matplotlib.axes._subplots.AxesSubplot at 0x7f5fa4b26c88>"
      ]
     },
     "execution_count": 5,
     "metadata": {},
     "output_type": "execute_result"
    },
    {
     "data": {
      "image/png": "[encoded data removed]",
      "text/plain": [
       "<Figure size 432x288 with 1 Axes>"
      ]
     },
     "metadata": {},
     "output_type": "display_data"
    }
   ],
   "source": [
    "import matplotlib.pyplot as plt\n",
    "import seaborn as sns\n",
    "%matplotlib inline\n",
    "sns.distplot(train['Balance'],bins=100)\n",
    "# np.cbrt(train['Balance'])"
   ]
  },
  {
   "cell_type": "code",
   "execution_count": 6,
   "metadata": {
    "_uuid": "5c382b4b96dcb59cd888a79f659c6d1a26af2444"
   },
   "outputs": [
    {
     "data": {
      "text/html": [
       "<div>\n",
       "<style scoped>\n",
       "    .dataframe tbody tr th:only-of-type {\n",
       "        vertical-align: middle;\n",
       "    }\n",
       "\n",
       "    .dataframe tbody tr th {\n",
       "        vertical-align: top;\n",
       "    }\n",
       "\n",
       "    .dataframe thead th {\n",
       "        text-align: right;\n",
       "    }\n",
       "</style>\n",
       "<table border=\"1\" class=\"dataframe\">\n",
       "  <thead>\n",
       "    <tr style=\"text-align: right;\">\n",
       "      <th></th>\n",
       "      <th>count</th>\n",
       "      <th>unique</th>\n",
       "      <th>top</th>\n",
       "      <th>freq</th>\n",
       "      <th>mean</th>\n",
       "      <th>std</th>\n",
       "      <th>min</th>\n",
       "      <th>25%</th>\n",
       "      <th>50%</th>\n",
       "      <th>75%</th>\n",
       "      <th>max</th>\n",
       "    </tr>\n",
       "  </thead>\n",
       "  <tbody>\n",
       "    <tr>\n",
       "      <th>Unnamed: 0</th>\n",
       "      <td>4506</td>\n",
       "      <td>NaN</td>\n",
       "      <td>NaN</td>\n",
       "      <td>NaN</td>\n",
       "      <td>2843.5</td>\n",
       "      <td>1636.69</td>\n",
       "      <td>0</td>\n",
       "      <td>1430.25</td>\n",
       "      <td>2834.5</td>\n",
       "      <td>4254.75</td>\n",
       "      <td>5703</td>\n",
       "    </tr>\n",
       "    <tr>\n",
       "      <th>Country Name</th>\n",
       "      <td>4506</td>\n",
       "      <td>150</td>\n",
       "      <td>Israel</td>\n",
       "      <td>47</td>\n",
       "      <td>NaN</td>\n",
       "      <td>NaN</td>\n",
       "      <td>NaN</td>\n",
       "      <td>NaN</td>\n",
       "      <td>NaN</td>\n",
       "      <td>NaN</td>\n",
       "      <td>NaN</td>\n",
       "    </tr>\n",
       "    <tr>\n",
       "      <th>Country Code</th>\n",
       "      <td>4506</td>\n",
       "      <td>150</td>\n",
       "      <td>ISR</td>\n",
       "      <td>47</td>\n",
       "      <td>NaN</td>\n",
       "      <td>NaN</td>\n",
       "      <td>NaN</td>\n",
       "      <td>NaN</td>\n",
       "      <td>NaN</td>\n",
       "      <td>NaN</td>\n",
       "      <td>NaN</td>\n",
       "    </tr>\n",
       "    <tr>\n",
       "      <th>Year</th>\n",
       "      <td>4506</td>\n",
       "      <td>NaN</td>\n",
       "      <td>NaN</td>\n",
       "      <td>NaN</td>\n",
       "      <td>1996.32</td>\n",
       "      <td>12.1963</td>\n",
       "      <td>1960</td>\n",
       "      <td>1986</td>\n",
       "      <td>1997</td>\n",
       "      <td>2007</td>\n",
       "      <td>2016</td>\n",
       "    </tr>\n",
       "    <tr>\n",
       "      <th>Balance</th>\n",
       "      <td>4506</td>\n",
       "      <td>NaN</td>\n",
       "      <td>NaN</td>\n",
       "      <td>NaN</td>\n",
       "      <td>-5.13203e+08</td>\n",
       "      <td>3.56101e+10</td>\n",
       "      <td>-8.06e+11</td>\n",
       "      <td>-9.81187e+08</td>\n",
       "      <td>-1.60329e+08</td>\n",
       "      <td>2.88525e+07</td>\n",
       "      <td>4.21e+11</td>\n",
       "    </tr>\n",
       "    <tr>\n",
       "      <th>Inflation</th>\n",
       "      <td>4261</td>\n",
       "      <td>NaN</td>\n",
       "      <td>NaN</td>\n",
       "      <td>NaN</td>\n",
       "      <td>31.6135</td>\n",
       "      <td>353.818</td>\n",
       "      <td>-29.6911</td>\n",
       "      <td>2.4</td>\n",
       "      <td>6.18435</td>\n",
       "      <td>12.4097</td>\n",
       "      <td>13611.6</td>\n",
       "    </tr>\n",
       "    <tr>\n",
       "      <th>GDP</th>\n",
       "      <td>4262</td>\n",
       "      <td>NaN</td>\n",
       "      <td>NaN</td>\n",
       "      <td>NaN</td>\n",
       "      <td>3.64122</td>\n",
       "      <td>4.85098</td>\n",
       "      <td>-62.0759</td>\n",
       "      <td>1.48104</td>\n",
       "      <td>3.79997</td>\n",
       "      <td>6.05023</td>\n",
       "      <td>34.5</td>\n",
       "    </tr>\n",
       "    <tr>\n",
       "      <th>Exports</th>\n",
       "      <td>4490</td>\n",
       "      <td>NaN</td>\n",
       "      <td>NaN</td>\n",
       "      <td>NaN</td>\n",
       "      <td>4.33961e+10</td>\n",
       "      <td>1.44544e+11</td>\n",
       "      <td>2e+06</td>\n",
       "      <td>4.80426e+08</td>\n",
       "      <td>2.93014e+09</td>\n",
       "      <td>2.04478e+10</td>\n",
       "      <td>2.34e+12</td>\n",
       "    </tr>\n",
       "    <tr>\n",
       "      <th>Trade</th>\n",
       "      <td>4304</td>\n",
       "      <td>NaN</td>\n",
       "      <td>NaN</td>\n",
       "      <td>NaN</td>\n",
       "      <td>62.8893</td>\n",
       "      <td>46.754</td>\n",
       "      <td>7.92091</td>\n",
       "      <td>38.0963</td>\n",
       "      <td>52.4365</td>\n",
       "      <td>76.7458</td>\n",
       "      <td>957.784</td>\n",
       "    </tr>\n",
       "  </tbody>\n",
       "</table>\n",
       "</div>"
      ],
      "text/plain": [
       "             count unique     top    ...             50%          75%       max\n",
       "Unnamed: 0    4506    NaN     NaN    ...          2834.5      4254.75      5703\n",
       "Country Name  4506    150  Israel    ...             NaN          NaN       NaN\n",
       "Country Code  4506    150     ISR    ...             NaN          NaN       NaN\n",
       "Year          4506    NaN     NaN    ...            1997         2007      2016\n",
       "Balance       4506    NaN     NaN    ...    -1.60329e+08  2.88525e+07  4.21e+11\n",
       "Inflation     4261    NaN     NaN    ...         6.18435      12.4097   13611.6\n",
       "GDP           4262    NaN     NaN    ...         3.79997      6.05023      34.5\n",
       "Exports       4490    NaN     NaN    ...     2.93014e+09  2.04478e+10  2.34e+12\n",
       "Trade         4304    NaN     NaN    ...         52.4365      76.7458   957.784\n",
       "\n",
       "[9 rows x 11 columns]"
      ]
     },
     "execution_count": 6,
     "metadata": {},
     "output_type": "execute_result"
    }
   ],
   "source": [
    "# (1-train['Trade']/100)*train['Exports']\n",
    "train.describe(include='all').T"
   ]
  },
  {
   "cell_type": "code",
   "execution_count": 7,
   "metadata": {
    "_uuid": "280ccb80f08902eaf219e220d7c221de8dee7c4c"
   },
   "outputs": [
    {
     "data": {
      "text/html": [
       "<div>\n",
       "<style scoped>\n",
       "    .dataframe tbody tr th:only-of-type {\n",
       "        vertical-align: middle;\n",
       "    }\n",
       "\n",
       "    .dataframe tbody tr th {\n",
       "        vertical-align: top;\n",
       "    }\n",
       "\n",
       "    .dataframe thead th {\n",
       "        text-align: right;\n",
       "    }\n",
       "</style>\n",
       "<table border=\"1\" class=\"dataframe\">\n",
       "  <thead>\n",
       "    <tr style=\"text-align: right;\">\n",
       "      <th></th>\n",
       "      <th>count</th>\n",
       "      <th>unique</th>\n",
       "      <th>top</th>\n",
       "      <th>freq</th>\n",
       "      <th>mean</th>\n",
       "      <th>std</th>\n",
       "      <th>min</th>\n",
       "      <th>25%</th>\n",
       "      <th>50%</th>\n",
       "      <th>75%</th>\n",
       "      <th>max</th>\n",
       "    </tr>\n",
       "  </thead>\n",
       "  <tbody>\n",
       "    <tr>\n",
       "      <th>Unnamed: 0</th>\n",
       "      <td>1071</td>\n",
       "      <td>NaN</td>\n",
       "      <td>NaN</td>\n",
       "      <td>NaN</td>\n",
       "      <td>535</td>\n",
       "      <td>309.315</td>\n",
       "      <td>0</td>\n",
       "      <td>267.5</td>\n",
       "      <td>535</td>\n",
       "      <td>802.5</td>\n",
       "      <td>1070</td>\n",
       "    </tr>\n",
       "    <tr>\n",
       "      <th>Country Name</th>\n",
       "      <td>1071</td>\n",
       "      <td>150</td>\n",
       "      <td>Colombia</td>\n",
       "      <td>17</td>\n",
       "      <td>NaN</td>\n",
       "      <td>NaN</td>\n",
       "      <td>NaN</td>\n",
       "      <td>NaN</td>\n",
       "      <td>NaN</td>\n",
       "      <td>NaN</td>\n",
       "      <td>NaN</td>\n",
       "    </tr>\n",
       "    <tr>\n",
       "      <th>Country Code</th>\n",
       "      <td>1071</td>\n",
       "      <td>150</td>\n",
       "      <td>COL</td>\n",
       "      <td>17</td>\n",
       "      <td>NaN</td>\n",
       "      <td>NaN</td>\n",
       "      <td>NaN</td>\n",
       "      <td>NaN</td>\n",
       "      <td>NaN</td>\n",
       "      <td>NaN</td>\n",
       "      <td>NaN</td>\n",
       "    </tr>\n",
       "    <tr>\n",
       "      <th>Year</th>\n",
       "      <td>1071</td>\n",
       "      <td>NaN</td>\n",
       "      <td>NaN</td>\n",
       "      <td>NaN</td>\n",
       "      <td>1996.84</td>\n",
       "      <td>12.14</td>\n",
       "      <td>1961</td>\n",
       "      <td>1987</td>\n",
       "      <td>1998</td>\n",
       "      <td>2007</td>\n",
       "      <td>2016</td>\n",
       "    </tr>\n",
       "    <tr>\n",
       "      <th>Inflation</th>\n",
       "      <td>1071</td>\n",
       "      <td>NaN</td>\n",
       "      <td>NaN</td>\n",
       "      <td>NaN</td>\n",
       "      <td>19.6689</td>\n",
       "      <td>135.853</td>\n",
       "      <td>-18.9297</td>\n",
       "      <td>2.39804</td>\n",
       "      <td>6.00125</td>\n",
       "      <td>12.3189</td>\n",
       "      <td>4107.3</td>\n",
       "    </tr>\n",
       "    <tr>\n",
       "      <th>GDP</th>\n",
       "      <td>1071</td>\n",
       "      <td>NaN</td>\n",
       "      <td>NaN</td>\n",
       "      <td>NaN</td>\n",
       "      <td>3.75876</td>\n",
       "      <td>4.73283</td>\n",
       "      <td>-29.589</td>\n",
       "      <td>1.60573</td>\n",
       "      <td>3.93194</td>\n",
       "      <td>6.16225</td>\n",
       "      <td>26.2686</td>\n",
       "    </tr>\n",
       "    <tr>\n",
       "      <th>Exports</th>\n",
       "      <td>1071</td>\n",
       "      <td>NaN</td>\n",
       "      <td>NaN</td>\n",
       "      <td>NaN</td>\n",
       "      <td>5.52162e+10</td>\n",
       "      <td>1.73422e+11</td>\n",
       "      <td>3.894e+06</td>\n",
       "      <td>5.37892e+08</td>\n",
       "      <td>2.74e+09</td>\n",
       "      <td>2.40625e+10</td>\n",
       "      <td>2.1e+12</td>\n",
       "    </tr>\n",
       "    <tr>\n",
       "      <th>Trade</th>\n",
       "      <td>1071</td>\n",
       "      <td>NaN</td>\n",
       "      <td>NaN</td>\n",
       "      <td>NaN</td>\n",
       "      <td>60.3632</td>\n",
       "      <td>39.4926</td>\n",
       "      <td>4.90944</td>\n",
       "      <td>37.2646</td>\n",
       "      <td>50.9408</td>\n",
       "      <td>72.9673</td>\n",
       "      <td>345.417</td>\n",
       "    </tr>\n",
       "  </tbody>\n",
       "</table>\n",
       "</div>"
      ],
      "text/plain": [
       "             count unique       top   ...          50%          75%      max\n",
       "Unnamed: 0    1071    NaN       NaN   ...          535        802.5     1070\n",
       "Country Name  1071    150  Colombia   ...          NaN          NaN      NaN\n",
       "Country Code  1071    150       COL   ...          NaN          NaN      NaN\n",
       "Year          1071    NaN       NaN   ...         1998         2007     2016\n",
       "Inflation     1071    NaN       NaN   ...      6.00125      12.3189   4107.3\n",
       "GDP           1071    NaN       NaN   ...      3.93194      6.16225  26.2686\n",
       "Exports       1071    NaN       NaN   ...     2.74e+09  2.40625e+10  2.1e+12\n",
       "Trade         1071    NaN       NaN   ...      50.9408      72.9673  345.417\n",
       "\n",
       "[8 rows x 11 columns]"
      ]
     },
     "execution_count": 7,
     "metadata": {},
     "output_type": "execute_result"
    }
   ],
   "source": [
    "test=test1.copy()\n",
    "test.describe(include='all').T\n"
   ]
  },
  {
   "cell_type": "code",
   "execution_count": 8,
   "metadata": {
    "_uuid": "6e705a4f633b19e40183a74c878b99d0c88da76f"
   },
   "outputs": [],
   "source": [
    "train['gdp_growth']=train['GDP']-train['Inflation']\n",
    "train['exports_tradeoff']=(1-train['Trade']/100)*train['Exports']\n",
    "# train['gdp_tradeoff']=train['GDP']/train['Trade']\n",
    "\n",
    "test['gdp_growth']=test['GDP']-test['Inflation']\n",
    "test['exports_tradeoff']=(1-test['Trade']/100)*test['Exports']\n",
    "# test['gdp_tradeoff']=test['GDP']/test['Trade']\n",
    "\n",
    "train['Year']=train['Year'].astype(np.object)\n",
    "test['Year']=test['Year'].astype(np.object)"
   ]
  },
  {
   "cell_type": "code",
   "execution_count": 9,
   "metadata": {
    "_uuid": "1a08f033761774b77e189f2dca4f9f87b323098c"
   },
   "outputs": [
    {
     "data": {
      "text/html": [
       "<div>\n",
       "<style scoped>\n",
       "    .dataframe tbody tr th:only-of-type {\n",
       "        vertical-align: middle;\n",
       "    }\n",
       "\n",
       "    .dataframe tbody tr th {\n",
       "        vertical-align: top;\n",
       "    }\n",
       "\n",
       "    .dataframe thead th {\n",
       "        text-align: right;\n",
       "    }\n",
       "</style>\n",
       "<table border=\"1\" class=\"dataframe\">\n",
       "  <thead>\n",
       "    <tr style=\"text-align: right;\">\n",
       "      <th></th>\n",
       "      <th>Unnamed: 0</th>\n",
       "      <th>Country Name</th>\n",
       "      <th>Country Code</th>\n",
       "      <th>Year</th>\n",
       "      <th>Balance</th>\n",
       "      <th>Inflation</th>\n",
       "      <th>GDP</th>\n",
       "      <th>Exports</th>\n",
       "      <th>Trade</th>\n",
       "      <th>gdp_growth</th>\n",
       "      <th>exports_tradeoff</th>\n",
       "    </tr>\n",
       "  </thead>\n",
       "  <tbody>\n",
       "    <tr>\n",
       "      <th>0</th>\n",
       "      <td>0</td>\n",
       "      <td>Senegal</td>\n",
       "      <td>SEN</td>\n",
       "      <td>1983</td>\n",
       "      <td>-3.043829e+08</td>\n",
       "      <td>9.274213</td>\n",
       "      <td>-5.326393</td>\n",
       "      <td>6.180000e+08</td>\n",
       "      <td>59.224298</td>\n",
       "      <td>-14.600606</td>\n",
       "      <td>2.519938e+08</td>\n",
       "    </tr>\n",
       "    <tr>\n",
       "      <th>1</th>\n",
       "      <td>1</td>\n",
       "      <td>Togo</td>\n",
       "      <td>TGO</td>\n",
       "      <td>2009</td>\n",
       "      <td>-1.766692e+08</td>\n",
       "      <td>1.855275</td>\n",
       "      <td>3.510297</td>\n",
       "      <td>9.030260e+08</td>\n",
       "      <td>76.242542</td>\n",
       "      <td>1.655022</td>\n",
       "      <td>2.145360e+08</td>\n",
       "    </tr>\n",
       "    <tr>\n",
       "      <th>2</th>\n",
       "      <td>2</td>\n",
       "      <td>Pakistan</td>\n",
       "      <td>PAK</td>\n",
       "      <td>1992</td>\n",
       "      <td>-1.876092e+09</td>\n",
       "      <td>10.057085</td>\n",
       "      <td>7.705898</td>\n",
       "      <td>7.351000e+09</td>\n",
       "      <td>34.489440</td>\n",
       "      <td>-2.351187</td>\n",
       "      <td>4.815681e+09</td>\n",
       "    </tr>\n",
       "    <tr>\n",
       "      <th>3</th>\n",
       "      <td>3</td>\n",
       "      <td>Nepal</td>\n",
       "      <td>NPL</td>\n",
       "      <td>1988</td>\n",
       "      <td>-2.714506e+08</td>\n",
       "      <td>11.815310</td>\n",
       "      <td>7.696809</td>\n",
       "      <td>1.900000e+08</td>\n",
       "      <td>24.978422</td>\n",
       "      <td>-4.118501</td>\n",
       "      <td>1.425410e+08</td>\n",
       "    </tr>\n",
       "    <tr>\n",
       "      <th>4</th>\n",
       "      <td>5</td>\n",
       "      <td>Malta</td>\n",
       "      <td>MLT</td>\n",
       "      <td>2016</td>\n",
       "      <td>7.269132e+08</td>\n",
       "      <td>1.604548</td>\n",
       "      <td>5.516617</td>\n",
       "      <td>3.017299e+09</td>\n",
       "      <td>83.781471</td>\n",
       "      <td>3.912069</td>\n",
       "      <td>4.893615e+08</td>\n",
       "    </tr>\n",
       "  </tbody>\n",
       "</table>\n",
       "</div>"
      ],
      "text/plain": [
       "   Unnamed: 0 Country Name       ...        gdp_growth exports_tradeoff\n",
       "0           0      Senegal       ...        -14.600606     2.519938e+08\n",
       "1           1         Togo       ...          1.655022     2.145360e+08\n",
       "2           2     Pakistan       ...         -2.351187     4.815681e+09\n",
       "3           3        Nepal       ...         -4.118501     1.425410e+08\n",
       "4           5        Malta       ...          3.912069     4.893615e+08\n",
       "\n",
       "[5 rows x 11 columns]"
      ]
     },
     "execution_count": 9,
     "metadata": {},
     "output_type": "execute_result"
    }
   ],
   "source": [
    "train.head()"
   ]
  },
  {
   "cell_type": "code",
   "execution_count": 10,
   "metadata": {
    "_uuid": "3e1a93d29f3628770babc63c0240bb183625dd9d"
   },
   "outputs": [],
   "source": [
    "# train=train[(train['Inflation']<=4107.3) & (train['GDP']<=27) & (train['Trade']<=350) & (train['gdp_growth']<=31)]"
   ]
  },
  {
   "cell_type": "code",
   "execution_count": 11,
   "metadata": {
    "_uuid": "9961700f9692a063ec54337ca9daef54d326e96b"
   },
   "outputs": [],
   "source": [
    "train.shape\n",
    "n_cols=['Inflation', 'GDP', 'Exports', 'Trade', 'gdp_growth','exports_tradeoff']"
   ]
  },
  {
   "cell_type": "code",
   "execution_count": 12,
   "metadata": {
    "_uuid": "5283d842049a64b46cc561ef7953da04c0b06017"
   },
   "outputs": [],
   "source": [
    "for i in n_cols:\n",
    "    train[i].fillna(train[i].mean(),inplace=True)\n",
    "    test[i].fillna(test[i].mean(),inplace=True)"
   ]
  },
  {
   "cell_type": "code",
   "execution_count": 13,
   "metadata": {
    "_uuid": "555261510f6b5c14f95b5091a6d5f6e7df966e7a"
   },
   "outputs": [
    {
     "data": {
      "text/html": [
       "<div>\n",
       "<style scoped>\n",
       "    .dataframe tbody tr th:only-of-type {\n",
       "        vertical-align: middle;\n",
       "    }\n",
       "\n",
       "    .dataframe tbody tr th {\n",
       "        vertical-align: top;\n",
       "    }\n",
       "\n",
       "    .dataframe thead th {\n",
       "        text-align: right;\n",
       "    }\n",
       "</style>\n",
       "<table border=\"1\" class=\"dataframe\">\n",
       "  <thead>\n",
       "    <tr style=\"text-align: right;\">\n",
       "      <th></th>\n",
       "      <th>Unnamed: 0</th>\n",
       "      <th>Country Name</th>\n",
       "      <th>Country Code</th>\n",
       "      <th>Year</th>\n",
       "      <th>Balance</th>\n",
       "      <th>Inflation</th>\n",
       "      <th>GDP</th>\n",
       "      <th>Exports</th>\n",
       "      <th>Trade</th>\n",
       "      <th>gdp_growth</th>\n",
       "      <th>exports_tradeoff</th>\n",
       "    </tr>\n",
       "  </thead>\n",
       "  <tbody>\n",
       "    <tr>\n",
       "      <th>0</th>\n",
       "      <td>0</td>\n",
       "      <td>Senegal</td>\n",
       "      <td>SEN</td>\n",
       "      <td>1983</td>\n",
       "      <td>-3.043829e+08</td>\n",
       "      <td>9.274213</td>\n",
       "      <td>-5.326393</td>\n",
       "      <td>6.180000e+08</td>\n",
       "      <td>59.224298</td>\n",
       "      <td>-14.600606</td>\n",
       "      <td>2.519938e+08</td>\n",
       "    </tr>\n",
       "    <tr>\n",
       "      <th>1</th>\n",
       "      <td>1</td>\n",
       "      <td>Togo</td>\n",
       "      <td>TGO</td>\n",
       "      <td>2009</td>\n",
       "      <td>-1.766692e+08</td>\n",
       "      <td>1.855275</td>\n",
       "      <td>3.510297</td>\n",
       "      <td>9.030260e+08</td>\n",
       "      <td>76.242542</td>\n",
       "      <td>1.655022</td>\n",
       "      <td>2.145360e+08</td>\n",
       "    </tr>\n",
       "    <tr>\n",
       "      <th>2</th>\n",
       "      <td>2</td>\n",
       "      <td>Pakistan</td>\n",
       "      <td>PAK</td>\n",
       "      <td>1992</td>\n",
       "      <td>-1.876092e+09</td>\n",
       "      <td>10.057085</td>\n",
       "      <td>7.705898</td>\n",
       "      <td>7.351000e+09</td>\n",
       "      <td>34.489440</td>\n",
       "      <td>-2.351187</td>\n",
       "      <td>4.815681e+09</td>\n",
       "    </tr>\n",
       "    <tr>\n",
       "      <th>3</th>\n",
       "      <td>3</td>\n",
       "      <td>Nepal</td>\n",
       "      <td>NPL</td>\n",
       "      <td>1988</td>\n",
       "      <td>-2.714506e+08</td>\n",
       "      <td>11.815310</td>\n",
       "      <td>7.696809</td>\n",
       "      <td>1.900000e+08</td>\n",
       "      <td>24.978422</td>\n",
       "      <td>-4.118501</td>\n",
       "      <td>1.425410e+08</td>\n",
       "    </tr>\n",
       "    <tr>\n",
       "      <th>4</th>\n",
       "      <td>5</td>\n",
       "      <td>Malta</td>\n",
       "      <td>MLT</td>\n",
       "      <td>2016</td>\n",
       "      <td>7.269132e+08</td>\n",
       "      <td>1.604548</td>\n",
       "      <td>5.516617</td>\n",
       "      <td>3.017299e+09</td>\n",
       "      <td>83.781471</td>\n",
       "      <td>3.912069</td>\n",
       "      <td>4.893615e+08</td>\n",
       "    </tr>\n",
       "  </tbody>\n",
       "</table>\n",
       "</div>"
      ],
      "text/plain": [
       "   Unnamed: 0 Country Name       ...        gdp_growth exports_tradeoff\n",
       "0           0      Senegal       ...        -14.600606     2.519938e+08\n",
       "1           1         Togo       ...          1.655022     2.145360e+08\n",
       "2           2     Pakistan       ...         -2.351187     4.815681e+09\n",
       "3           3        Nepal       ...         -4.118501     1.425410e+08\n",
       "4           5        Malta       ...          3.912069     4.893615e+08\n",
       "\n",
       "[5 rows x 11 columns]"
      ]
     },
     "execution_count": 13,
     "metadata": {},
     "output_type": "execute_result"
    }
   ],
   "source": [
    "train.head()"
   ]
  },
  {
   "cell_type": "code",
   "execution_count": 14,
   "metadata": {
    "_uuid": "10da2314d07316004e8f13bc56db705a0f999e08"
   },
   "outputs": [],
   "source": [
    "from sklearn.preprocessing import RobustScaler,StandardScaler,Normalizer\n",
    "r=RobustScaler()\n",
    "train[n_cols]=r.fit_transform(train[n_cols])\n",
    "test[n_cols]=r.transform(test[n_cols])"
   ]
  },
  {
   "cell_type": "code",
   "execution_count": 15,
   "metadata": {
    "_uuid": "d7ac2d5b81aae2e56d1c76af054070f1f94ef0c6"
   },
   "outputs": [
    {
     "data": {
      "text/plain": [
       "Inflation           0\n",
       "GDP                 0\n",
       "Exports             0\n",
       "Trade               0\n",
       "gdp_growth          0\n",
       "exports_tradeoff    0\n",
       "dtype: int64"
      ]
     },
     "execution_count": 15,
     "metadata": {},
     "output_type": "execute_result"
    }
   ],
   "source": [
    "# from sklearn.preprocessing import RobustScaler,StandardScaler,Normalizer\n",
    "# for i in ['Inflation', 'GDP', 'Exports', 'Trade', 'gdp_growth','exports_tradeoff']:\n",
    "#     r=RobustScaler()\n",
    "#     train[i]=r.fit_transform(train[i])\n",
    "#     test[i]=r.transform(test[i])\n",
    "train[n_cols].isnull().sum()"
   ]
  },
  {
   "cell_type": "code",
   "execution_count": 16,
   "metadata": {
    "_uuid": "d48bf0633c87effb056351d2027db6a745cf834b"
   },
   "outputs": [
    {
     "name": "stdout",
     "output_type": "stream",
     "text": [
      "<class 'pandas.core.frame.DataFrame'>\n",
      "RangeIndex: 1071 entries, 0 to 1070\n",
      "Data columns (total 10 columns):\n",
      "Unnamed: 0          1071 non-null int64\n",
      "Country Name        1071 non-null object\n",
      "Country Code        1071 non-null object\n",
      "Year                1071 non-null object\n",
      "Inflation           1071 non-null float64\n",
      "GDP                 1071 non-null float64\n",
      "Exports             1071 non-null float64\n",
      "Trade               1071 non-null float64\n",
      "gdp_growth          1071 non-null float64\n",
      "exports_tradeoff    1071 non-null float64\n",
      "dtypes: float64(6), int64(1), object(3)\n",
      "memory usage: 83.8+ KB\n"
     ]
    }
   ],
   "source": [
    "test.info()"
   ]
  },
  {
   "cell_type": "code",
   "execution_count": 17,
   "metadata": {
    "_uuid": "3a02cd914289eed849dbfd3f00f6e76997413d5a"
   },
   "outputs": [],
   "source": [
    "from catboost import CatBoostClassifier,Pool, cv,CatBoostRegressor\n",
    "from sklearn.model_selection import StratifiedKFold,train_test_split\n",
    "from sklearn.linear_model import LogisticRegression\n",
    "from sklearn.ensemble import RandomForestClassifier\n",
    "from sklearn.metrics import accuracy_score,confusion_matrix,roc_auc_score\n",
    "import warnings\n",
    "import seaborn as sns\n",
    "import matplotlib.pyplot as plt\n",
    "import itertools\n",
    "from scipy.stats import mode"
   ]
  },
  {
   "cell_type": "code",
   "execution_count": 18,
   "metadata": {
    "_uuid": "b039aaca347bb8a0d28decbf1ad123e373d3982b"
   },
   "outputs": [],
   "source": [
    "X_train,X_val,y_train,y_val = train_test_split(train.drop(['Unnamed: 0','Balance'],axis=1),train['Balance'],\n",
    "                                                 test_size=0.25,random_state = 1994)"
   ]
  },
  {
   "cell_type": "code",
   "execution_count": 19,
   "metadata": {
    "_uuid": "99864930a286e7f6e4ed46de4f2cf7ed03cc06f3"
   },
   "outputs": [
    {
     "data": {
      "text/plain": [
       "array([0, 1, 2])"
      ]
     },
     "execution_count": 19,
     "metadata": {},
     "output_type": "execute_result"
    }
   ],
   "source": [
    "categorical_features_indices = np.where(X_train.dtypes =='object')[0]\n",
    "categorical_features_indices"
   ]
  },
  {
   "cell_type": "code",
   "execution_count": 20,
   "metadata": {
    "_uuid": "23615c427ee28480840480743e31dc7be33ec862"
   },
   "outputs": [],
   "source": [
    "X,y=train.drop(['Unnamed: 0','Balance'],axis=1),train['Balance']\n",
    "Xtest=test.drop(['Unnamed: 0'],axis=1)\n",
    "# X.head()"
   ]
  },
  {
   "cell_type": "code",
   "execution_count": 21,
   "metadata": {
    "_uuid": "90a5695ec1a30a63910cc85a38c098856a70f1a2"
   },
   "outputs": [],
   "source": [
    "import math\n",
    "def rmsle(h, y): \n",
    "    \"\"\"\n",
    "    Compute the Root Mean Squared Log Error for hypthesis h and targets y\n",
    "\n",
    "    Args:\n",
    "        h - numpy array containing predictions with shape (n_samples, n_targets)\n",
    "        y - numpy array containing targets with shape (n_samples, n_targets)\n",
    "    \"\"\"\n",
    "    return 1/(1+math.exp(np.sqrt(np.square(np.log(h + 1) - np.log(y + 1)).mean())))\n",
    "\n",
    "def runCatBoost(x_train, y_train,x_test, y_test,test,depth):\n",
    "    model=CatBoostRegressor(n_estimators=1000,\n",
    "                            learning_rate=0.1,\n",
    "                            loss_function='RMSE',\n",
    "                            eval_metric='RMSE',\n",
    "                            random_seed=1994,\n",
    "#                             od_type='Iter',\n",
    "#                             od_wait=50\n",
    "                           )\n",
    "                           \n",
    "    model.fit(x_train, y_train,cat_features=categorical_features_indices, eval_set=(x_test, y_test), use_best_model=True, verbose=150)\n",
    "    y_pred_train=model.predict(x_test)\n",
    "    rmsle_result = rmsle(y_pred_train,y_test)\n",
    "    y_pred_test=model.predict(test)\n",
    "    return y_pred_train,rmsle_result,y_pred_test\n",
    "#     return y_pred_train,y_pred_test"
   ]
  },
  {
   "cell_type": "code",
   "execution_count": 22,
   "metadata": {
    "_uuid": "a1f970a962e1ae312b301f27c7a70b88619a747e"
   },
   "outputs": [
    {
     "name": "stderr",
     "output_type": "stream",
     "text": [
      "Got unsafe target value = 3.81949e+08 at object #0 of dataset learn\n",
      "Got unsafe target value = -1.76669e+08 at object #0 of dataset test #0\n"
     ]
    },
    {
     "name": "stdout",
     "output_type": "stream",
     "text": [
      "0:\tlearn: 26038031343.5091095\ttest: 41258915871.7544937\tbest: 41258915871.7544937 (0)\ttotal: 77.8ms\tremaining: 1m 17s\n",
      "150:\tlearn: 8556435434.5866537\ttest: 21141272029.6266289\tbest: 21141272029.6266289 (150)\ttotal: 1.16s\tremaining: 6.51s\n",
      "300:\tlearn: 7290536885.8879404\ttest: 20759479524.2510109\tbest: 20753398811.0493240 (276)\ttotal: 2.45s\tremaining: 5.7s\n",
      "450:\tlearn: 6612348782.7117434\ttest: 20590213746.2395172\tbest: 20578286395.2597237 (446)\ttotal: 3.83s\tremaining: 4.66s\n",
      "600:\tlearn: 6193763231.8758287\ttest: 20603917193.7322426\tbest: 20520878444.7064095 (519)\ttotal: 5.04s\tremaining: 3.34s\n",
      "750:\tlearn: 5873624547.6873026\ttest: 20638811769.7872391\tbest: 20520878444.7064095 (519)\ttotal: 6.31s\tremaining: 2.09s\n",
      "900:\tlearn: 5672483864.7958498\ttest: 20622062249.5920029\tbest: 20520878444.7064095 (519)\ttotal: 7.46s\tremaining: 820ms\n",
      "999:\tlearn: 5581550427.7267017\ttest: 20668149417.2319679\tbest: 20520878444.7064095 (519)\ttotal: 8.2s\tremaining: 0us\n",
      "\n",
      "bestTest = 2.052087844e+10\n",
      "bestIteration = 519\n",
      "\n",
      "Shrink model to first 520 iterations.\n",
      "fold score : 0.11829782301963546\n",
      "0:\tlearn: 40723599040.0918121\ttest: 25668596969.7918434\tbest: 25668596969.7918434 (0)\ttotal: 10ms\tremaining: 10s\n"
     ]
    },
    {
     "name": "stderr",
     "output_type": "stream",
     "text": [
      "/opt/conda/lib/python3.6/site-packages/ipykernel_launcher.py:10: RuntimeWarning: invalid value encountered in log\n",
      "  # Remove the CWD from sys.path while we load stuff.\n",
      "Got unsafe target value = -2.05257e+08 at object #0 of dataset learn\n",
      "Got unsafe target value = -3.04383e+08 at object #0 of dataset test #0\n"
     ]
    },
    {
     "name": "stdout",
     "output_type": "stream",
     "text": [
      "150:\tlearn: 12218515181.5196018\ttest: 14156194710.6299553\tbest: 12478020408.3355389 (30)\ttotal: 1.22s\tremaining: 6.87s\n",
      "300:\tlearn: 10208867314.0500584\ttest: 13751237900.1462231\tbest: 12478020408.3355389 (30)\ttotal: 2.5s\tremaining: 5.82s\n",
      "450:\tlearn: 9359178576.7636662\ttest: 13772443303.7618465\tbest: 12478020408.3355389 (30)\ttotal: 3.67s\tremaining: 4.47s\n",
      "600:\tlearn: 8547828141.6832094\ttest: 13846955438.6088257\tbest: 12478020408.3355389 (30)\ttotal: 4.86s\tremaining: 3.23s\n",
      "750:\tlearn: 7802127488.3046284\ttest: 13770840553.5336990\tbest: 12478020408.3355389 (30)\ttotal: 6.17s\tremaining: 2.05s\n",
      "900:\tlearn: 7102908432.8161144\ttest: 13767315066.8642235\tbest: 12478020408.3355389 (30)\ttotal: 7.5s\tremaining: 825ms\n",
      "999:\tlearn: 6939685630.7889805\ttest: 13709545480.9336586\tbest: 12478020408.3355389 (30)\ttotal: 8.4s\tremaining: 0us\n",
      "\n",
      "bestTest = 1.247802041e+10\n",
      "bestIteration = 30\n",
      "\n",
      "Shrink model to first 31 iterations.\n",
      "fold score : 0.04894086079882395\n",
      "Mean cv score :  0.0836193419092297\n"
     ]
    }
   ],
   "source": [
    "from sklearn import model_selection\n",
    "pred_full_test_cat_feen = 0\n",
    "mse_cat_list_feen=[]\n",
    "kf = model_selection.KFold(n_splits=2, shuffle=True, random_state=30)\n",
    "for dev_index, val_index in kf.split(X):\n",
    "    dev_X, val_X = X.loc[dev_index], X.loc[val_index]\n",
    "    dev_y, val_y = y.loc[dev_index], y.loc[val_index]\n",
    "    y_pred_feen,rmsle_feen,y_pred_test_feen=runCatBoost(dev_X, dev_y, val_X, val_y,Xtest,depth=4)\n",
    "    print('fold score :',rmsle_feen)\n",
    "    mse_cat_list_feen.append(rmsle_feen)\n",
    "    pred_full_test_cat_feen = pred_full_test_cat_feen + y_pred_test_feen\n",
    "mse_cat_feen_mean=np.mean(mse_cat_list_feen)\n",
    "print(\"Mean cv score : \", np.mean(mse_cat_feen_mean))\n",
    "y_pred_test_feen=pred_full_test_cat_feen/2"
   ]
  },
  {
   "cell_type": "code",
   "execution_count": 23,
   "metadata": {
    "_uuid": "ae836153629f52ec24e39e96c7fc4e8f50d985c9"
   },
   "outputs": [
    {
     "name": "stderr",
     "output_type": "stream",
     "text": [
      "/opt/conda/lib/python3.6/site-packages/scipy/stats/stats.py:1713: FutureWarning: Using a non-tuple sequence for multidimensional indexing is deprecated; use `arr[tuple(seq)]` instead of `arr[seq]`. In the future this will be interpreted as an array index, `arr[np.array(seq)]`, which will result either in an error or a different result.\n",
      "  return np.add.reduce(sorted[indexer] * weights, axis=axis) / sumval\n"
     ]
    },
    {
     "data": {
      "text/plain": [
       "<matplotlib.axes._subplots.AxesSubplot at 0x7f5f8ba4f358>"
      ]
     },
     "execution_count": 23,
     "metadata": {},
     "output_type": "execute_result"
    },
    {
     "data": {
      "image/png": "[encoded data removed]",
      "text/plain": [
       "<Figure size 432x288 with 1 Axes>"
      ]
     },
     "metadata": {},
     "output_type": "display_data"
    }
   ],
   "source": [
    "sns.distplot(y_pred_test_feen)"
   ]
  },
  {
   "cell_type": "code",
   "execution_count": 24,
   "metadata": {
    "_uuid": "662c3a5ece722e7c5715a4c18609f1ec5795a0a9"
   },
   "outputs": [],
   "source": [
    "test1['Balance']=y_pred_test_feen\n",
    "test1.drop('Unnamed: 0',axis=1,inplace=True)"
   ]
  },
  {
   "cell_type": "code",
   "execution_count": 25,
   "metadata": {
    "_uuid": "463a05cb3af1ada62e5d464bcbe1d5e8544566da"
   },
   "outputs": [
    {
     "data": {
      "text/html": [
       "<div>\n",
       "<style scoped>\n",
       "    .dataframe tbody tr th:only-of-type {\n",
       "        vertical-align: middle;\n",
       "    }\n",
       "\n",
       "    .dataframe tbody tr th {\n",
       "        vertical-align: top;\n",
       "    }\n",
       "\n",
       "    .dataframe thead th {\n",
       "        text-align: right;\n",
       "    }\n",
       "</style>\n",
       "<table border=\"1\" class=\"dataframe\">\n",
       "  <thead>\n",
       "    <tr style=\"text-align: right;\">\n",
       "      <th></th>\n",
       "      <th>Country Name</th>\n",
       "      <th>Country Code</th>\n",
       "      <th>Year</th>\n",
       "      <th>Inflation</th>\n",
       "      <th>GDP</th>\n",
       "      <th>Exports</th>\n",
       "      <th>Trade</th>\n",
       "      <th>Balance</th>\n",
       "    </tr>\n",
       "  </thead>\n",
       "  <tbody>\n",
       "    <tr>\n",
       "      <th>0</th>\n",
       "      <td>Cyprus</td>\n",
       "      <td>CYP</td>\n",
       "      <td>2001</td>\n",
       "      <td>3.657166</td>\n",
       "      <td>3.600665</td>\n",
       "      <td>9.760000e+08</td>\n",
       "      <td>46.359979</td>\n",
       "      <td>-2.401426e+09</td>\n",
       "    </tr>\n",
       "    <tr>\n",
       "      <th>1</th>\n",
       "      <td>Benin</td>\n",
       "      <td>BEN</td>\n",
       "      <td>1995</td>\n",
       "      <td>15.099452</td>\n",
       "      <td>6.045199</td>\n",
       "      <td>4.200000e+08</td>\n",
       "      <td>53.726740</td>\n",
       "      <td>3.132878e+08</td>\n",
       "    </tr>\n",
       "    <tr>\n",
       "      <th>2</th>\n",
       "      <td>Bangladesh</td>\n",
       "      <td>BGD</td>\n",
       "      <td>1995</td>\n",
       "      <td>7.144939</td>\n",
       "      <td>5.121278</td>\n",
       "      <td>3.501000e+09</td>\n",
       "      <td>26.871554</td>\n",
       "      <td>-1.175496e+09</td>\n",
       "    </tr>\n",
       "    <tr>\n",
       "      <th>3</th>\n",
       "      <td>Paraguay</td>\n",
       "      <td>PRY</td>\n",
       "      <td>1978</td>\n",
       "      <td>9.706191</td>\n",
       "      <td>12.028730</td>\n",
       "      <td>2.569700e+08</td>\n",
       "      <td>27.230654</td>\n",
       "      <td>-2.481381e+08</td>\n",
       "    </tr>\n",
       "    <tr>\n",
       "      <th>4</th>\n",
       "      <td>Morocco</td>\n",
       "      <td>MAR</td>\n",
       "      <td>1987</td>\n",
       "      <td>3.014808</td>\n",
       "      <td>-0.325004</td>\n",
       "      <td>2.826000e+09</td>\n",
       "      <td>32.418633</td>\n",
       "      <td>-2.184975e+09</td>\n",
       "    </tr>\n",
       "  </tbody>\n",
       "</table>\n",
       "</div>"
      ],
      "text/plain": [
       "  Country Name Country Code      ...           Trade       Balance\n",
       "0       Cyprus          CYP      ...       46.359979 -2.401426e+09\n",
       "1        Benin          BEN      ...       53.726740  3.132878e+08\n",
       "2   Bangladesh          BGD      ...       26.871554 -1.175496e+09\n",
       "3     Paraguay          PRY      ...       27.230654 -2.481381e+08\n",
       "4      Morocco          MAR      ...       32.418633 -2.184975e+09\n",
       "\n",
       "[5 rows x 8 columns]"
      ]
     },
     "execution_count": 25,
     "metadata": {},
     "output_type": "execute_result"
    }
   ],
   "source": [
    "# y_pred_test_feen\n",
    "# s=pd.DataFrame({'Balance':y_pred_test_feen})\n",
    "test1.to_excel('2foldcb8.xlsx',index=False)\n",
    "test1.head()"
   ]
  },
  {
   "cell_type": "code",
   "execution_count": 26,
   "metadata": {
    "_uuid": "aa47495ec0bc3f50e255d597dfd093c21ab0092a"
   },
   "outputs": [],
   "source": [
    "# cat_model = CatBoostRegressor(n_estimators=1000, # use large n_estimators deliberately to make use of the early stopping\n",
    "# #                          reg_lambda=1.0,\n",
    "# #                          l2_leaf_reg=4.0,\n",
    "#                          eval_metric='RMSE',\n",
    "#                          random_seed=1994,\n",
    "# #                          learning_rate = 0.05,\n",
    "# #                          depth = 8,\n",
    "                               \n",
    "# #                                boosting_type = 'Ordered',\n",
    "# #                          subsample = 0.8\n",
    "#                          #rsm = 0.7,\n",
    "#                          #silent=True,\n",
    "#                          #max_ctr_complexity = 5,  # no of categorical cols combined\n",
    "# #                          boosting_type = 'Ordered',\n",
    "# #                          od_type = 'IncToDec',  #overfitting params\n",
    "# #                          od_wait = 20)\n",
    "#                          #bagging_temperature = 1.0)\n",
    "#                               )\n",
    "# # lr=0.05, no od type of vars -- highest\n",
    "    \n",
    "# cat_model.fit(X_train.values,y_train.values,cat_features=categorical_features_indices,eval_set=(X_val, y_val),\n",
    "#         plot=False,early_stopping_rounds=100,use_best_model=True) "
   ]
  },
  {
   "cell_type": "code",
   "execution_count": 27,
   "metadata": {
    "_uuid": "890521a7abef67ab3b21bf40e12a48cef0fe5f6e"
   },
   "outputs": [],
   "source": [
    "# sorted(zip(cat_model.feature_importances_,X_train),reverse=True)"
   ]
  },
  {
   "cell_type": "code",
   "execution_count": 28,
   "metadata": {
    "_uuid": "e77d9fd3b6b23985f077e21053515b199104b491"
   },
   "outputs": [],
   "source": [
    "\n",
    "# X,y=train1.drop(['Unnamed: 0','Balance'],axis=1),train1['Balance']\n",
    "# Xtest=test.drop(['Unnamed: 0'],axis=1)"
   ]
  },
  {
   "cell_type": "code",
   "execution_count": 29,
   "metadata": {
    "_uuid": "219bf93773a65ad32f2871f39344bf6219b7fd47"
   },
   "outputs": [],
   "source": [
    "# cat_model.fit(X,y,cat_features=categorical_features_indices,eval_set=(X, y),\n",
    "#         plot=False,early_stopping_rounds=100,use_best_model=True)\n",
    "# y_pred=cat_model.predict(Xtest)"
   ]
  },
  {
   "cell_type": "code",
   "execution_count": 30,
   "metadata": {
    "_uuid": "29359d4f4de32d0c3d59e3a3a119063ba227e4c9"
   },
   "outputs": [],
   "source": [
    "# test.shape"
   ]
  },
  {
   "cell_type": "code",
   "execution_count": 31,
   "metadata": {
    "_uuid": "178af9b2ce9886f6aca3dae989777961ecb5ae56"
   },
   "outputs": [],
   "source": [
    "# s=test['Unnamed: 0']\n",
    "# s['Balance']=y_pred\n",
    "# test\n",
    "# np.power(y_pred,3)"
   ]
  },
  {
   "cell_type": "code",
   "execution_count": 32,
   "metadata": {
    "_uuid": "b49fe46095703a5f33e95956e549bf26ca56b63e"
   },
   "outputs": [],
   "source": [
    "# s=pd.DataFrame({'Balance':y_pred})\n",
    "# s.head()\n",
    "# # s.to_csv('catboost1.csv',index=False) --main 62 max depth-8 lr-0.1\n",
    "# # s.to_excel('catboost8_4folds.xlsx',index=False) #--nope"
   ]
  },
  {
   "cell_type": "code",
   "execution_count": 33,
   "metadata": {
    "_uuid": "ec50d3be1c427f59ebad8839eabe277de1b50f06",
    "collapsed": true
   },
   "outputs": [],
   "source": [
    "# s.to_excel('s7.xlsx',index=False)"
   ]
  },
  {
   "cell_type": "code",
   "execution_count": 34,
   "metadata": {
    "_uuid": "ddf50c4cf98747835e33e01e265de95e2501add4"
   },
   "outputs": [],
   "source": [
    "# sns.distplot(np.power(y_pred,3))"
   ]
  },
  {
   "cell_type": "code",
   "execution_count": 35,
   "metadata": {
    "_uuid": "0cfe0b2ce3c0d945ae8962aee5664363ca8bbba0"
   },
   "outputs": [],
   "source": [
    "# sns.distplot(train1['Balance'])"
   ]
  },
  {
   "cell_type": "code",
   "execution_count": 36,
   "metadata": {
    "_uuid": "7664e5c463748d7e49f3b5650e3a560513780d3b"
   },
   "outputs": [],
   "source": []
  }
 ],
 "metadata": {
  "kernelspec": {
   "display_name": "Python 3",
   "language": "python",
   "name": "python3"
  },
  "language_info": {
   "codemirror_mode": {
    "name": "ipython",
    "version": 3
   },
   "file_extension": ".py",
   "mimetype": "text/x-python",
   "name": "python",
   "nbconvert_exporter": "python",
   "pygments_lexer": "ipython3",
   "version": "3.6.8"
  }
 },
 "nbformat": 4,
 "nbformat_minor": 1
}
