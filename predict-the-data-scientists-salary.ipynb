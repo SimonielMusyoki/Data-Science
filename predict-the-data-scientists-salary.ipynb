{
 "cells": [
  {
   "cell_type": "code",
   "execution_count": null,
   "metadata": {
    "_cell_guid": "b1076dfc-b9ad-4769-8c92-a6c4dae69d19",
    "_uuid": "8f2839f25d086af736a60e9eeb907d3b93b6e0e5"
   },
   "outputs": [],
   "source": [
    "# This Python 3 environment comes with many helpful analytics libraries installed\n",
    "# It is defined by the kaggle/python docker image: https://github.com/kaggle/docker-python\n",
    "# For example, here's several helpful packages to load in \n",
    "\n",
    "import numpy as np # linear algebra\n",
    "import pandas as pd # data processing, CSV file I/O (e.g. pd.read_csv)\n",
    "\n",
    "# Input data files are available in the \"../input/\" directory.\n",
    "# For example, running this (by clicking run or pressing Shift+Enter) will list the files in the input directory\n",
    "import numpy as np\n",
    "import pandas as pd\n",
    "import seaborn as sns\n",
    "import matplotlib.pyplot as plt\n",
    "%matplotlib inline\n",
    "from matplotlib.pylab import rcParams\n",
    "rcParams['figure.figsize'] = 12, 8\n",
    "import os\n",
    "print(os.listdir(\"../input/predict-the-data-scientists-salary-in-india-hackathon\"))\n",
    "\n",
    "# Any results you write to the current directory are saved as output."
   ]
  },
  {
   "cell_type": "code",
   "execution_count": null,
   "metadata": {
    "_cell_guid": "79c7e3d0-c299-4dcb-8224-4455121ee9b0",
    "_uuid": "d629ff2d2480ee46fbb7e2d37f6b5fab8052498a"
   },
   "outputs": [],
   "source": [
    "train=pd.read_csv('../input/predict-the-data-scientists-salary-in-india-hackathon/Final_Train_Dataset.csv')\n",
    "test=pd.read_csv('../input/predict-the-data-scientists-salary-in-india-hackathon/Final_Test_Dataset.csv')\n",
    "train.head()"
   ]
  },
  {
   "cell_type": "code",
   "execution_count": null,
   "metadata": {
    "_uuid": "b41b729bfcec9b6504a6e51200bc197da7ef243a"
   },
   "outputs": [],
   "source": [
    "train.company_name_encoded.nunique()\n",
    "train.shape"
   ]
  },
  {
   "cell_type": "code",
   "execution_count": null,
   "metadata": {
    "_uuid": "c81bd225913817a1cacbe3c0ddfa5aca94030b19"
   },
   "outputs": [],
   "source": [
    "train.salary.value_counts()\n",
    "print(1)\n",
    "print(2)"
   ]
  },
  {
   "cell_type": "code",
   "execution_count": null,
   "metadata": {
    "_uuid": "1b218f639d614a9aefeda929f659aee5f89a9bcd"
   },
   "outputs": [],
   "source": [
    "# target=pd.get_dummies(train.salary)"
   ]
  },
  {
   "cell_type": "code",
   "execution_count": null,
   "metadata": {
    "_uuid": "2df2d12d1ddd878a0417d92603aad01947f722b9"
   },
   "outputs": [],
   "source": [
    "test.head()"
   ]
  },
  {
   "cell_type": "code",
   "execution_count": null,
   "metadata": {
    "_uuid": "b877ae946dac54dc368c2f121f7d77f86a9572ec"
   },
   "outputs": [],
   "source": [
    "# train.experience.apply(lambda x:x.split(\"-\"))\n",
    "train.job_type.value_counts()"
   ]
  },
  {
   "cell_type": "code",
   "execution_count": null,
   "metadata": {
    "_uuid": "5d1791fb167a8a1b168570a848bda7f42dde9e6f"
   },
   "outputs": [],
   "source": [
    "df=train.copy()\n",
    "\n",
    "df.job_description.fillna('None',inplace=True)\n",
    "df.key_skills.fillna('None',inplace=True)\n",
    "def exp1(val):\n",
    "    v=val.split(\" \")[0].split(\"-\")\n",
    "    v1,v2=int(v[0]),int(v[1])\n",
    "    return (v1+v2)/2\n",
    "df['exp']=df.experience.apply(exp1)\n",
    "df['key_skill_len']=df.key_skills.apply(lambda x:len(x.split(\",\")))\n",
    "\n",
    "\n",
    "df['exp_low']=df.experience.apply(lambda x:int(x.split(\"-\")[0]))\n",
    "df['exp_high']=df.experience.apply(lambda x:int(x.split(\"-\")[1].split(\" \")[0]))\n",
    "\n",
    "\n",
    "df['jdescLen']=df.job_description.apply(len)\n",
    "df['jdsgnLen']=df.job_desig.apply(len)\n",
    "df['locationLen']=df.location.apply(lambda x:len(x.split(\",\")))\n",
    "\n",
    "df.drop(['job_type','Unnamed: 0','experience'],axis=1,inplace=True)\n",
    "target=df.salary\n",
    "# target=pd.get_dummies(train.salary)"
   ]
  },
  {
   "cell_type": "code",
   "execution_count": null,
   "metadata": {
    "_uuid": "352b70a3c25c8e21ed19003cd6cbfe8c08484281"
   },
   "outputs": [],
   "source": [
    "df.head()"
   ]
  },
  {
   "cell_type": "code",
   "execution_count": null,
   "metadata": {
    "_uuid": "726404c0f8c66b0f94323feffacb7e7c36688d5e"
   },
   "outputs": [],
   "source": [
    "df.isnull().sum()\n",
    "# df.columns"
   ]
  },
  {
   "cell_type": "code",
   "execution_count": null,
   "metadata": {
    "_uuid": "6024af58df8a38188fff6c47b242496faae071d4"
   },
   "outputs": [],
   "source": [
    "from sklearn.feature_extraction.text import CountVectorizer,TfidfVectorizer\n",
    "cv_jb = TfidfVectorizer(ngram_range=(1,3),stop_words=\"english\", analyzer='word')\n",
    "jb =cv_jb.fit_transform(df['job_description'])\n",
    "\n",
    "cv_jd = TfidfVectorizer(ngram_range=(1,2),stop_words=\"english\", analyzer='word')\n",
    "jd =cv_jd.fit_transform(df['job_desig'])\n",
    "\n",
    "cv_key = TfidfVectorizer(ngram_range=(1,3),stop_words=\"english\", analyzer='word')\n",
    "ks =cv_key.fit_transform(df['key_skills'])\n",
    "\n",
    "cv_jbchar = TfidfVectorizer(ngram_range=(1,9),stop_words=\"english\", analyzer='char')\n",
    "jbchar =cv_jbchar.fit_transform(df['job_description'])\n",
    "\n",
    "cv_jdchar = TfidfVectorizer(ngram_range=(1,8),stop_words=\"english\", analyzer='char')\n",
    "jdchar =cv_jdchar.fit_transform(df['job_desig'])\n",
    "\n",
    "cv_keychar = TfidfVectorizer(ngram_range=(1,9),stop_words=\"english\", analyzer='char')\n",
    "kschar =cv_keychar.fit_transform(df['key_skills'])\n"
   ]
  },
  {
   "cell_type": "code",
   "execution_count": null,
   "metadata": {
    "_uuid": "2c1699653fe193611fe2c3f00225be23de9bd64c"
   },
   "outputs": [],
   "source": [
    "\n",
    "# loc=np.array(df['location'].values)\n",
    "# loc.append(np.array(test['location'].values),axis=0)\n",
    "loc = np.append(df['location'].values, test['location'].values, axis=0)\n",
    "loc"
   ]
  },
  {
   "cell_type": "code",
   "execution_count": null,
   "metadata": {
    "_uuid": "eff516f6c75e184e2adc6d64496657ff6b3436fa"
   },
   "outputs": [],
   "source": [
    "loc.shape"
   ]
  },
  {
   "cell_type": "code",
   "execution_count": null,
   "metadata": {
    "_uuid": "bc4d37481fecc8c00d663ed4400a2908b74f18d7"
   },
   "outputs": [],
   "source": [
    "from sklearn.preprocessing import LabelEncoder\n",
    "l=LabelEncoder()\n",
    "l.fit(list(set(loc)))\n",
    "df['location']=l.transform(df['location'])\n",
    "\n",
    "\n",
    "tot_comp = np.append(df['company_name_encoded'].values, test['company_name_encoded'].values, axis=0)\n",
    "l_comp=LabelEncoder()\n",
    "l_comp.fit(list(set(tot_comp)))\n",
    "df['company_name_encoded']=l_comp.transform(df['company_name_encoded'])\n",
    "\n"
   ]
  },
  {
   "cell_type": "code",
   "execution_count": null,
   "metadata": {
    "_uuid": "913e6e21863402a5f7dc52e2589012f25ae2abb1"
   },
   "outputs": [],
   "source": [
    "df.columns\n"
   ]
  },
  {
   "cell_type": "code",
   "execution_count": null,
   "metadata": {
    "_uuid": "58ea4f124c9dc761959741e664ec9f163fe718b6"
   },
   "outputs": [],
   "source": [
    "from scipy.sparse import csr_matrix\n",
    "from scipy import sparse\n",
    "final_features = sparse.hstack((df[['location','company_name_encoded','exp','key_skill_len','jdescLen', 'jdsgnLen', 'locationLen']], jb, jd, ks,jbchar, jdchar, kschar)).tocsr()\n",
    "# final_features = sparse.hstack((df[['location','company_name_encoded','exp','key_skill_len']], jb, jd, ks)).tocsr()"
   ]
  },
  {
   "cell_type": "code",
   "execution_count": null,
   "metadata": {
    "_uuid": "48e0917da5dcf306a952ba79562a6d69b3bfa151"
   },
   "outputs": [],
   "source": [
    "final_features"
   ]
  },
  {
   "cell_type": "code",
   "execution_count": null,
   "metadata": {
    "_uuid": "d2680fec40b3ecc2556451126e9ace9ff8692a21"
   },
   "outputs": [],
   "source": [
    "dftest=test.copy()\n",
    "\n",
    "dftest.job_description.fillna('None',inplace=True)\n",
    "dftest.key_skills.fillna('None',inplace=True)\n",
    "def exp1(val):\n",
    "    v=val.split(\" \")[0].split(\"-\")\n",
    "    v1,v2=int(v[0]),int(v[1])\n",
    "    return (v1+v2)/2\n",
    "dftest['exp']=dftest.experience.apply(exp1)\n",
    "dftest['key_skill_len']=dftest.key_skills.apply(lambda x:len(x.split(\",\")))\n",
    "\n",
    "dftest['exp_low']=dftest.experience.apply(lambda x:int(x.split(\"-\")[0]))\n",
    "dftest['exp_high']=dftest.experience.apply(lambda x:int(x.split(\"-\")[1].split(\" \")[0]))\n",
    "\n",
    "jb_t =cv_jb.transform(dftest['job_description'])\n",
    "jd_t =cv_jd.transform(dftest['job_desig'])\n",
    "ks_t =cv_key.transform(dftest['key_skills'])\n",
    "\n",
    "jb_tchar =cv_jbchar.transform(dftest['job_description'])\n",
    "jd_tchar =cv_jdchar.transform(dftest['job_desig'])\n",
    "ks_tchar =cv_keychar.transform(dftest['key_skills'])\n",
    "\n",
    "\n",
    "dftest['location']=l.transform(dftest['location'])\n",
    "dftest['company_name_encoded']=l_comp.transform(dftest['company_name_encoded'])\n",
    "\n",
    "dftest['jdescLen']=dftest.job_description.apply(len)\n",
    "dftest['jdsgnLen']=dftest.job_desig.apply(len)\n",
    "dftest['locationLen']=dftest.location.astype(str).apply(lambda x:len(x.split(\",\")))\n",
    "dftest.drop(['job_type','experience'],axis=1,inplace=True)\n",
    "\n",
    "\n",
    "final_features_t = sparse.hstack((dftest[['location','company_name_encoded','exp','key_skill_len','jdescLen', 'jdsgnLen', 'locationLen']], jb_t, jd_t, ks_t,jb_tchar, jd_tchar, ks_tchar)).tocsr()\n",
    "# final_features_t = sparse.hstack((dftest[['location','company_name_encoded','exp','key_skill_len']], jb_t, jd_t, ks_t)).tocsr()"
   ]
  },
  {
   "cell_type": "code",
   "execution_count": null,
   "metadata": {
    "_uuid": "f1cbdaa8a5e2dfc97cb703edc63562e3ce027f59"
   },
   "outputs": [],
   "source": [
    "final_features_t"
   ]
  },
  {
   "cell_type": "code",
   "execution_count": null,
   "metadata": {
    "_uuid": "72b6f4de5a4cc1aa5fc00bf668dff2027c06d764"
   },
   "outputs": [],
   "source": [
    "from sklearn.model_selection import train_test_split\n",
    "from sklearn.metrics import accuracy_score\n",
    "X_train,X_val,y_train,y_val = train_test_split(final_features,target,test_size=0.25,random_state = 1994)"
   ]
  },
  {
   "cell_type": "code",
   "execution_count": null,
   "metadata": {
    "_uuid": "cea8e17c14f73c32481752edbee28b54761bdc01"
   },
   "outputs": [],
   "source": [
    "from sklearn import metrics\n",
    "from sklearn.naive_bayes import MultinomialNB\n",
    "from sklearn.linear_model import LogisticRegression\n",
    "from sklearn.ensemble import RandomForestClassifier\n",
    "from catboost import CatBoostClassifier\n",
    "from sklearn.multiclass import OneVsRestClassifier\n",
    "from sklearn.svm import SVC\n",
    "def train_model(classifier, train_X, train_y, test_X, test_y):\n",
    "    # fit the training dataset on the classifier\n",
    "    classifier.fit(train_X, train_y)\n",
    "    \n",
    "    # predict the labels on validation dataset\n",
    "    predictions = classifier.predict(test_X)\n",
    "    \n",
    "    return metrics.accuracy_score(predictions, test_y)"
   ]
  },
  {
   "cell_type": "code",
   "execution_count": null,
   "metadata": {
    "_uuid": "095982bbc826ab3e55becc7db8410f2df03c28df"
   },
   "outputs": [],
   "source": [
    "import xgboost\n",
    "# accuracy = train_model(xgboost.XGBClassifier(verbose=True), X_train.tocsc(), y_train, X_val.tocsc(),y_val)\n",
    "# print( \"Xgb, Count Vectors: \", accuracy)"
   ]
  },
  {
   "cell_type": "code",
   "execution_count": null,
   "metadata": {
    "_uuid": "b9753ee5e4449bac33f1bd591c1686fd152bb673"
   },
   "outputs": [],
   "source": [
    "\n",
    "\n",
    "# lr=LogisticRegression(class_weight='balanced',C=2,random_state=1994,n_jobs=-1)\n",
    "# lr.fit(X_train,y_train)\n",
    "# lrpred=lr.predict(X_val)\n",
    "# print(accuracy_score(y_val,lrpred))"
   ]
  },
  {
   "cell_type": "code",
   "execution_count": null,
   "metadata": {
    "_uuid": "adfe1a75997444b0fee6155156fb27bc9ea747b4",
    "scrolled": true
   },
   "outputs": [],
   "source": [
    "# xgb=xgboost.XGBClassifier()\n",
    "\n",
    "# # eval_set = [(X_train.tocsc(), y_train),(X_val.tocsc(), y_val)]\n",
    "# # xgb.fit(X_train.tocsc(), y_train, eval_metric=\"mlogloss\", eval_set=eval_set, verbose=True,early_stopping_rounds=50)\n",
    "# # # make predictions for test data\n",
    "\n",
    "# xgb.fit(X_train.tocsc(),y_train)\n",
    "# xgbpred=xgb.predict(X_val.tocsc())\n",
    "# print(accuracy_score(y_val,xgbpred))"
   ]
  },
  {
   "cell_type": "code",
   "execution_count": null,
   "metadata": {
    "_uuid": "c6c751c359391b2fdfacd87813423cde040f0adb"
   },
   "outputs": [],
   "source": [
    "# xgb=xgboost.XGBClassifier()\n",
    "\n",
    "# # eval_set = [(X_train.tocsc(), y_train),(X_val.tocsc(), y_val)]\n",
    "# # xgb.fit(X_train.tocsc(), y_train, eval_metric=\"mlogloss\", eval_set=eval_set, verbose=True,early_stopping_rounds=50)\n",
    "# # # make predictions for test data\n",
    "\n",
    "# xgb.fit(X_train.tocsc(),y_train)\n",
    "# xgbpred=xgb.predict(X_val.tocsc())\n",
    "# print(accuracy_score(y_val,xgbpred))"
   ]
  },
  {
   "cell_type": "code",
   "execution_count": null,
   "metadata": {
    "_uuid": "512380374ec415d4943558244576e7b6cf33f9d7"
   },
   "outputs": [],
   "source": [
    "# from sklearn.ensemble import RandomForestClassifier\n",
    "# rf=RandomForestClassifier()\n",
    "# rf.fit(X_train,y_train)\n",
    "# rfpred=rf.predict(X_val)\n",
    "# print(accuracy_score(y_val,rfpred))"
   ]
  },
  {
   "cell_type": "code",
   "execution_count": null,
   "metadata": {
    "_uuid": "96ba1382abfd4dd200edd3512032397c630c9a17"
   },
   "outputs": [],
   "source": [
    "from sklearn.naive_bayes import MultinomialNB\n",
    "from sklearn.linear_model import LogisticRegression\n",
    "from sklearn.ensemble import RandomForestClassifier\n",
    "from catboost import CatBoostClassifier\n",
    "\n",
    "# mb=MultinomialNB(alpha=0.5)\n",
    "# mb.fit(final_features,target)\n",
    "# mbpred=mb.predict(final_features_t)\n",
    "\n",
    "# lr=LogisticRegression(class_weight='balanced',C=2,random_state=1994,n_jobs=-1)\n",
    "# lr.fit(final_features,target)\n",
    "# lrpred=lr.predict(final_features_t)\n",
    "\n",
    "xgb=xgboost.XGBClassifier(verbose=True,n_jobs=-1)\n",
    "xgb.fit(final_features.tocsc(),target)\n",
    "xgbpred=xgb.predict(final_features_t.tocsc())\n",
    "# rf=RandomForestClassifier(n_estimators=200)\n",
    "# rf.fit(final_features,target)\n",
    "# rfpred=rf.predict(final_features_t)\n",
    "\n",
    "# cb=CatBoostClassifier()\n",
    "# cb.fit(final_features,target)\n",
    "# cbpred=cb.predict(final_features_t)\n",
    "\n"
   ]
  },
  {
   "cell_type": "code",
   "execution_count": null,
   "metadata": {
    "_uuid": "53121ebb14e7c14252b7ab6045d8ec8b0475e4ca"
   },
   "outputs": [],
   "source": [
    "xgbpred"
   ]
  },
  {
   "cell_type": "code",
   "execution_count": null,
   "metadata": {
    "_uuid": "f725454c4f6e0f1e6905d770d2ae7c3a2fd62c62"
   },
   "outputs": [],
   "source": [
    "s=pd.DataFrame({'company_name_encoded':test.company_name_encoded,'salary':xgbpred})\n",
    "s.head()\n",
    "s.to_excel('xgbbase9.xlsx',index=False)"
   ]
  },
  {
   "cell_type": "code",
   "execution_count": null,
   "metadata": {
    "_uuid": "0c4de7baa563e968309fa417922ac27f373dc2a1"
   },
   "outputs": [],
   "source": [
    "# s['salary']=lrpred\n",
    "# s.to_excel('lr.xlsx',index=False)\n",
    "\n",
    "# s['salary']=rfpred\n",
    "# s.to_excel('rf.xlsx',index=False)"
   ]
  }
 ],
 "metadata": {
  "kernelspec": {
   "display_name": "Python 3",
   "language": "python",
   "name": "python3"
  },
  "language_info": {
   "codemirror_mode": {
    "name": "ipython",
    "version": 3
   },
   "file_extension": ".py",
   "mimetype": "text/x-python",
   "name": "python",
   "nbconvert_exporter": "python",
   "pygments_lexer": "ipython3",
   "version": "3.6.8"
  }
 },
 "nbformat": 4,
 "nbformat_minor": 1
}
